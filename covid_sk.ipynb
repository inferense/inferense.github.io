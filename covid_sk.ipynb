{
 "cells": [
  {
   "cell_type": "code",
   "execution_count": 230,
   "metadata": {},
   "outputs": [],
   "source": [
    "%matplotlib inline\n",
    "import matplotlib.pyplot as plt\n",
    "import plotly.express as px\n",
    "import pandas as pd \n",
    "import numpy as np "
   ]
  },
  {
   "cell_type": "code",
   "execution_count": 231,
   "metadata": {},
   "outputs": [],
   "source": [
    "data=pd.read_csv('data.csv', parse_dates=True)"
   ]
  },
  {
   "cell_type": "code",
   "execution_count": 232,
   "metadata": {},
   "outputs": [],
   "source": [
    "data['Rychlost_sirenia_%']=data['Rychlost_sirenia_%'].apply(lambda x: x*100)"
   ]
  },
  {
   "cell_type": "code",
   "execution_count": 236,
   "metadata": {},
   "outputs": [
    {
     "data": {
      "text/html": [
       "<div>\n",
       "<style scoped>\n",
       "    .dataframe tbody tr th:only-of-type {\n",
       "        vertical-align: middle;\n",
       "    }\n",
       "\n",
       "    .dataframe tbody tr th {\n",
       "        vertical-align: top;\n",
       "    }\n",
       "\n",
       "    .dataframe thead th {\n",
       "        text-align: right;\n",
       "    }\n",
       "</style>\n",
       "<table border=\"1\" class=\"dataframe\">\n",
       "  <thead>\n",
       "    <tr style=\"text-align: right;\">\n",
       "      <th></th>\n",
       "      <th>Aktivni_celkom</th>\n",
       "      <th>Rychlost_sirenia_%</th>\n",
       "      <th>Sila_sirenia</th>\n",
       "    </tr>\n",
       "  </thead>\n",
       "  <tbody>\n",
       "    <tr>\n",
       "      <td>count</td>\n",
       "      <td>70.000000</td>\n",
       "      <td>70.000000</td>\n",
       "      <td>70.000000</td>\n",
       "    </tr>\n",
       "    <tr>\n",
       "      <td>mean</td>\n",
       "      <td>47.209714</td>\n",
       "      <td>35.185714</td>\n",
       "      <td>28.696143</td>\n",
       "    </tr>\n",
       "    <tr>\n",
       "      <td>std</td>\n",
       "      <td>47.372068</td>\n",
       "      <td>42.925717</td>\n",
       "      <td>28.856307</td>\n",
       "    </tr>\n",
       "    <tr>\n",
       "      <td>min</td>\n",
       "      <td>0.450000</td>\n",
       "      <td>-61.000000</td>\n",
       "      <td>0.130000</td>\n",
       "    </tr>\n",
       "    <tr>\n",
       "      <td>25%</td>\n",
       "      <td>6.177500</td>\n",
       "      <td>6.250000</td>\n",
       "      <td>3.710000</td>\n",
       "    </tr>\n",
       "    <tr>\n",
       "      <td>50%</td>\n",
       "      <td>35.475000</td>\n",
       "      <td>27.000000</td>\n",
       "      <td>21.280000</td>\n",
       "    </tr>\n",
       "    <tr>\n",
       "      <td>75%</td>\n",
       "      <td>74.800000</td>\n",
       "      <td>57.750000</td>\n",
       "      <td>47.767500</td>\n",
       "    </tr>\n",
       "    <tr>\n",
       "      <td>max</td>\n",
       "      <td>167.780000</td>\n",
       "      <td>150.000000</td>\n",
       "      <td>105.000000</td>\n",
       "    </tr>\n",
       "  </tbody>\n",
       "</table>\n",
       "</div>"
      ],
      "text/plain": [
       "       Aktivni_celkom  Rychlost_sirenia_%  Sila_sirenia\n",
       "count       70.000000           70.000000     70.000000\n",
       "mean        47.209714           35.185714     28.696143\n",
       "std         47.372068           42.925717     28.856307\n",
       "min          0.450000          -61.000000      0.130000\n",
       "25%          6.177500            6.250000      3.710000\n",
       "50%         35.475000           27.000000     21.280000\n",
       "75%         74.800000           57.750000     47.767500\n",
       "max        167.780000          150.000000    105.000000"
      ]
     },
     "execution_count": 236,
     "metadata": {},
     "output_type": "execute_result"
    }
   ],
   "source": [
    "data.describe()"
   ]
  },
  {
   "cell_type": "code",
   "execution_count": 244,
   "metadata": {},
   "outputs": [],
   "source": [
    "data['Date']=pd.to_datetime(data['Date'], errors='coerce')\n",
    "data=data.sort_values(by=['Date'])\n",
    "data['Date']=data.Date.apply(lambda x: x.date()).apply(str)"
   ]
  },
  {
   "cell_type": "code",
   "execution_count": 245,
   "metadata": {},
   "outputs": [
    {
     "data": {
      "text/html": [
       "<div>\n",
       "<style scoped>\n",
       "    .dataframe tbody tr th:only-of-type {\n",
       "        vertical-align: middle;\n",
       "    }\n",
       "\n",
       "    .dataframe tbody tr th {\n",
       "        vertical-align: top;\n",
       "    }\n",
       "\n",
       "    .dataframe thead th {\n",
       "        text-align: right;\n",
       "    }\n",
       "</style>\n",
       "<table border=\"1\" class=\"dataframe\">\n",
       "  <thead>\n",
       "    <tr style=\"text-align: right;\">\n",
       "      <th></th>\n",
       "      <th>Date</th>\n",
       "      <th>Region</th>\n",
       "      <th>Aktivni_celkom</th>\n",
       "      <th>Rychlost_sirenia_%</th>\n",
       "      <th>Sila_sirenia</th>\n",
       "    </tr>\n",
       "  </thead>\n",
       "  <tbody>\n",
       "    <tr>\n",
       "      <td>69</td>\n",
       "      <td>2020-09-26</td>\n",
       "      <td>Uherské Hradište</td>\n",
       "      <td>15.61</td>\n",
       "      <td>5.0</td>\n",
       "      <td>8.04</td>\n",
       "    </tr>\n",
       "    <tr>\n",
       "      <td>56</td>\n",
       "      <td>2020-09-26</td>\n",
       "      <td>Tvrdošín</td>\n",
       "      <td>16.11</td>\n",
       "      <td>6.0</td>\n",
       "      <td>10.08</td>\n",
       "    </tr>\n",
       "    <tr>\n",
       "      <td>57</td>\n",
       "      <td>2020-09-26</td>\n",
       "      <td>Námestovo</td>\n",
       "      <td>13.73</td>\n",
       "      <td>5.0</td>\n",
       "      <td>8.32</td>\n",
       "    </tr>\n",
       "    <tr>\n",
       "      <td>58</td>\n",
       "      <td>2020-09-26</td>\n",
       "      <td>Bardejov</td>\n",
       "      <td>12.59</td>\n",
       "      <td>5.0</td>\n",
       "      <td>7.54</td>\n",
       "    </tr>\n",
       "    <tr>\n",
       "      <td>59</td>\n",
       "      <td>2020-09-26</td>\n",
       "      <td>Dolný Kubín</td>\n",
       "      <td>13.93</td>\n",
       "      <td>11.0</td>\n",
       "      <td>9.45</td>\n",
       "    </tr>\n",
       "    <tr>\n",
       "      <td>...</td>\n",
       "      <td>...</td>\n",
       "      <td>...</td>\n",
       "      <td>...</td>\n",
       "      <td>...</td>\n",
       "      <td>...</td>\n",
       "    </tr>\n",
       "    <tr>\n",
       "      <td>11</td>\n",
       "      <td>2020-10-24</td>\n",
       "      <td>Bratislava</td>\n",
       "      <td>21.23</td>\n",
       "      <td>15.0</td>\n",
       "      <td>11.36</td>\n",
       "    </tr>\n",
       "    <tr>\n",
       "      <td>12</td>\n",
       "      <td>2020-10-24</td>\n",
       "      <td>Praha</td>\n",
       "      <td>117.42</td>\n",
       "      <td>124.0</td>\n",
       "      <td>71.35</td>\n",
       "    </tr>\n",
       "    <tr>\n",
       "      <td>13</td>\n",
       "      <td>2020-10-24</td>\n",
       "      <td>Uherské Hradište</td>\n",
       "      <td>162.60</td>\n",
       "      <td>49.0</td>\n",
       "      <td>83.79</td>\n",
       "    </tr>\n",
       "    <tr>\n",
       "      <td>7</td>\n",
       "      <td>2020-10-24</td>\n",
       "      <td>Čadca</td>\n",
       "      <td>53.33</td>\n",
       "      <td>133.0</td>\n",
       "      <td>37.33</td>\n",
       "    </tr>\n",
       "    <tr>\n",
       "      <td>0</td>\n",
       "      <td>2020-10-24</td>\n",
       "      <td>Tvrdošín</td>\n",
       "      <td>167.78</td>\n",
       "      <td>67.0</td>\n",
       "      <td>105.00</td>\n",
       "    </tr>\n",
       "  </tbody>\n",
       "</table>\n",
       "<p>70 rows × 5 columns</p>\n",
       "</div>"
      ],
      "text/plain": [
       "          Date            Region  Aktivni_celkom  Rychlost_sirenia_%  \\\n",
       "69  2020-09-26  Uherské Hradište           15.61                 5.0   \n",
       "56  2020-09-26          Tvrdošín           16.11                 6.0   \n",
       "57  2020-09-26         Námestovo           13.73                 5.0   \n",
       "58  2020-09-26          Bardejov           12.59                 5.0   \n",
       "59  2020-09-26       Dolný Kubín           13.93                11.0   \n",
       "..         ...               ...             ...                 ...   \n",
       "11  2020-10-24        Bratislava           21.23                15.0   \n",
       "12  2020-10-24             Praha          117.42               124.0   \n",
       "13  2020-10-24  Uherské Hradište          162.60                49.0   \n",
       "7   2020-10-24             Čadca           53.33               133.0   \n",
       "0   2020-10-24          Tvrdošín          167.78                67.0   \n",
       "\n",
       "    Sila_sirenia  \n",
       "69          8.04  \n",
       "56         10.08  \n",
       "57          8.32  \n",
       "58          7.54  \n",
       "59          9.45  \n",
       "..           ...  \n",
       "11         11.36  \n",
       "12         71.35  \n",
       "13         83.79  \n",
       "7          37.33  \n",
       "0         105.00  \n",
       "\n",
       "[70 rows x 5 columns]"
      ]
     },
     "execution_count": 245,
     "metadata": {},
     "output_type": "execute_result"
    }
   ],
   "source": [
    "data"
   ]
  },
  {
   "cell_type": "code",
   "execution_count": 246,
   "metadata": {},
   "outputs": [
    {
     "data": {
      "application/vnd.plotly.v1+json": {
       "config": {
        "plotlyServerURL": "https://plot.ly"
       },
       "data": [
        {
         "hoverlabel": {
          "namelength": 0
         },
         "hovertemplate": "<b>%{hovertext}</b><br><br>Region=%{text}<br>Date=2020-10-24<br>Rychlost_sirenia_%=%{x}<br>Sila_sirenia=%{y}<br>Aktivni_celkom=%{marker.size}",
         "hovertext": [
          "Uherské Hradište"
         ],
         "ids": [
          "Uherské Hradište"
         ],
         "legendgroup": "Region=Uherské Hradište",
         "marker": {
          "color": "#636efa",
          "size": [
           162.6
          ],
          "sizemode": "area",
          "sizeref": 0.067112,
          "symbol": "circle"
         },
         "mode": "markers+text",
         "name": "Region=Uherské Hradište",
         "showlegend": true,
         "text": [
          "Uherské Hradište"
         ],
         "type": "scatter",
         "x": [
          49
         ],
         "xaxis": "x",
         "y": [
          83.79
         ],
         "yaxis": "y"
        },
        {
         "hoverlabel": {
          "namelength": 0
         },
         "hovertemplate": "<b>%{hovertext}</b><br><br>Region=%{text}<br>Date=2020-10-24<br>Rychlost_sirenia_%=%{x}<br>Sila_sirenia=%{y}<br>Aktivni_celkom=%{marker.size}",
         "hovertext": [
          "Tvrdošín"
         ],
         "ids": [
          "Tvrdošín"
         ],
         "legendgroup": "Region=Tvrdošín",
         "marker": {
          "color": "#EF553B",
          "size": [
           167.78
          ],
          "sizemode": "area",
          "sizeref": 0.067112,
          "symbol": "circle"
         },
         "mode": "markers+text",
         "name": "Region=Tvrdošín",
         "showlegend": true,
         "text": [
          "Tvrdošín"
         ],
         "type": "scatter",
         "x": [
          67
         ],
         "xaxis": "x",
         "y": [
          105
         ],
         "yaxis": "y"
        },
        {
         "hoverlabel": {
          "namelength": 0
         },
         "hovertemplate": "<b>%{hovertext}</b><br><br>Region=%{text}<br>Date=2020-10-24<br>Rychlost_sirenia_%=%{x}<br>Sila_sirenia=%{y}<br>Aktivni_celkom=%{marker.size}",
         "hovertext": [
          "Námestovo"
         ],
         "ids": [
          "Námestovo"
         ],
         "legendgroup": "Region=Námestovo",
         "marker": {
          "color": "#00cc96",
          "size": [
           143.02
          ],
          "sizemode": "area",
          "sizeref": 0.067112,
          "symbol": "circle"
         },
         "mode": "markers+text",
         "name": "Region=Námestovo",
         "showlegend": true,
         "text": [
          "Námestovo"
         ],
         "type": "scatter",
         "x": [
          54
         ],
         "xaxis": "x",
         "y": [
          86.67
         ],
         "yaxis": "y"
        },
        {
         "hoverlabel": {
          "namelength": 0
         },
         "hovertemplate": "<b>%{hovertext}</b><br><br>Region=%{text}<br>Date=2020-10-24<br>Rychlost_sirenia_%=%{x}<br>Sila_sirenia=%{y}<br>Aktivni_celkom=%{marker.size}",
         "hovertext": [
          "Bardejov"
         ],
         "ids": [
          "Bardejov"
         ],
         "legendgroup": "Region=Bardejov",
         "marker": {
          "color": "#ab63fa",
          "size": [
           131.15
          ],
          "sizemode": "area",
          "sizeref": 0.067112,
          "symbol": "circle"
         },
         "mode": "markers+text",
         "name": "Region=Bardejov",
         "showlegend": true,
         "text": [
          "Bardejov"
         ],
         "type": "scatter",
         "x": [
          50
         ],
         "xaxis": "x",
         "y": [
          78.59
         ],
         "yaxis": "y"
        },
        {
         "hoverlabel": {
          "namelength": 0
         },
         "hovertemplate": "<b>%{hovertext}</b><br><br>Region=%{text}<br>Date=2020-10-24<br>Rychlost_sirenia_%=%{x}<br>Sila_sirenia=%{y}<br>Aktivni_celkom=%{marker.size}",
         "hovertext": [
          "Dolný Kubín"
         ],
         "ids": [
          "Dolný Kubín"
         ],
         "legendgroup": "Region=Dolný Kubín",
         "marker": {
          "color": "#FFA15A",
          "size": [
           145.06
          ],
          "sizemode": "area",
          "sizeref": 0.067112,
          "symbol": "circle"
         },
         "mode": "markers+text",
         "name": "Region=Dolný Kubín",
         "showlegend": true,
         "text": [
          "Dolný Kubín"
         ],
         "type": "scatter",
         "x": [
          111.00000000000001
         ],
         "xaxis": "x",
         "y": [
          98.48
         ],
         "yaxis": "y"
        },
        {
         "hoverlabel": {
          "namelength": 0
         },
         "hovertemplate": "<b>%{hovertext}</b><br><br>Region=%{text}<br>Date=2020-10-24<br>Rychlost_sirenia_%=%{x}<br>Sila_sirenia=%{y}<br>Aktivni_celkom=%{marker.size}",
         "hovertext": [
          "Liptovský Mikuláš"
         ],
         "ids": [
          "Liptovský Mikuláš"
         ],
         "legendgroup": "Region=Liptovský Mikuláš",
         "marker": {
          "color": "#19d3f3",
          "size": [
           73.75
          ],
          "sizemode": "area",
          "sizeref": 0.067112,
          "symbol": "circle"
         },
         "mode": "markers+text",
         "name": "Region=Liptovský Mikuláš",
         "showlegend": true,
         "text": [
          "Liptovský Mikuláš"
         ],
         "type": "scatter",
         "x": [
          92
         ],
         "xaxis": "x",
         "y": [
          48.47
         ],
         "yaxis": "y"
        },
        {
         "hoverlabel": {
          "namelength": 0
         },
         "hovertemplate": "<b>%{hovertext}</b><br><br>Region=%{text}<br>Date=2020-10-24<br>Rychlost_sirenia_%=%{x}<br>Sila_sirenia=%{y}<br>Aktivni_celkom=%{marker.size}",
         "hovertext": [
          "Sabinov"
         ],
         "ids": [
          "Sabinov"
         ],
         "legendgroup": "Region=Sabinov",
         "marker": {
          "color": "#FF6692",
          "size": [
           68.03
          ],
          "sizemode": "area",
          "sizeref": 0.067112,
          "symbol": "circle"
         },
         "mode": "markers+text",
         "name": "Region=Sabinov",
         "showlegend": true,
         "text": [
          "Sabinov"
         ],
         "type": "scatter",
         "x": [
          77
         ],
         "xaxis": "x",
         "y": [
          43.44
         ],
         "yaxis": "y"
        },
        {
         "hoverlabel": {
          "namelength": 0
         },
         "hovertemplate": "<b>%{hovertext}</b><br><br>Region=%{text}<br>Date=2020-10-24<br>Rychlost_sirenia_%=%{x}<br>Sila_sirenia=%{y}<br>Aktivni_celkom=%{marker.size}",
         "hovertext": [
          "Praha"
         ],
         "ids": [
          "Praha"
         ],
         "legendgroup": "Region=Praha",
         "marker": {
          "color": "#B6E880",
          "size": [
           117.42
          ],
          "sizemode": "area",
          "sizeref": 0.067112,
          "symbol": "circle"
         },
         "mode": "markers+text",
         "name": "Region=Praha",
         "showlegend": true,
         "text": [
          "Praha"
         ],
         "type": "scatter",
         "x": [
          124
         ],
         "xaxis": "x",
         "y": [
          71.35
         ],
         "yaxis": "y"
        },
        {
         "hoverlabel": {
          "namelength": 0
         },
         "hovertemplate": "<b>%{hovertext}</b><br><br>Region=%{text}<br>Date=2020-10-24<br>Rychlost_sirenia_%=%{x}<br>Sila_sirenia=%{y}<br>Aktivni_celkom=%{marker.size}",
         "hovertext": [
          "Čadca"
         ],
         "ids": [
          "Čadca"
         ],
         "legendgroup": "Region=Čadca",
         "marker": {
          "color": "#FF97FF",
          "size": [
           53.33
          ],
          "sizemode": "area",
          "sizeref": 0.067112,
          "symbol": "circle"
         },
         "mode": "markers+text",
         "name": "Region=Čadca",
         "showlegend": true,
         "text": [
          "Čadca"
         ],
         "type": "scatter",
         "x": [
          133
         ],
         "xaxis": "x",
         "y": [
          37.33
         ],
         "yaxis": "y"
        },
        {
         "hoverlabel": {
          "namelength": 0
         },
         "hovertemplate": "<b>%{hovertext}</b><br><br>Region=%{text}<br>Date=2020-10-24<br>Rychlost_sirenia_%=%{x}<br>Sila_sirenia=%{y}<br>Aktivni_celkom=%{marker.size}",
         "hovertext": [
          "Rožňava a Revúca"
         ],
         "ids": [
          "Rožňava a Revúca"
         ],
         "legendgroup": "Region=Rožňava a Revúca",
         "marker": {
          "color": "#FECB52",
          "size": [
           5.49
          ],
          "sizemode": "area",
          "sizeref": 0.067112,
          "symbol": "circle"
         },
         "mode": "markers+text",
         "name": "Region=Rožňava a Revúca",
         "showlegend": true,
         "text": [
          "Rožňava a Revúca"
         ],
         "type": "scatter",
         "x": [
          150
         ],
         "xaxis": "x",
         "y": [
          3.92
         ],
         "yaxis": "y"
        },
        {
         "hoverlabel": {
          "namelength": 0
         },
         "hovertemplate": "<b>%{hovertext}</b><br><br>Region=%{text}<br>Date=2020-10-24<br>Rychlost_sirenia_%=%{x}<br>Sila_sirenia=%{y}<br>Aktivni_celkom=%{marker.size}",
         "hovertext": [
          "Levice"
         ],
         "ids": [
          "Levice"
         ],
         "legendgroup": "Region=Levice",
         "marker": {
          "color": "#636efa",
          "size": [
           6.06
          ],
          "sizemode": "area",
          "sizeref": 0.067112,
          "symbol": "circle"
         },
         "mode": "markers+text",
         "name": "Region=Levice",
         "showlegend": true,
         "text": [
          "Levice"
         ],
         "type": "scatter",
         "x": [
          -14.000000000000002
         ],
         "xaxis": "x",
         "y": [
          2.81
         ],
         "yaxis": "y"
        },
        {
         "hoverlabel": {
          "namelength": 0
         },
         "hovertemplate": "<b>%{hovertext}</b><br><br>Region=%{text}<br>Date=2020-10-24<br>Rychlost_sirenia_%=%{x}<br>Sila_sirenia=%{y}<br>Aktivni_celkom=%{marker.size}",
         "hovertext": [
          "Rimavská Sobota"
         ],
         "ids": [
          "Rimavská Sobota"
         ],
         "legendgroup": "Region=Rimavská Sobota",
         "marker": {
          "color": "#EF553B",
          "size": [
           4.64
          ],
          "sizemode": "area",
          "sizeref": 0.067112,
          "symbol": "circle"
         },
         "mode": "markers+text",
         "name": "Region=Rimavská Sobota",
         "showlegend": true,
         "text": [
          "Rimavská Sobota"
         ],
         "type": "scatter",
         "x": [
          -61
         ],
         "xaxis": "x",
         "y": [
          1.31
         ],
         "yaxis": "y"
        },
        {
         "hoverlabel": {
          "namelength": 0
         },
         "hovertemplate": "<b>%{hovertext}</b><br><br>Region=%{text}<br>Date=2020-10-24<br>Rychlost_sirenia_%=%{x}<br>Sila_sirenia=%{y}<br>Aktivni_celkom=%{marker.size}",
         "hovertext": [
          "Bratislava"
         ],
         "ids": [
          "Bratislava"
         ],
         "legendgroup": "Region=Bratislava",
         "marker": {
          "color": "#00cc96",
          "size": [
           21.23
          ],
          "sizemode": "area",
          "sizeref": 0.067112,
          "symbol": "circle"
         },
         "mode": "markers+text",
         "name": "Region=Bratislava",
         "showlegend": true,
         "text": [
          "Bratislava"
         ],
         "type": "scatter",
         "x": [
          15
         ],
         "xaxis": "x",
         "y": [
          11.36
         ],
         "yaxis": "y"
        },
        {
         "hoverlabel": {
          "namelength": 0
         },
         "hovertemplate": "<b>%{hovertext}</b><br><br>Region=%{text}<br>Date=2020-10-24<br>Rychlost_sirenia_%=%{x}<br>Sila_sirenia=%{y}<br>Aktivni_celkom=%{marker.size}",
         "hovertext": [
          "Myjava a Skalica"
         ],
         "ids": [
          "Myjava a Skalica"
         ],
         "legendgroup": "Region=Myjava a Skalica",
         "marker": {
          "color": "#ab63fa",
          "size": [
           57.53
          ],
          "sizemode": "area",
          "sizeref": 0.067112,
          "symbol": "circle"
         },
         "mode": "markers+text",
         "name": "Region=Myjava a Skalica",
         "showlegend": true,
         "text": [
          "Myjava a Skalica"
         ],
         "type": "scatter",
         "x": [
          15
         ],
         "xaxis": "x",
         "y": [
          30.82
         ],
         "yaxis": "y"
        }
       ],
       "frames": [
        {
         "data": [
          {
           "hoverlabel": {
            "namelength": 0
           },
           "hovertemplate": "<b>%{hovertext}</b><br><br>Region=%{text}<br>Date=2020-09-26<br>Rychlost_sirenia_%=%{x}<br>Sila_sirenia=%{y}<br>Aktivni_celkom=%{marker.size}",
           "hovertext": [
            "Uherské Hradište"
           ],
           "ids": [
            "Uherské Hradište"
           ],
           "legendgroup": "Region=Uherské Hradište",
           "marker": {
            "color": "#636efa",
            "size": [
             15.61
            ],
            "sizemode": "area",
            "sizeref": 0.067112,
            "symbol": "circle"
           },
           "mode": "markers+text",
           "name": "Region=Uherské Hradište",
           "showlegend": true,
           "text": [
            "Uherské Hradište"
           ],
           "type": "scatter",
           "x": [
            5
           ],
           "xaxis": "x",
           "y": [
            8.04
           ],
           "yaxis": "y"
          },
          {
           "hoverlabel": {
            "namelength": 0
           },
           "hovertemplate": "<b>%{hovertext}</b><br><br>Region=%{text}<br>Date=2020-09-26<br>Rychlost_sirenia_%=%{x}<br>Sila_sirenia=%{y}<br>Aktivni_celkom=%{marker.size}",
           "hovertext": [
            "Tvrdošín"
           ],
           "ids": [
            "Tvrdošín"
           ],
           "legendgroup": "Region=Tvrdošín",
           "marker": {
            "color": "#EF553B",
            "size": [
             16.11
            ],
            "sizemode": "area",
            "sizeref": 0.067112,
            "symbol": "circle"
           },
           "mode": "markers+text",
           "name": "Region=Tvrdošín",
           "showlegend": true,
           "text": [
            "Tvrdošín"
           ],
           "type": "scatter",
           "x": [
            6
           ],
           "xaxis": "x",
           "y": [
            10.08
           ],
           "yaxis": "y"
          },
          {
           "hoverlabel": {
            "namelength": 0
           },
           "hovertemplate": "<b>%{hovertext}</b><br><br>Region=%{text}<br>Date=2020-09-26<br>Rychlost_sirenia_%=%{x}<br>Sila_sirenia=%{y}<br>Aktivni_celkom=%{marker.size}",
           "hovertext": [
            "Námestovo"
           ],
           "ids": [
            "Námestovo"
           ],
           "legendgroup": "Region=Námestovo",
           "marker": {
            "color": "#00cc96",
            "size": [
             13.73
            ],
            "sizemode": "area",
            "sizeref": 0.067112,
            "symbol": "circle"
           },
           "mode": "markers+text",
           "name": "Region=Námestovo",
           "showlegend": true,
           "text": [
            "Námestovo"
           ],
           "type": "scatter",
           "x": [
            5
           ],
           "xaxis": "x",
           "y": [
            8.32
           ],
           "yaxis": "y"
          },
          {
           "hoverlabel": {
            "namelength": 0
           },
           "hovertemplate": "<b>%{hovertext}</b><br><br>Region=%{text}<br>Date=2020-09-26<br>Rychlost_sirenia_%=%{x}<br>Sila_sirenia=%{y}<br>Aktivni_celkom=%{marker.size}",
           "hovertext": [
            "Bardejov"
           ],
           "ids": [
            "Bardejov"
           ],
           "legendgroup": "Region=Bardejov",
           "marker": {
            "color": "#ab63fa",
            "size": [
             12.59
            ],
            "sizemode": "area",
            "sizeref": 0.067112,
            "symbol": "circle"
           },
           "mode": "markers+text",
           "name": "Region=Bardejov",
           "showlegend": true,
           "text": [
            "Bardejov"
           ],
           "type": "scatter",
           "x": [
            5
           ],
           "xaxis": "x",
           "y": [
            7.54
           ],
           "yaxis": "y"
          },
          {
           "hoverlabel": {
            "namelength": 0
           },
           "hovertemplate": "<b>%{hovertext}</b><br><br>Region=%{text}<br>Date=2020-09-26<br>Rychlost_sirenia_%=%{x}<br>Sila_sirenia=%{y}<br>Aktivni_celkom=%{marker.size}",
           "hovertext": [
            "Dolný Kubín"
           ],
           "ids": [
            "Dolný Kubín"
           ],
           "legendgroup": "Region=Dolný Kubín",
           "marker": {
            "color": "#FFA15A",
            "size": [
             13.93
            ],
            "sizemode": "area",
            "sizeref": 0.067112,
            "symbol": "circle"
           },
           "mode": "markers+text",
           "name": "Region=Dolný Kubín",
           "showlegend": true,
           "text": [
            "Dolný Kubín"
           ],
           "type": "scatter",
           "x": [
            11
           ],
           "xaxis": "x",
           "y": [
            9.45
           ],
           "yaxis": "y"
          },
          {
           "hoverlabel": {
            "namelength": 0
           },
           "hovertemplate": "<b>%{hovertext}</b><br><br>Region=%{text}<br>Date=2020-09-26<br>Rychlost_sirenia_%=%{x}<br>Sila_sirenia=%{y}<br>Aktivni_celkom=%{marker.size}",
           "hovertext": [
            "Liptovský Mikuláš"
           ],
           "ids": [
            "Liptovský Mikuláš"
           ],
           "legendgroup": "Region=Liptovský Mikuláš",
           "marker": {
            "color": "#19d3f3",
            "size": [
             7.08
            ],
            "sizemode": "area",
            "sizeref": 0.067112,
            "symbol": "circle"
           },
           "mode": "markers+text",
           "name": "Region=Liptovský Mikuláš",
           "showlegend": true,
           "text": [
            "Liptovský Mikuláš"
           ],
           "type": "scatter",
           "x": [
            9
           ],
           "xaxis": "x",
           "y": [
            4.65
           ],
           "yaxis": "y"
          },
          {
           "hoverlabel": {
            "namelength": 0
           },
           "hovertemplate": "<b>%{hovertext}</b><br><br>Region=%{text}<br>Date=2020-09-26<br>Rychlost_sirenia_%=%{x}<br>Sila_sirenia=%{y}<br>Aktivni_celkom=%{marker.size}",
           "hovertext": [
            "Sabinov"
           ],
           "ids": [
            "Sabinov"
           ],
           "legendgroup": "Region=Sabinov",
           "marker": {
            "color": "#FF6692",
            "size": [
             6.53
            ],
            "sizemode": "area",
            "sizeref": 0.067112,
            "symbol": "circle"
           },
           "mode": "markers+text",
           "name": "Region=Sabinov",
           "showlegend": true,
           "text": [
            "Sabinov"
           ],
           "type": "scatter",
           "x": [
            7.000000000000001
           ],
           "xaxis": "x",
           "y": [
            4.17
           ],
           "yaxis": "y"
          },
          {
           "hoverlabel": {
            "namelength": 0
           },
           "hovertemplate": "<b>%{hovertext}</b><br><br>Region=%{text}<br>Date=2020-09-26<br>Rychlost_sirenia_%=%{x}<br>Sila_sirenia=%{y}<br>Aktivni_celkom=%{marker.size}",
           "hovertext": [
            "Praha"
           ],
           "ids": [
            "Praha"
           ],
           "legendgroup": "Region=Praha",
           "marker": {
            "color": "#B6E880",
            "size": [
             11.27
            ],
            "sizemode": "area",
            "sizeref": 0.067112,
            "symbol": "circle"
           },
           "mode": "markers+text",
           "name": "Region=Praha",
           "showlegend": true,
           "text": [
            "Praha"
           ],
           "type": "scatter",
           "x": [
            12
           ],
           "xaxis": "x",
           "y": [
            6.85
           ],
           "yaxis": "y"
          },
          {
           "hoverlabel": {
            "namelength": 0
           },
           "hovertemplate": "<b>%{hovertext}</b><br><br>Region=%{text}<br>Date=2020-09-26<br>Rychlost_sirenia_%=%{x}<br>Sila_sirenia=%{y}<br>Aktivni_celkom=%{marker.size}",
           "hovertext": [
            "Čadca"
           ],
           "ids": [
            "Čadca"
           ],
           "legendgroup": "Region=Čadca",
           "marker": {
            "color": "#FF97FF",
            "size": [
             5.12
            ],
            "sizemode": "area",
            "sizeref": 0.067112,
            "symbol": "circle"
           },
           "mode": "markers+text",
           "name": "Region=Čadca",
           "showlegend": true,
           "text": [
            "Čadca"
           ],
           "type": "scatter",
           "x": [
            13
           ],
           "xaxis": "x",
           "y": [
            3.58
           ],
           "yaxis": "y"
          },
          {
           "hoverlabel": {
            "namelength": 0
           },
           "hovertemplate": "<b>%{hovertext}</b><br><br>Region=%{text}<br>Date=2020-09-26<br>Rychlost_sirenia_%=%{x}<br>Sila_sirenia=%{y}<br>Aktivni_celkom=%{marker.size}",
           "hovertext": [
            "Rožňava a Revúca"
           ],
           "ids": [
            "Rožňava a Revúca"
           ],
           "legendgroup": "Region=Rožňava a Revúca",
           "marker": {
            "color": "#FECB52",
            "size": [
             0.53
            ],
            "sizemode": "area",
            "sizeref": 0.067112,
            "symbol": "circle"
           },
           "mode": "markers+text",
           "name": "Region=Rožňava a Revúca",
           "showlegend": true,
           "text": [
            "Rožňava a Revúca"
           ],
           "type": "scatter",
           "x": [
            14.000000000000002
           ],
           "xaxis": "x",
           "y": [
            0.38
           ],
           "yaxis": "y"
          },
          {
           "hoverlabel": {
            "namelength": 0
           },
           "hovertemplate": "<b>%{hovertext}</b><br><br>Region=%{text}<br>Date=2020-09-26<br>Rychlost_sirenia_%=%{x}<br>Sila_sirenia=%{y}<br>Aktivni_celkom=%{marker.size}",
           "hovertext": [
            "Levice"
           ],
           "ids": [
            "Levice"
           ],
           "legendgroup": "Region=Levice",
           "marker": {
            "color": "#636efa",
            "size": [
             0.58
            ],
            "sizemode": "area",
            "sizeref": 0.067112,
            "symbol": "circle"
           },
           "mode": "markers+text",
           "name": "Region=Levice",
           "showlegend": true,
           "text": [
            "Levice"
           ],
           "type": "scatter",
           "x": [
            -1
           ],
           "xaxis": "x",
           "y": [
            0.27
           ],
           "yaxis": "y"
          },
          {
           "hoverlabel": {
            "namelength": 0
           },
           "hovertemplate": "<b>%{hovertext}</b><br><br>Region=%{text}<br>Date=2020-09-26<br>Rychlost_sirenia_%=%{x}<br>Sila_sirenia=%{y}<br>Aktivni_celkom=%{marker.size}",
           "hovertext": [
            "Rimavská Sobota"
           ],
           "ids": [
            "Rimavská Sobota"
           ],
           "legendgroup": "Region=Rimavská Sobota",
           "marker": {
            "color": "#EF553B",
            "size": [
             0.45
            ],
            "sizemode": "area",
            "sizeref": 0.067112,
            "symbol": "circle"
           },
           "mode": "markers+text",
           "name": "Region=Rimavská Sobota",
           "showlegend": true,
           "text": [
            "Rimavská Sobota"
           ],
           "type": "scatter",
           "x": [
            -6
           ],
           "xaxis": "x",
           "y": [
            0.13
           ],
           "yaxis": "y"
          },
          {
           "hoverlabel": {
            "namelength": 0
           },
           "hovertemplate": "<b>%{hovertext}</b><br><br>Region=%{text}<br>Date=2020-09-26<br>Rychlost_sirenia_%=%{x}<br>Sila_sirenia=%{y}<br>Aktivni_celkom=%{marker.size}",
           "hovertext": [
            "Bratislava"
           ],
           "ids": [
            "Bratislava"
           ],
           "legendgroup": "Region=Bratislava",
           "marker": {
            "color": "#00cc96",
            "size": [
             2.04
            ],
            "sizemode": "area",
            "sizeref": 0.067112,
            "symbol": "circle"
           },
           "mode": "markers+text",
           "name": "Region=Bratislava",
           "showlegend": true,
           "text": [
            "Bratislava"
           ],
           "type": "scatter",
           "x": [
            1
           ],
           "xaxis": "x",
           "y": [
            1.09
           ],
           "yaxis": "y"
          },
          {
           "hoverlabel": {
            "namelength": 0
           },
           "hovertemplate": "<b>%{hovertext}</b><br><br>Region=%{text}<br>Date=2020-09-26<br>Rychlost_sirenia_%=%{x}<br>Sila_sirenia=%{y}<br>Aktivni_celkom=%{marker.size}",
           "hovertext": [
            "Myjava a Skalica"
           ],
           "ids": [
            "Myjava a Skalica"
           ],
           "legendgroup": "Region=Myjava a Skalica",
           "marker": {
            "color": "#ab63fa",
            "size": [
             5.52
            ],
            "sizemode": "area",
            "sizeref": 0.067112,
            "symbol": "circle"
           },
           "mode": "markers+text",
           "name": "Region=Myjava a Skalica",
           "showlegend": true,
           "text": [
            "Myjava a Skalica"
           ],
           "type": "scatter",
           "x": [
            1
           ],
           "xaxis": "x",
           "y": [
            2.96
           ],
           "yaxis": "y"
          }
         ],
         "name": "2020-09-26"
        },
        {
         "data": [
          {
           "hoverlabel": {
            "namelength": 0
           },
           "hovertemplate": "<b>%{hovertext}</b><br><br>Region=%{text}<br>Date=2020-10-03<br>Rychlost_sirenia_%=%{x}<br>Sila_sirenia=%{y}<br>Aktivni_celkom=%{marker.size}",
           "hovertext": [
            "Uherské Hradište"
           ],
           "ids": [
            "Uherské Hradište"
           ],
           "legendgroup": "Region=Uherské Hradište",
           "marker": {
            "color": "#636efa",
            "size": [
             52.03
            ],
            "sizemode": "area",
            "sizeref": 0.067112,
            "symbol": "circle"
           },
           "mode": "markers+text",
           "name": "Region=Uherské Hradište",
           "showlegend": true,
           "text": [
            "Uherské Hradište"
           ],
           "type": "scatter",
           "x": [
            16
           ],
           "xaxis": "x",
           "y": [
            26.81
           ],
           "yaxis": "y"
          },
          {
           "hoverlabel": {
            "namelength": 0
           },
           "hovertemplate": "<b>%{hovertext}</b><br><br>Region=%{text}<br>Date=2020-10-03<br>Rychlost_sirenia_%=%{x}<br>Sila_sirenia=%{y}<br>Aktivni_celkom=%{marker.size}",
           "hovertext": [
            "Tvrdošín"
           ],
           "ids": [
            "Tvrdošín"
           ],
           "legendgroup": "Region=Tvrdošín",
           "marker": {
            "color": "#EF553B",
            "size": [
             53.69
            ],
            "sizemode": "area",
            "sizeref": 0.067112,
            "symbol": "circle"
           },
           "mode": "markers+text",
           "name": "Region=Tvrdošín",
           "showlegend": true,
           "text": [
            "Tvrdošín"
           ],
           "type": "scatter",
           "x": [
            22
           ],
           "xaxis": "x",
           "y": [
            33.6
           ],
           "yaxis": "y"
          },
          {
           "hoverlabel": {
            "namelength": 0
           },
           "hovertemplate": "<b>%{hovertext}</b><br><br>Region=%{text}<br>Date=2020-10-03<br>Rychlost_sirenia_%=%{x}<br>Sila_sirenia=%{y}<br>Aktivni_celkom=%{marker.size}",
           "hovertext": [
            "Námestovo"
           ],
           "ids": [
            "Námestovo"
           ],
           "legendgroup": "Region=Námestovo",
           "marker": {
            "color": "#00cc96",
            "size": [
             45.77
            ],
            "sizemode": "area",
            "sizeref": 0.067112,
            "symbol": "circle"
           },
           "mode": "markers+text",
           "name": "Region=Námestovo",
           "showlegend": true,
           "text": [
            "Námestovo"
           ],
           "type": "scatter",
           "x": [
            17
           ],
           "xaxis": "x",
           "y": [
            27.73
           ],
           "yaxis": "y"
          },
          {
           "hoverlabel": {
            "namelength": 0
           },
           "hovertemplate": "<b>%{hovertext}</b><br><br>Region=%{text}<br>Date=2020-10-03<br>Rychlost_sirenia_%=%{x}<br>Sila_sirenia=%{y}<br>Aktivni_celkom=%{marker.size}",
           "hovertext": [
            "Bardejov"
           ],
           "ids": [
            "Bardejov"
           ],
           "legendgroup": "Region=Bardejov",
           "marker": {
            "color": "#ab63fa",
            "size": [
             41.97
            ],
            "sizemode": "area",
            "sizeref": 0.067112,
            "symbol": "circle"
           },
           "mode": "markers+text",
           "name": "Region=Bardejov",
           "showlegend": true,
           "text": [
            "Bardejov"
           ],
           "type": "scatter",
           "x": [
            16
           ],
           "xaxis": "x",
           "y": [
            25.15
           ],
           "yaxis": "y"
          },
          {
           "hoverlabel": {
            "namelength": 0
           },
           "hovertemplate": "<b>%{hovertext}</b><br><br>Region=%{text}<br>Date=2020-10-03<br>Rychlost_sirenia_%=%{x}<br>Sila_sirenia=%{y}<br>Aktivni_celkom=%{marker.size}",
           "hovertext": [
            "Dolný Kubín"
           ],
           "ids": [
            "Dolný Kubín"
           ],
           "legendgroup": "Region=Dolný Kubín",
           "marker": {
            "color": "#FFA15A",
            "size": [
             46.42
            ],
            "sizemode": "area",
            "sizeref": 0.067112,
            "symbol": "circle"
           },
           "mode": "markers+text",
           "name": "Region=Dolný Kubín",
           "showlegend": true,
           "text": [
            "Dolný Kubín"
           ],
           "type": "scatter",
           "x": [
            36
           ],
           "xaxis": "x",
           "y": [
            31.51
           ],
           "yaxis": "y"
          },
          {
           "hoverlabel": {
            "namelength": 0
           },
           "hovertemplate": "<b>%{hovertext}</b><br><br>Region=%{text}<br>Date=2020-10-03<br>Rychlost_sirenia_%=%{x}<br>Sila_sirenia=%{y}<br>Aktivni_celkom=%{marker.size}",
           "hovertext": [
            "Liptovský Mikuláš"
           ],
           "ids": [
            "Liptovský Mikuláš"
           ],
           "legendgroup": "Region=Liptovský Mikuláš",
           "marker": {
            "color": "#19d3f3",
            "size": [
             23.6
            ],
            "sizemode": "area",
            "sizeref": 0.067112,
            "symbol": "circle"
           },
           "mode": "markers+text",
           "name": "Region=Liptovský Mikuláš",
           "showlegend": true,
           "text": [
            "Liptovský Mikuláš"
           ],
           "type": "scatter",
           "x": [
            28.999999999999996
           ],
           "xaxis": "x",
           "y": [
            15.51
           ],
           "yaxis": "y"
          },
          {
           "hoverlabel": {
            "namelength": 0
           },
           "hovertemplate": "<b>%{hovertext}</b><br><br>Region=%{text}<br>Date=2020-10-03<br>Rychlost_sirenia_%=%{x}<br>Sila_sirenia=%{y}<br>Aktivni_celkom=%{marker.size}",
           "hovertext": [
            "Sabinov"
           ],
           "ids": [
            "Sabinov"
           ],
           "legendgroup": "Region=Sabinov",
           "marker": {
            "color": "#FF6692",
            "size": [
             21.77
            ],
            "sizemode": "area",
            "sizeref": 0.067112,
            "symbol": "circle"
           },
           "mode": "markers+text",
           "name": "Region=Sabinov",
           "showlegend": true,
           "text": [
            "Sabinov"
           ],
           "type": "scatter",
           "x": [
            25
           ],
           "xaxis": "x",
           "y": [
            13.9
           ],
           "yaxis": "y"
          },
          {
           "hoverlabel": {
            "namelength": 0
           },
           "hovertemplate": "<b>%{hovertext}</b><br><br>Region=%{text}<br>Date=2020-10-03<br>Rychlost_sirenia_%=%{x}<br>Sila_sirenia=%{y}<br>Aktivni_celkom=%{marker.size}",
           "hovertext": [
            "Praha"
           ],
           "ids": [
            "Praha"
           ],
           "legendgroup": "Region=Praha",
           "marker": {
            "color": "#B6E880",
            "size": [
             37.57
            ],
            "sizemode": "area",
            "sizeref": 0.067112,
            "symbol": "circle"
           },
           "mode": "markers+text",
           "name": "Region=Praha",
           "showlegend": true,
           "text": [
            "Praha"
           ],
           "type": "scatter",
           "x": [
            40
           ],
           "xaxis": "x",
           "y": [
            22.83
           ],
           "yaxis": "y"
          },
          {
           "hoverlabel": {
            "namelength": 0
           },
           "hovertemplate": "<b>%{hovertext}</b><br><br>Region=%{text}<br>Date=2020-10-03<br>Rychlost_sirenia_%=%{x}<br>Sila_sirenia=%{y}<br>Aktivni_celkom=%{marker.size}",
           "hovertext": [
            "Čadca"
           ],
           "ids": [
            "Čadca"
           ],
           "legendgroup": "Region=Čadca",
           "marker": {
            "color": "#FF97FF",
            "size": [
             17.07
            ],
            "sizemode": "area",
            "sizeref": 0.067112,
            "symbol": "circle"
           },
           "mode": "markers+text",
           "name": "Region=Čadca",
           "showlegend": true,
           "text": [
            "Čadca"
           ],
           "type": "scatter",
           "x": [
            43
           ],
           "xaxis": "x",
           "y": [
            11.95
           ],
           "yaxis": "y"
          },
          {
           "hoverlabel": {
            "namelength": 0
           },
           "hovertemplate": "<b>%{hovertext}</b><br><br>Region=%{text}<br>Date=2020-10-03<br>Rychlost_sirenia_%=%{x}<br>Sila_sirenia=%{y}<br>Aktivni_celkom=%{marker.size}",
           "hovertext": [
            "Rožňava a Revúca"
           ],
           "ids": [
            "Rožňava a Revúca"
           ],
           "legendgroup": "Region=Rožňava a Revúca",
           "marker": {
            "color": "#FECB52",
            "size": [
             1.76
            ],
            "sizemode": "area",
            "sizeref": 0.067112,
            "symbol": "circle"
           },
           "mode": "markers+text",
           "name": "Region=Rožňava a Revúca",
           "showlegend": true,
           "text": [
            "Rožňava a Revúca"
           ],
           "type": "scatter",
           "x": [
            48
           ],
           "xaxis": "x",
           "y": [
            1.25
           ],
           "yaxis": "y"
          },
          {
           "hoverlabel": {
            "namelength": 0
           },
           "hovertemplate": "<b>%{hovertext}</b><br><br>Region=%{text}<br>Date=2020-10-03<br>Rychlost_sirenia_%=%{x}<br>Sila_sirenia=%{y}<br>Aktivni_celkom=%{marker.size}",
           "hovertext": [
            "Levice"
           ],
           "ids": [
            "Levice"
           ],
           "legendgroup": "Region=Levice",
           "marker": {
            "color": "#636efa",
            "size": [
             1.94
            ],
            "sizemode": "area",
            "sizeref": 0.067112,
            "symbol": "circle"
           },
           "mode": "markers+text",
           "name": "Region=Levice",
           "showlegend": true,
           "text": [
            "Levice"
           ],
           "type": "scatter",
           "x": [
            -4
           ],
           "xaxis": "x",
           "y": [
            0.9
           ],
           "yaxis": "y"
          },
          {
           "hoverlabel": {
            "namelength": 0
           },
           "hovertemplate": "<b>%{hovertext}</b><br><br>Region=%{text}<br>Date=2020-10-03<br>Rychlost_sirenia_%=%{x}<br>Sila_sirenia=%{y}<br>Aktivni_celkom=%{marker.size}",
           "hovertext": [
            "Rimavská Sobota"
           ],
           "ids": [
            "Rimavská Sobota"
           ],
           "legendgroup": "Region=Rimavská Sobota",
           "marker": {
            "color": "#EF553B",
            "size": [
             1.49
            ],
            "sizemode": "area",
            "sizeref": 0.067112,
            "symbol": "circle"
           },
           "mode": "markers+text",
           "name": "Region=Rimavská Sobota",
           "showlegend": true,
           "text": [
            "Rimavská Sobota"
           ],
           "type": "scatter",
           "x": [
            -19
           ],
           "xaxis": "x",
           "y": [
            0.42
           ],
           "yaxis": "y"
          },
          {
           "hoverlabel": {
            "namelength": 0
           },
           "hovertemplate": "<b>%{hovertext}</b><br><br>Region=%{text}<br>Date=2020-10-03<br>Rychlost_sirenia_%=%{x}<br>Sila_sirenia=%{y}<br>Aktivni_celkom=%{marker.size}",
           "hovertext": [
            "Bratislava"
           ],
           "ids": [
            "Bratislava"
           ],
           "legendgroup": "Region=Bratislava",
           "marker": {
            "color": "#00cc96",
            "size": [
             6.79
            ],
            "sizemode": "area",
            "sizeref": 0.067112,
            "symbol": "circle"
           },
           "mode": "markers+text",
           "name": "Region=Bratislava",
           "showlegend": true,
           "text": [
            "Bratislava"
           ],
           "type": "scatter",
           "x": [
            5
           ],
           "xaxis": "x",
           "y": [
            3.64
           ],
           "yaxis": "y"
          },
          {
           "hoverlabel": {
            "namelength": 0
           },
           "hovertemplate": "<b>%{hovertext}</b><br><br>Region=%{text}<br>Date=2020-10-03<br>Rychlost_sirenia_%=%{x}<br>Sila_sirenia=%{y}<br>Aktivni_celkom=%{marker.size}",
           "hovertext": [
            "Myjava a Skalica"
           ],
           "ids": [
            "Myjava a Skalica"
           ],
           "legendgroup": "Region=Myjava a Skalica",
           "marker": {
            "color": "#ab63fa",
            "size": [
             18.41
            ],
            "sizemode": "area",
            "sizeref": 0.067112,
            "symbol": "circle"
           },
           "mode": "markers+text",
           "name": "Region=Myjava a Skalica",
           "showlegend": true,
           "text": [
            "Myjava a Skalica"
           ],
           "type": "scatter",
           "x": [
            5
           ],
           "xaxis": "x",
           "y": [
            9.86
           ],
           "yaxis": "y"
          }
         ],
         "name": "2020-10-03"
        },
        {
         "data": [
          {
           "hoverlabel": {
            "namelength": 0
           },
           "hovertemplate": "<b>%{hovertext}</b><br><br>Region=%{text}<br>Date=2020-10-10<br>Rychlost_sirenia_%=%{x}<br>Sila_sirenia=%{y}<br>Aktivni_celkom=%{marker.size}",
           "hovertext": [
            "Uherské Hradište"
           ],
           "ids": [
            "Uherské Hradište"
           ],
           "legendgroup": "Region=Uherské Hradište",
           "marker": {
            "color": "#636efa",
            "size": [
             104.06
            ],
            "sizemode": "area",
            "sizeref": 0.067112,
            "symbol": "circle"
           },
           "mode": "markers+text",
           "name": "Region=Uherské Hradište",
           "showlegend": true,
           "text": [
            "Uherské Hradište"
           ],
           "type": "scatter",
           "x": [
            31
           ],
           "xaxis": "x",
           "y": [
            53.63
           ],
           "yaxis": "y"
          },
          {
           "hoverlabel": {
            "namelength": 0
           },
           "hovertemplate": "<b>%{hovertext}</b><br><br>Region=%{text}<br>Date=2020-10-10<br>Rychlost_sirenia_%=%{x}<br>Sila_sirenia=%{y}<br>Aktivni_celkom=%{marker.size}",
           "hovertext": [
            "Tvrdošín"
           ],
           "ids": [
            "Tvrdošín"
           ],
           "legendgroup": "Region=Tvrdošín",
           "marker": {
            "color": "#EF553B",
            "size": [
             107.38
            ],
            "sizemode": "area",
            "sizeref": 0.067112,
            "symbol": "circle"
           },
           "mode": "markers+text",
           "name": "Region=Tvrdošín",
           "showlegend": true,
           "text": [
            "Tvrdošín"
           ],
           "type": "scatter",
           "x": [
            43
           ],
           "xaxis": "x",
           "y": [
            67.2
           ],
           "yaxis": "y"
          },
          {
           "hoverlabel": {
            "namelength": 0
           },
           "hovertemplate": "<b>%{hovertext}</b><br><br>Region=%{text}<br>Date=2020-10-10<br>Rychlost_sirenia_%=%{x}<br>Sila_sirenia=%{y}<br>Aktivni_celkom=%{marker.size}",
           "hovertext": [
            "Námestovo"
           ],
           "ids": [
            "Námestovo"
           ],
           "legendgroup": "Region=Námestovo",
           "marker": {
            "color": "#00cc96",
            "size": [
             91.53
            ],
            "sizemode": "area",
            "sizeref": 0.067112,
            "symbol": "circle"
           },
           "mode": "markers+text",
           "name": "Region=Námestovo",
           "showlegend": true,
           "text": [
            "Námestovo"
           ],
           "type": "scatter",
           "x": [
            34
           ],
           "xaxis": "x",
           "y": [
            55.47
           ],
           "yaxis": "y"
          },
          {
           "hoverlabel": {
            "namelength": 0
           },
           "hovertemplate": "<b>%{hovertext}</b><br><br>Region=%{text}<br>Date=2020-10-10<br>Rychlost_sirenia_%=%{x}<br>Sila_sirenia=%{y}<br>Aktivni_celkom=%{marker.size}",
           "hovertext": [
            "Bardejov"
           ],
           "ids": [
            "Bardejov"
           ],
           "legendgroup": "Region=Bardejov",
           "marker": {
            "color": "#ab63fa",
            "size": [
             83.94
            ],
            "sizemode": "area",
            "sizeref": 0.067112,
            "symbol": "circle"
           },
           "mode": "markers+text",
           "name": "Region=Bardejov",
           "showlegend": true,
           "text": [
            "Bardejov"
           ],
           "type": "scatter",
           "x": [
            32
           ],
           "xaxis": "x",
           "y": [
            50.3
           ],
           "yaxis": "y"
          },
          {
           "hoverlabel": {
            "namelength": 0
           },
           "hovertemplate": "<b>%{hovertext}</b><br><br>Region=%{text}<br>Date=2020-10-10<br>Rychlost_sirenia_%=%{x}<br>Sila_sirenia=%{y}<br>Aktivni_celkom=%{marker.size}",
           "hovertext": [
            "Dolný Kubín"
           ],
           "ids": [
            "Dolný Kubín"
           ],
           "legendgroup": "Region=Dolný Kubín",
           "marker": {
            "color": "#FFA15A",
            "size": [
             92.84
            ],
            "sizemode": "area",
            "sizeref": 0.067112,
            "symbol": "circle"
           },
           "mode": "markers+text",
           "name": "Region=Dolný Kubín",
           "showlegend": true,
           "text": [
            "Dolný Kubín"
           ],
           "type": "scatter",
           "x": [
            71
           ],
           "xaxis": "x",
           "y": [
            63.03
           ],
           "yaxis": "y"
          },
          {
           "hoverlabel": {
            "namelength": 0
           },
           "hovertemplate": "<b>%{hovertext}</b><br><br>Region=%{text}<br>Date=2020-10-10<br>Rychlost_sirenia_%=%{x}<br>Sila_sirenia=%{y}<br>Aktivni_celkom=%{marker.size}",
           "hovertext": [
            "Liptovský Mikuláš"
           ],
           "ids": [
            "Liptovský Mikuláš"
           ],
           "legendgroup": "Region=Liptovský Mikuláš",
           "marker": {
            "color": "#19d3f3",
            "size": [
             47.2
            ],
            "sizemode": "area",
            "sizeref": 0.067112,
            "symbol": "circle"
           },
           "mode": "markers+text",
           "name": "Region=Liptovský Mikuláš",
           "showlegend": true,
           "text": [
            "Liptovský Mikuláš"
           ],
           "type": "scatter",
           "x": [
            59
           ],
           "xaxis": "x",
           "y": [
            31.02
           ],
           "yaxis": "y"
          },
          {
           "hoverlabel": {
            "namelength": 0
           },
           "hovertemplate": "<b>%{hovertext}</b><br><br>Region=%{text}<br>Date=2020-10-10<br>Rychlost_sirenia_%=%{x}<br>Sila_sirenia=%{y}<br>Aktivni_celkom=%{marker.size}",
           "hovertext": [
            "Sabinov"
           ],
           "ids": [
            "Sabinov"
           ],
           "legendgroup": "Region=Sabinov",
           "marker": {
            "color": "#FF6692",
            "size": [
             43.54
            ],
            "sizemode": "area",
            "sizeref": 0.067112,
            "symbol": "circle"
           },
           "mode": "markers+text",
           "name": "Region=Sabinov",
           "showlegend": true,
           "text": [
            "Sabinov"
           ],
           "type": "scatter",
           "x": [
            49
           ],
           "xaxis": "x",
           "y": [
            27.8
           ],
           "yaxis": "y"
          },
          {
           "hoverlabel": {
            "namelength": 0
           },
           "hovertemplate": "<b>%{hovertext}</b><br><br>Region=%{text}<br>Date=2020-10-10<br>Rychlost_sirenia_%=%{x}<br>Sila_sirenia=%{y}<br>Aktivni_celkom=%{marker.size}",
           "hovertext": [
            "Praha"
           ],
           "ids": [
            "Praha"
           ],
           "legendgroup": "Region=Praha",
           "marker": {
            "color": "#B6E880",
            "size": [
             75.15
            ],
            "sizemode": "area",
            "sizeref": 0.067112,
            "symbol": "circle"
           },
           "mode": "markers+text",
           "name": "Region=Praha",
           "showlegend": true,
           "text": [
            "Praha"
           ],
           "type": "scatter",
           "x": [
            79
           ],
           "xaxis": "x",
           "y": [
            45.66
           ],
           "yaxis": "y"
          },
          {
           "hoverlabel": {
            "namelength": 0
           },
           "hovertemplate": "<b>%{hovertext}</b><br><br>Region=%{text}<br>Date=2020-10-10<br>Rychlost_sirenia_%=%{x}<br>Sila_sirenia=%{y}<br>Aktivni_celkom=%{marker.size}",
           "hovertext": [
            "Čadca"
           ],
           "ids": [
            "Čadca"
           ],
           "legendgroup": "Region=Čadca",
           "marker": {
            "color": "#FF97FF",
            "size": [
             34.13
            ],
            "sizemode": "area",
            "sizeref": 0.067112,
            "symbol": "circle"
           },
           "mode": "markers+text",
           "name": "Region=Čadca",
           "showlegend": true,
           "text": [
            "Čadca"
           ],
           "type": "scatter",
           "x": [
            85
           ],
           "xaxis": "x",
           "y": [
            23.89
           ],
           "yaxis": "y"
          },
          {
           "hoverlabel": {
            "namelength": 0
           },
           "hovertemplate": "<b>%{hovertext}</b><br><br>Region=%{text}<br>Date=2020-10-10<br>Rychlost_sirenia_%=%{x}<br>Sila_sirenia=%{y}<br>Aktivni_celkom=%{marker.size}",
           "hovertext": [
            "Rožňava a Revúca"
           ],
           "ids": [
            "Rožňava a Revúca"
           ],
           "legendgroup": "Region=Rožňava a Revúca",
           "marker": {
            "color": "#FECB52",
            "size": [
             3.51
            ],
            "sizemode": "area",
            "sizeref": 0.067112,
            "symbol": "circle"
           },
           "mode": "markers+text",
           "name": "Region=Rožňava a Revúca",
           "showlegend": true,
           "text": [
            "Rožňava a Revúca"
           ],
           "type": "scatter",
           "x": [
            96
           ],
           "xaxis": "x",
           "y": [
            2.51
           ],
           "yaxis": "y"
          },
          {
           "hoverlabel": {
            "namelength": 0
           },
           "hovertemplate": "<b>%{hovertext}</b><br><br>Region=%{text}<br>Date=2020-10-10<br>Rychlost_sirenia_%=%{x}<br>Sila_sirenia=%{y}<br>Aktivni_celkom=%{marker.size}",
           "hovertext": [
            "Levice"
           ],
           "ids": [
            "Levice"
           ],
           "legendgroup": "Region=Levice",
           "marker": {
            "color": "#636efa",
            "size": [
             3.88
            ],
            "sizemode": "area",
            "sizeref": 0.067112,
            "symbol": "circle"
           },
           "mode": "markers+text",
           "name": "Region=Levice",
           "showlegend": true,
           "text": [
            "Levice"
           ],
           "type": "scatter",
           "x": [
            -9
           ],
           "xaxis": "x",
           "y": [
            1.8
           ],
           "yaxis": "y"
          },
          {
           "hoverlabel": {
            "namelength": 0
           },
           "hovertemplate": "<b>%{hovertext}</b><br><br>Region=%{text}<br>Date=2020-10-10<br>Rychlost_sirenia_%=%{x}<br>Sila_sirenia=%{y}<br>Aktivni_celkom=%{marker.size}",
           "hovertext": [
            "Rimavská Sobota"
           ],
           "ids": [
            "Rimavská Sobota"
           ],
           "legendgroup": "Region=Rimavská Sobota",
           "marker": {
            "color": "#EF553B",
            "size": [
             2.97
            ],
            "sizemode": "area",
            "sizeref": 0.067112,
            "symbol": "circle"
           },
           "mode": "markers+text",
           "name": "Region=Rimavská Sobota",
           "showlegend": true,
           "text": [
            "Rimavská Sobota"
           ],
           "type": "scatter",
           "x": [
            -39
           ],
           "xaxis": "x",
           "y": [
            0.84
           ],
           "yaxis": "y"
          },
          {
           "hoverlabel": {
            "namelength": 0
           },
           "hovertemplate": "<b>%{hovertext}</b><br><br>Region=%{text}<br>Date=2020-10-10<br>Rychlost_sirenia_%=%{x}<br>Sila_sirenia=%{y}<br>Aktivni_celkom=%{marker.size}",
           "hovertext": [
            "Bratislava"
           ],
           "ids": [
            "Bratislava"
           ],
           "legendgroup": "Region=Bratislava",
           "marker": {
            "color": "#00cc96",
            "size": [
             13.59
            ],
            "sizemode": "area",
            "sizeref": 0.067112,
            "symbol": "circle"
           },
           "mode": "markers+text",
           "name": "Region=Bratislava",
           "showlegend": true,
           "text": [
            "Bratislava"
           ],
           "type": "scatter",
           "x": [
            10
           ],
           "xaxis": "x",
           "y": [
            7.27
           ],
           "yaxis": "y"
          },
          {
           "hoverlabel": {
            "namelength": 0
           },
           "hovertemplate": "<b>%{hovertext}</b><br><br>Region=%{text}<br>Date=2020-10-10<br>Rychlost_sirenia_%=%{x}<br>Sila_sirenia=%{y}<br>Aktivni_celkom=%{marker.size}",
           "hovertext": [
            "Myjava a Skalica"
           ],
           "ids": [
            "Myjava a Skalica"
           ],
           "legendgroup": "Region=Myjava a Skalica",
           "marker": {
            "color": "#ab63fa",
            "size": [
             36.82
            ],
            "sizemode": "area",
            "sizeref": 0.067112,
            "symbol": "circle"
           },
           "mode": "markers+text",
           "name": "Region=Myjava a Skalica",
           "showlegend": true,
           "text": [
            "Myjava a Skalica"
           ],
           "type": "scatter",
           "x": [
            10
           ],
           "xaxis": "x",
           "y": [
            19.73
           ],
           "yaxis": "y"
          }
         ],
         "name": "2020-10-10"
        },
        {
         "data": [
          {
           "hoverlabel": {
            "namelength": 0
           },
           "hovertemplate": "<b>%{hovertext}</b><br><br>Region=%{text}<br>Date=2020-10-17<br>Rychlost_sirenia_%=%{x}<br>Sila_sirenia=%{y}<br>Aktivni_celkom=%{marker.size}",
           "hovertext": [
            "Uherské Hradište"
           ],
           "ids": [
            "Uherské Hradište"
           ],
           "legendgroup": "Region=Uherské Hradište",
           "marker": {
            "color": "#636efa",
            "size": [
             130.08
            ],
            "sizemode": "area",
            "sizeref": 0.067112,
            "symbol": "circle"
           },
           "mode": "markers+text",
           "name": "Region=Uherské Hradište",
           "showlegend": true,
           "text": [
            "Uherské Hradište"
           ],
           "type": "scatter",
           "x": [
            39
           ],
           "xaxis": "x",
           "y": [
            67.03
           ],
           "yaxis": "y"
          },
          {
           "hoverlabel": {
            "namelength": 0
           },
           "hovertemplate": "<b>%{hovertext}</b><br><br>Region=%{text}<br>Date=2020-10-17<br>Rychlost_sirenia_%=%{x}<br>Sila_sirenia=%{y}<br>Aktivni_celkom=%{marker.size}",
           "hovertext": [
            "Tvrdošín"
           ],
           "ids": [
            "Tvrdošín"
           ],
           "legendgroup": "Region=Tvrdošín",
           "marker": {
            "color": "#EF553B",
            "size": [
             134.22
            ],
            "sizemode": "area",
            "sizeref": 0.067112,
            "symbol": "circle"
           },
           "mode": "markers+text",
           "name": "Region=Tvrdošín",
           "showlegend": true,
           "text": [
            "Tvrdošín"
           ],
           "type": "scatter",
           "x": [
            54
           ],
           "xaxis": "x",
           "y": [
            84
           ],
           "yaxis": "y"
          },
          {
           "hoverlabel": {
            "namelength": 0
           },
           "hovertemplate": "<b>%{hovertext}</b><br><br>Region=%{text}<br>Date=2020-10-17<br>Rychlost_sirenia_%=%{x}<br>Sila_sirenia=%{y}<br>Aktivni_celkom=%{marker.size}",
           "hovertext": [
            "Námestovo"
           ],
           "ids": [
            "Námestovo"
           ],
           "legendgroup": "Region=Námestovo",
           "marker": {
            "color": "#00cc96",
            "size": [
             114.41
            ],
            "sizemode": "area",
            "sizeref": 0.067112,
            "symbol": "circle"
           },
           "mode": "markers+text",
           "name": "Region=Námestovo",
           "showlegend": true,
           "text": [
            "Námestovo"
           ],
           "type": "scatter",
           "x": [
            43
           ],
           "xaxis": "x",
           "y": [
            69.33
           ],
           "yaxis": "y"
          },
          {
           "hoverlabel": {
            "namelength": 0
           },
           "hovertemplate": "<b>%{hovertext}</b><br><br>Region=%{text}<br>Date=2020-10-17<br>Rychlost_sirenia_%=%{x}<br>Sila_sirenia=%{y}<br>Aktivni_celkom=%{marker.size}",
           "hovertext": [
            "Bardejov"
           ],
           "ids": [
            "Bardejov"
           ],
           "legendgroup": "Region=Bardejov",
           "marker": {
            "color": "#ab63fa",
            "size": [
             104.92
            ],
            "sizemode": "area",
            "sizeref": 0.067112,
            "symbol": "circle"
           },
           "mode": "markers+text",
           "name": "Region=Bardejov",
           "showlegend": true,
           "text": [
            "Bardejov"
           ],
           "type": "scatter",
           "x": [
            40
           ],
           "xaxis": "x",
           "y": [
            62.87
           ],
           "yaxis": "y"
          },
          {
           "hoverlabel": {
            "namelength": 0
           },
           "hovertemplate": "<b>%{hovertext}</b><br><br>Region=%{text}<br>Date=2020-10-17<br>Rychlost_sirenia_%=%{x}<br>Sila_sirenia=%{y}<br>Aktivni_celkom=%{marker.size}",
           "hovertext": [
            "Dolný Kubín"
           ],
           "ids": [
            "Dolný Kubín"
           ],
           "legendgroup": "Region=Dolný Kubín",
           "marker": {
            "color": "#FFA15A",
            "size": [
             116.05
            ],
            "sizemode": "area",
            "sizeref": 0.067112,
            "symbol": "circle"
           },
           "mode": "markers+text",
           "name": "Region=Dolný Kubín",
           "showlegend": true,
           "text": [
            "Dolný Kubín"
           ],
           "type": "scatter",
           "x": [
            89
           ],
           "xaxis": "x",
           "y": [
            78.78
           ],
           "yaxis": "y"
          },
          {
           "hoverlabel": {
            "namelength": 0
           },
           "hovertemplate": "<b>%{hovertext}</b><br><br>Region=%{text}<br>Date=2020-10-17<br>Rychlost_sirenia_%=%{x}<br>Sila_sirenia=%{y}<br>Aktivni_celkom=%{marker.size}",
           "hovertext": [
            "Liptovský Mikuláš"
           ],
           "ids": [
            "Liptovský Mikuláš"
           ],
           "legendgroup": "Region=Liptovský Mikuláš",
           "marker": {
            "color": "#19d3f3",
            "size": [
             59
            ],
            "sizemode": "area",
            "sizeref": 0.067112,
            "symbol": "circle"
           },
           "mode": "markers+text",
           "name": "Region=Liptovský Mikuláš",
           "showlegend": true,
           "text": [
            "Liptovský Mikuláš"
           ],
           "type": "scatter",
           "x": [
            73
           ],
           "xaxis": "x",
           "y": [
            38.78
           ],
           "yaxis": "y"
          },
          {
           "hoverlabel": {
            "namelength": 0
           },
           "hovertemplate": "<b>%{hovertext}</b><br><br>Region=%{text}<br>Date=2020-10-17<br>Rychlost_sirenia_%=%{x}<br>Sila_sirenia=%{y}<br>Aktivni_celkom=%{marker.size}",
           "hovertext": [
            "Sabinov"
           ],
           "ids": [
            "Sabinov"
           ],
           "legendgroup": "Region=Sabinov",
           "marker": {
            "color": "#FF6692",
            "size": [
             54.43
            ],
            "sizemode": "area",
            "sizeref": 0.067112,
            "symbol": "circle"
           },
           "mode": "markers+text",
           "name": "Region=Sabinov",
           "showlegend": true,
           "text": [
            "Sabinov"
           ],
           "type": "scatter",
           "x": [
            61
           ],
           "xaxis": "x",
           "y": [
            34.75
           ],
           "yaxis": "y"
          },
          {
           "hoverlabel": {
            "namelength": 0
           },
           "hovertemplate": "<b>%{hovertext}</b><br><br>Region=%{text}<br>Date=2020-10-17<br>Rychlost_sirenia_%=%{x}<br>Sila_sirenia=%{y}<br>Aktivni_celkom=%{marker.size}",
           "hovertext": [
            "Praha"
           ],
           "ids": [
            "Praha"
           ],
           "legendgroup": "Region=Praha",
           "marker": {
            "color": "#B6E880",
            "size": [
             93.94
            ],
            "sizemode": "area",
            "sizeref": 0.067112,
            "symbol": "circle"
           },
           "mode": "markers+text",
           "name": "Region=Praha",
           "showlegend": true,
           "text": [
            "Praha"
           ],
           "type": "scatter",
           "x": [
            99
           ],
           "xaxis": "x",
           "y": [
            57.08
           ],
           "yaxis": "y"
          },
          {
           "hoverlabel": {
            "namelength": 0
           },
           "hovertemplate": "<b>%{hovertext}</b><br><br>Region=%{text}<br>Date=2020-10-17<br>Rychlost_sirenia_%=%{x}<br>Sila_sirenia=%{y}<br>Aktivni_celkom=%{marker.size}",
           "hovertext": [
            "Čadca"
           ],
           "ids": [
            "Čadca"
           ],
           "legendgroup": "Region=Čadca",
           "marker": {
            "color": "#FF97FF",
            "size": [
             42.67
            ],
            "sizemode": "area",
            "sizeref": 0.067112,
            "symbol": "circle"
           },
           "mode": "markers+text",
           "name": "Region=Čadca",
           "showlegend": true,
           "text": [
            "Čadca"
           ],
           "type": "scatter",
           "x": [
            107
           ],
           "xaxis": "x",
           "y": [
            29.87
           ],
           "yaxis": "y"
          },
          {
           "hoverlabel": {
            "namelength": 0
           },
           "hovertemplate": "<b>%{hovertext}</b><br><br>Region=%{text}<br>Date=2020-10-17<br>Rychlost_sirenia_%=%{x}<br>Sila_sirenia=%{y}<br>Aktivni_celkom=%{marker.size}",
           "hovertext": [
            "Rožňava a Revúca"
           ],
           "ids": [
            "Rožňava a Revúca"
           ],
           "legendgroup": "Region=Rožňava a Revúca",
           "marker": {
            "color": "#FECB52",
            "size": [
             4.39
            ],
            "sizemode": "area",
            "sizeref": 0.067112,
            "symbol": "circle"
           },
           "mode": "markers+text",
           "name": "Region=Rožňava a Revúca",
           "showlegend": true,
           "text": [
            "Rožňava a Revúca"
           ],
           "type": "scatter",
           "x": [
            120
           ],
           "xaxis": "x",
           "y": [
            3.14
           ],
           "yaxis": "y"
          },
          {
           "hoverlabel": {
            "namelength": 0
           },
           "hovertemplate": "<b>%{hovertext}</b><br><br>Region=%{text}<br>Date=2020-10-17<br>Rychlost_sirenia_%=%{x}<br>Sila_sirenia=%{y}<br>Aktivni_celkom=%{marker.size}",
           "hovertext": [
            "Levice"
           ],
           "ids": [
            "Levice"
           ],
           "legendgroup": "Region=Levice",
           "marker": {
            "color": "#636efa",
            "size": [
             4.85
            ],
            "sizemode": "area",
            "sizeref": 0.067112,
            "symbol": "circle"
           },
           "mode": "markers+text",
           "name": "Region=Levice",
           "showlegend": true,
           "text": [
            "Levice"
           ],
           "type": "scatter",
           "x": [
            -11
           ],
           "xaxis": "x",
           "y": [
            2.24
           ],
           "yaxis": "y"
          },
          {
           "hoverlabel": {
            "namelength": 0
           },
           "hovertemplate": "<b>%{hovertext}</b><br><br>Region=%{text}<br>Date=2020-10-17<br>Rychlost_sirenia_%=%{x}<br>Sila_sirenia=%{y}<br>Aktivni_celkom=%{marker.size}",
           "hovertext": [
            "Rimavská Sobota"
           ],
           "ids": [
            "Rimavská Sobota"
           ],
           "legendgroup": "Region=Rimavská Sobota",
           "marker": {
            "color": "#EF553B",
            "size": [
             3.71
            ],
            "sizemode": "area",
            "sizeref": 0.067112,
            "symbol": "circle"
           },
           "mode": "markers+text",
           "name": "Region=Rimavská Sobota",
           "showlegend": true,
           "text": [
            "Rimavská Sobota"
           ],
           "type": "scatter",
           "x": [
            -49
           ],
           "xaxis": "x",
           "y": [
            1.05
           ],
           "yaxis": "y"
          },
          {
           "hoverlabel": {
            "namelength": 0
           },
           "hovertemplate": "<b>%{hovertext}</b><br><br>Region=%{text}<br>Date=2020-10-17<br>Rychlost_sirenia_%=%{x}<br>Sila_sirenia=%{y}<br>Aktivni_celkom=%{marker.size}",
           "hovertext": [
            "Bratislava"
           ],
           "ids": [
            "Bratislava"
           ],
           "legendgroup": "Region=Bratislava",
           "marker": {
            "color": "#00cc96",
            "size": [
             16.98
            ],
            "sizemode": "area",
            "sizeref": 0.067112,
            "symbol": "circle"
           },
           "mode": "markers+text",
           "name": "Region=Bratislava",
           "showlegend": true,
           "text": [
            "Bratislava"
           ],
           "type": "scatter",
           "x": [
            12
           ],
           "xaxis": "x",
           "y": [
            9.09
           ],
           "yaxis": "y"
          },
          {
           "hoverlabel": {
            "namelength": 0
           },
           "hovertemplate": "<b>%{hovertext}</b><br><br>Region=%{text}<br>Date=2020-10-17<br>Rychlost_sirenia_%=%{x}<br>Sila_sirenia=%{y}<br>Aktivni_celkom=%{marker.size}",
           "hovertext": [
            "Myjava a Skalica"
           ],
           "ids": [
            "Myjava a Skalica"
           ],
           "legendgroup": "Region=Myjava a Skalica",
           "marker": {
            "color": "#ab63fa",
            "size": [
             46.03
            ],
            "sizemode": "area",
            "sizeref": 0.067112,
            "symbol": "circle"
           },
           "mode": "markers+text",
           "name": "Region=Myjava a Skalica",
           "showlegend": true,
           "text": [
            "Myjava a Skalica"
           ],
           "type": "scatter",
           "x": [
            12
           ],
           "xaxis": "x",
           "y": [
            24.66
           ],
           "yaxis": "y"
          }
         ],
         "name": "2020-10-17"
        },
        {
         "data": [
          {
           "hoverlabel": {
            "namelength": 0
           },
           "hovertemplate": "<b>%{hovertext}</b><br><br>Region=%{text}<br>Date=2020-10-24<br>Rychlost_sirenia_%=%{x}<br>Sila_sirenia=%{y}<br>Aktivni_celkom=%{marker.size}",
           "hovertext": [
            "Uherské Hradište"
           ],
           "ids": [
            "Uherské Hradište"
           ],
           "legendgroup": "Region=Uherské Hradište",
           "marker": {
            "color": "#636efa",
            "size": [
             162.6
            ],
            "sizemode": "area",
            "sizeref": 0.067112,
            "symbol": "circle"
           },
           "mode": "markers+text",
           "name": "Region=Uherské Hradište",
           "showlegend": true,
           "text": [
            "Uherské Hradište"
           ],
           "type": "scatter",
           "x": [
            49
           ],
           "xaxis": "x",
           "y": [
            83.79
           ],
           "yaxis": "y"
          },
          {
           "hoverlabel": {
            "namelength": 0
           },
           "hovertemplate": "<b>%{hovertext}</b><br><br>Region=%{text}<br>Date=2020-10-24<br>Rychlost_sirenia_%=%{x}<br>Sila_sirenia=%{y}<br>Aktivni_celkom=%{marker.size}",
           "hovertext": [
            "Tvrdošín"
           ],
           "ids": [
            "Tvrdošín"
           ],
           "legendgroup": "Region=Tvrdošín",
           "marker": {
            "color": "#EF553B",
            "size": [
             167.78
            ],
            "sizemode": "area",
            "sizeref": 0.067112,
            "symbol": "circle"
           },
           "mode": "markers+text",
           "name": "Region=Tvrdošín",
           "showlegend": true,
           "text": [
            "Tvrdošín"
           ],
           "type": "scatter",
           "x": [
            67
           ],
           "xaxis": "x",
           "y": [
            105
           ],
           "yaxis": "y"
          },
          {
           "hoverlabel": {
            "namelength": 0
           },
           "hovertemplate": "<b>%{hovertext}</b><br><br>Region=%{text}<br>Date=2020-10-24<br>Rychlost_sirenia_%=%{x}<br>Sila_sirenia=%{y}<br>Aktivni_celkom=%{marker.size}",
           "hovertext": [
            "Námestovo"
           ],
           "ids": [
            "Námestovo"
           ],
           "legendgroup": "Region=Námestovo",
           "marker": {
            "color": "#00cc96",
            "size": [
             143.02
            ],
            "sizemode": "area",
            "sizeref": 0.067112,
            "symbol": "circle"
           },
           "mode": "markers+text",
           "name": "Region=Námestovo",
           "showlegend": true,
           "text": [
            "Námestovo"
           ],
           "type": "scatter",
           "x": [
            54
           ],
           "xaxis": "x",
           "y": [
            86.67
           ],
           "yaxis": "y"
          },
          {
           "hoverlabel": {
            "namelength": 0
           },
           "hovertemplate": "<b>%{hovertext}</b><br><br>Region=%{text}<br>Date=2020-10-24<br>Rychlost_sirenia_%=%{x}<br>Sila_sirenia=%{y}<br>Aktivni_celkom=%{marker.size}",
           "hovertext": [
            "Bardejov"
           ],
           "ids": [
            "Bardejov"
           ],
           "legendgroup": "Region=Bardejov",
           "marker": {
            "color": "#ab63fa",
            "size": [
             131.15
            ],
            "sizemode": "area",
            "sizeref": 0.067112,
            "symbol": "circle"
           },
           "mode": "markers+text",
           "name": "Region=Bardejov",
           "showlegend": true,
           "text": [
            "Bardejov"
           ],
           "type": "scatter",
           "x": [
            50
           ],
           "xaxis": "x",
           "y": [
            78.59
           ],
           "yaxis": "y"
          },
          {
           "hoverlabel": {
            "namelength": 0
           },
           "hovertemplate": "<b>%{hovertext}</b><br><br>Region=%{text}<br>Date=2020-10-24<br>Rychlost_sirenia_%=%{x}<br>Sila_sirenia=%{y}<br>Aktivni_celkom=%{marker.size}",
           "hovertext": [
            "Dolný Kubín"
           ],
           "ids": [
            "Dolný Kubín"
           ],
           "legendgroup": "Region=Dolný Kubín",
           "marker": {
            "color": "#FFA15A",
            "size": [
             145.06
            ],
            "sizemode": "area",
            "sizeref": 0.067112,
            "symbol": "circle"
           },
           "mode": "markers+text",
           "name": "Region=Dolný Kubín",
           "showlegend": true,
           "text": [
            "Dolný Kubín"
           ],
           "type": "scatter",
           "x": [
            111.00000000000001
           ],
           "xaxis": "x",
           "y": [
            98.48
           ],
           "yaxis": "y"
          },
          {
           "hoverlabel": {
            "namelength": 0
           },
           "hovertemplate": "<b>%{hovertext}</b><br><br>Region=%{text}<br>Date=2020-10-24<br>Rychlost_sirenia_%=%{x}<br>Sila_sirenia=%{y}<br>Aktivni_celkom=%{marker.size}",
           "hovertext": [
            "Liptovský Mikuláš"
           ],
           "ids": [
            "Liptovský Mikuláš"
           ],
           "legendgroup": "Region=Liptovský Mikuláš",
           "marker": {
            "color": "#19d3f3",
            "size": [
             73.75
            ],
            "sizemode": "area",
            "sizeref": 0.067112,
            "symbol": "circle"
           },
           "mode": "markers+text",
           "name": "Region=Liptovský Mikuláš",
           "showlegend": true,
           "text": [
            "Liptovský Mikuláš"
           ],
           "type": "scatter",
           "x": [
            92
           ],
           "xaxis": "x",
           "y": [
            48.47
           ],
           "yaxis": "y"
          },
          {
           "hoverlabel": {
            "namelength": 0
           },
           "hovertemplate": "<b>%{hovertext}</b><br><br>Region=%{text}<br>Date=2020-10-24<br>Rychlost_sirenia_%=%{x}<br>Sila_sirenia=%{y}<br>Aktivni_celkom=%{marker.size}",
           "hovertext": [
            "Sabinov"
           ],
           "ids": [
            "Sabinov"
           ],
           "legendgroup": "Region=Sabinov",
           "marker": {
            "color": "#FF6692",
            "size": [
             68.03
            ],
            "sizemode": "area",
            "sizeref": 0.067112,
            "symbol": "circle"
           },
           "mode": "markers+text",
           "name": "Region=Sabinov",
           "showlegend": true,
           "text": [
            "Sabinov"
           ],
           "type": "scatter",
           "x": [
            77
           ],
           "xaxis": "x",
           "y": [
            43.44
           ],
           "yaxis": "y"
          },
          {
           "hoverlabel": {
            "namelength": 0
           },
           "hovertemplate": "<b>%{hovertext}</b><br><br>Region=%{text}<br>Date=2020-10-24<br>Rychlost_sirenia_%=%{x}<br>Sila_sirenia=%{y}<br>Aktivni_celkom=%{marker.size}",
           "hovertext": [
            "Praha"
           ],
           "ids": [
            "Praha"
           ],
           "legendgroup": "Region=Praha",
           "marker": {
            "color": "#B6E880",
            "size": [
             117.42
            ],
            "sizemode": "area",
            "sizeref": 0.067112,
            "symbol": "circle"
           },
           "mode": "markers+text",
           "name": "Region=Praha",
           "showlegend": true,
           "text": [
            "Praha"
           ],
           "type": "scatter",
           "x": [
            124
           ],
           "xaxis": "x",
           "y": [
            71.35
           ],
           "yaxis": "y"
          },
          {
           "hoverlabel": {
            "namelength": 0
           },
           "hovertemplate": "<b>%{hovertext}</b><br><br>Region=%{text}<br>Date=2020-10-24<br>Rychlost_sirenia_%=%{x}<br>Sila_sirenia=%{y}<br>Aktivni_celkom=%{marker.size}",
           "hovertext": [
            "Čadca"
           ],
           "ids": [
            "Čadca"
           ],
           "legendgroup": "Region=Čadca",
           "marker": {
            "color": "#FF97FF",
            "size": [
             53.33
            ],
            "sizemode": "area",
            "sizeref": 0.067112,
            "symbol": "circle"
           },
           "mode": "markers+text",
           "name": "Region=Čadca",
           "showlegend": true,
           "text": [
            "Čadca"
           ],
           "type": "scatter",
           "x": [
            133
           ],
           "xaxis": "x",
           "y": [
            37.33
           ],
           "yaxis": "y"
          },
          {
           "hoverlabel": {
            "namelength": 0
           },
           "hovertemplate": "<b>%{hovertext}</b><br><br>Region=%{text}<br>Date=2020-10-24<br>Rychlost_sirenia_%=%{x}<br>Sila_sirenia=%{y}<br>Aktivni_celkom=%{marker.size}",
           "hovertext": [
            "Rožňava a Revúca"
           ],
           "ids": [
            "Rožňava a Revúca"
           ],
           "legendgroup": "Region=Rožňava a Revúca",
           "marker": {
            "color": "#FECB52",
            "size": [
             5.49
            ],
            "sizemode": "area",
            "sizeref": 0.067112,
            "symbol": "circle"
           },
           "mode": "markers+text",
           "name": "Region=Rožňava a Revúca",
           "showlegend": true,
           "text": [
            "Rožňava a Revúca"
           ],
           "type": "scatter",
           "x": [
            150
           ],
           "xaxis": "x",
           "y": [
            3.92
           ],
           "yaxis": "y"
          },
          {
           "hoverlabel": {
            "namelength": 0
           },
           "hovertemplate": "<b>%{hovertext}</b><br><br>Region=%{text}<br>Date=2020-10-24<br>Rychlost_sirenia_%=%{x}<br>Sila_sirenia=%{y}<br>Aktivni_celkom=%{marker.size}",
           "hovertext": [
            "Levice"
           ],
           "ids": [
            "Levice"
           ],
           "legendgroup": "Region=Levice",
           "marker": {
            "color": "#636efa",
            "size": [
             6.06
            ],
            "sizemode": "area",
            "sizeref": 0.067112,
            "symbol": "circle"
           },
           "mode": "markers+text",
           "name": "Region=Levice",
           "showlegend": true,
           "text": [
            "Levice"
           ],
           "type": "scatter",
           "x": [
            -14.000000000000002
           ],
           "xaxis": "x",
           "y": [
            2.81
           ],
           "yaxis": "y"
          },
          {
           "hoverlabel": {
            "namelength": 0
           },
           "hovertemplate": "<b>%{hovertext}</b><br><br>Region=%{text}<br>Date=2020-10-24<br>Rychlost_sirenia_%=%{x}<br>Sila_sirenia=%{y}<br>Aktivni_celkom=%{marker.size}",
           "hovertext": [
            "Rimavská Sobota"
           ],
           "ids": [
            "Rimavská Sobota"
           ],
           "legendgroup": "Region=Rimavská Sobota",
           "marker": {
            "color": "#EF553B",
            "size": [
             4.64
            ],
            "sizemode": "area",
            "sizeref": 0.067112,
            "symbol": "circle"
           },
           "mode": "markers+text",
           "name": "Region=Rimavská Sobota",
           "showlegend": true,
           "text": [
            "Rimavská Sobota"
           ],
           "type": "scatter",
           "x": [
            -61
           ],
           "xaxis": "x",
           "y": [
            1.31
           ],
           "yaxis": "y"
          },
          {
           "hoverlabel": {
            "namelength": 0
           },
           "hovertemplate": "<b>%{hovertext}</b><br><br>Region=%{text}<br>Date=2020-10-24<br>Rychlost_sirenia_%=%{x}<br>Sila_sirenia=%{y}<br>Aktivni_celkom=%{marker.size}",
           "hovertext": [
            "Bratislava"
           ],
           "ids": [
            "Bratislava"
           ],
           "legendgroup": "Region=Bratislava",
           "marker": {
            "color": "#00cc96",
            "size": [
             21.23
            ],
            "sizemode": "area",
            "sizeref": 0.067112,
            "symbol": "circle"
           },
           "mode": "markers+text",
           "name": "Region=Bratislava",
           "showlegend": true,
           "text": [
            "Bratislava"
           ],
           "type": "scatter",
           "x": [
            15
           ],
           "xaxis": "x",
           "y": [
            11.36
           ],
           "yaxis": "y"
          },
          {
           "hoverlabel": {
            "namelength": 0
           },
           "hovertemplate": "<b>%{hovertext}</b><br><br>Region=%{text}<br>Date=2020-10-24<br>Rychlost_sirenia_%=%{x}<br>Sila_sirenia=%{y}<br>Aktivni_celkom=%{marker.size}",
           "hovertext": [
            "Myjava a Skalica"
           ],
           "ids": [
            "Myjava a Skalica"
           ],
           "legendgroup": "Region=Myjava a Skalica",
           "marker": {
            "color": "#ab63fa",
            "size": [
             57.53
            ],
            "sizemode": "area",
            "sizeref": 0.067112,
            "symbol": "circle"
           },
           "mode": "markers+text",
           "name": "Region=Myjava a Skalica",
           "showlegend": true,
           "text": [
            "Myjava a Skalica"
           ],
           "type": "scatter",
           "x": [
            15
           ],
           "xaxis": "x",
           "y": [
            30.82
           ],
           "yaxis": "y"
          }
         ],
         "name": "2020-10-24"
        }
       ],
       "layout": {
        "autosize": true,
        "legend": {
         "itemsizing": "constant",
         "tracegroupgap": 0
        },
        "margin": {
         "t": 60
        },
        "paper_bgcolor": "rgb(243, 243, 243)",
        "plot_bgcolor": "rgb(243, 243, 243)",
        "sliders": [
         {
          "active": 4,
          "currentvalue": {
           "prefix": "Date="
          },
          "len": 0.9,
          "pad": {
           "b": 10,
           "t": 60
          },
          "steps": [
           {
            "args": [
             [
              "2020-09-26"
             ],
             {
              "frame": {
               "duration": 0,
               "redraw": false
              },
              "fromcurrent": true,
              "mode": "immediate",
              "transition": {
               "duration": 0,
               "easing": "linear"
              }
             }
            ],
            "label": "2020-09-26",
            "method": "animate"
           },
           {
            "args": [
             [
              "2020-10-03"
             ],
             {
              "frame": {
               "duration": 0,
               "redraw": false
              },
              "fromcurrent": true,
              "mode": "immediate",
              "transition": {
               "duration": 0,
               "easing": "linear"
              }
             }
            ],
            "label": "2020-10-03",
            "method": "animate"
           },
           {
            "args": [
             [
              "2020-10-10"
             ],
             {
              "frame": {
               "duration": 0,
               "redraw": false
              },
              "fromcurrent": true,
              "mode": "immediate",
              "transition": {
               "duration": 0,
               "easing": "linear"
              }
             }
            ],
            "label": "2020-10-10",
            "method": "animate"
           },
           {
            "args": [
             [
              "2020-10-17"
             ],
             {
              "frame": {
               "duration": 0,
               "redraw": false
              },
              "fromcurrent": true,
              "mode": "immediate",
              "transition": {
               "duration": 0,
               "easing": "linear"
              }
             }
            ],
            "label": "2020-10-17",
            "method": "animate"
           },
           {
            "args": [
             [
              "2020-10-24"
             ],
             {
              "frame": {
               "duration": 0,
               "redraw": false
              },
              "fromcurrent": true,
              "mode": "immediate",
              "transition": {
               "duration": 0,
               "easing": "linear"
              }
             }
            ],
            "label": "2020-10-24",
            "method": "animate"
           }
          ],
          "x": 0.1,
          "xanchor": "left",
          "y": 0,
          "yanchor": "top"
         }
        ],
        "template": {
         "data": {
          "bar": [
           {
            "error_x": {
             "color": "#2a3f5f"
            },
            "error_y": {
             "color": "#2a3f5f"
            },
            "marker": {
             "line": {
              "color": "#E5ECF6",
              "width": 0.5
             }
            },
            "type": "bar"
           }
          ],
          "barpolar": [
           {
            "marker": {
             "line": {
              "color": "#E5ECF6",
              "width": 0.5
             }
            },
            "type": "barpolar"
           }
          ],
          "carpet": [
           {
            "aaxis": {
             "endlinecolor": "#2a3f5f",
             "gridcolor": "white",
             "linecolor": "white",
             "minorgridcolor": "white",
             "startlinecolor": "#2a3f5f"
            },
            "baxis": {
             "endlinecolor": "#2a3f5f",
             "gridcolor": "white",
             "linecolor": "white",
             "minorgridcolor": "white",
             "startlinecolor": "#2a3f5f"
            },
            "type": "carpet"
           }
          ],
          "choropleth": [
           {
            "colorbar": {
             "outlinewidth": 0,
             "ticks": ""
            },
            "type": "choropleth"
           }
          ],
          "contour": [
           {
            "colorbar": {
             "outlinewidth": 0,
             "ticks": ""
            },
            "colorscale": [
             [
              0,
              "#0d0887"
             ],
             [
              0.1111111111111111,
              "#46039f"
             ],
             [
              0.2222222222222222,
              "#7201a8"
             ],
             [
              0.3333333333333333,
              "#9c179e"
             ],
             [
              0.4444444444444444,
              "#bd3786"
             ],
             [
              0.5555555555555556,
              "#d8576b"
             ],
             [
              0.6666666666666666,
              "#ed7953"
             ],
             [
              0.7777777777777778,
              "#fb9f3a"
             ],
             [
              0.8888888888888888,
              "#fdca26"
             ],
             [
              1,
              "#f0f921"
             ]
            ],
            "type": "contour"
           }
          ],
          "contourcarpet": [
           {
            "colorbar": {
             "outlinewidth": 0,
             "ticks": ""
            },
            "type": "contourcarpet"
           }
          ],
          "heatmap": [
           {
            "colorbar": {
             "outlinewidth": 0,
             "ticks": ""
            },
            "colorscale": [
             [
              0,
              "#0d0887"
             ],
             [
              0.1111111111111111,
              "#46039f"
             ],
             [
              0.2222222222222222,
              "#7201a8"
             ],
             [
              0.3333333333333333,
              "#9c179e"
             ],
             [
              0.4444444444444444,
              "#bd3786"
             ],
             [
              0.5555555555555556,
              "#d8576b"
             ],
             [
              0.6666666666666666,
              "#ed7953"
             ],
             [
              0.7777777777777778,
              "#fb9f3a"
             ],
             [
              0.8888888888888888,
              "#fdca26"
             ],
             [
              1,
              "#f0f921"
             ]
            ],
            "type": "heatmap"
           }
          ],
          "heatmapgl": [
           {
            "colorbar": {
             "outlinewidth": 0,
             "ticks": ""
            },
            "colorscale": [
             [
              0,
              "#0d0887"
             ],
             [
              0.1111111111111111,
              "#46039f"
             ],
             [
              0.2222222222222222,
              "#7201a8"
             ],
             [
              0.3333333333333333,
              "#9c179e"
             ],
             [
              0.4444444444444444,
              "#bd3786"
             ],
             [
              0.5555555555555556,
              "#d8576b"
             ],
             [
              0.6666666666666666,
              "#ed7953"
             ],
             [
              0.7777777777777778,
              "#fb9f3a"
             ],
             [
              0.8888888888888888,
              "#fdca26"
             ],
             [
              1,
              "#f0f921"
             ]
            ],
            "type": "heatmapgl"
           }
          ],
          "histogram": [
           {
            "marker": {
             "colorbar": {
              "outlinewidth": 0,
              "ticks": ""
             }
            },
            "type": "histogram"
           }
          ],
          "histogram2d": [
           {
            "colorbar": {
             "outlinewidth": 0,
             "ticks": ""
            },
            "colorscale": [
             [
              0,
              "#0d0887"
             ],
             [
              0.1111111111111111,
              "#46039f"
             ],
             [
              0.2222222222222222,
              "#7201a8"
             ],
             [
              0.3333333333333333,
              "#9c179e"
             ],
             [
              0.4444444444444444,
              "#bd3786"
             ],
             [
              0.5555555555555556,
              "#d8576b"
             ],
             [
              0.6666666666666666,
              "#ed7953"
             ],
             [
              0.7777777777777778,
              "#fb9f3a"
             ],
             [
              0.8888888888888888,
              "#fdca26"
             ],
             [
              1,
              "#f0f921"
             ]
            ],
            "type": "histogram2d"
           }
          ],
          "histogram2dcontour": [
           {
            "colorbar": {
             "outlinewidth": 0,
             "ticks": ""
            },
            "colorscale": [
             [
              0,
              "#0d0887"
             ],
             [
              0.1111111111111111,
              "#46039f"
             ],
             [
              0.2222222222222222,
              "#7201a8"
             ],
             [
              0.3333333333333333,
              "#9c179e"
             ],
             [
              0.4444444444444444,
              "#bd3786"
             ],
             [
              0.5555555555555556,
              "#d8576b"
             ],
             [
              0.6666666666666666,
              "#ed7953"
             ],
             [
              0.7777777777777778,
              "#fb9f3a"
             ],
             [
              0.8888888888888888,
              "#fdca26"
             ],
             [
              1,
              "#f0f921"
             ]
            ],
            "type": "histogram2dcontour"
           }
          ],
          "mesh3d": [
           {
            "colorbar": {
             "outlinewidth": 0,
             "ticks": ""
            },
            "type": "mesh3d"
           }
          ],
          "parcoords": [
           {
            "line": {
             "colorbar": {
              "outlinewidth": 0,
              "ticks": ""
             }
            },
            "type": "parcoords"
           }
          ],
          "pie": [
           {
            "automargin": true,
            "type": "pie"
           }
          ],
          "scatter": [
           {
            "marker": {
             "colorbar": {
              "outlinewidth": 0,
              "ticks": ""
             }
            },
            "type": "scatter"
           }
          ],
          "scatter3d": [
           {
            "line": {
             "colorbar": {
              "outlinewidth": 0,
              "ticks": ""
             }
            },
            "marker": {
             "colorbar": {
              "outlinewidth": 0,
              "ticks": ""
             }
            },
            "type": "scatter3d"
           }
          ],
          "scattercarpet": [
           {
            "marker": {
             "colorbar": {
              "outlinewidth": 0,
              "ticks": ""
             }
            },
            "type": "scattercarpet"
           }
          ],
          "scattergeo": [
           {
            "marker": {
             "colorbar": {
              "outlinewidth": 0,
              "ticks": ""
             }
            },
            "type": "scattergeo"
           }
          ],
          "scattergl": [
           {
            "marker": {
             "colorbar": {
              "outlinewidth": 0,
              "ticks": ""
             }
            },
            "type": "scattergl"
           }
          ],
          "scattermapbox": [
           {
            "marker": {
             "colorbar": {
              "outlinewidth": 0,
              "ticks": ""
             }
            },
            "type": "scattermapbox"
           }
          ],
          "scatterpolar": [
           {
            "marker": {
             "colorbar": {
              "outlinewidth": 0,
              "ticks": ""
             }
            },
            "type": "scatterpolar"
           }
          ],
          "scatterpolargl": [
           {
            "marker": {
             "colorbar": {
              "outlinewidth": 0,
              "ticks": ""
             }
            },
            "type": "scatterpolargl"
           }
          ],
          "scatterternary": [
           {
            "marker": {
             "colorbar": {
              "outlinewidth": 0,
              "ticks": ""
             }
            },
            "type": "scatterternary"
           }
          ],
          "surface": [
           {
            "colorbar": {
             "outlinewidth": 0,
             "ticks": ""
            },
            "colorscale": [
             [
              0,
              "#0d0887"
             ],
             [
              0.1111111111111111,
              "#46039f"
             ],
             [
              0.2222222222222222,
              "#7201a8"
             ],
             [
              0.3333333333333333,
              "#9c179e"
             ],
             [
              0.4444444444444444,
              "#bd3786"
             ],
             [
              0.5555555555555556,
              "#d8576b"
             ],
             [
              0.6666666666666666,
              "#ed7953"
             ],
             [
              0.7777777777777778,
              "#fb9f3a"
             ],
             [
              0.8888888888888888,
              "#fdca26"
             ],
             [
              1,
              "#f0f921"
             ]
            ],
            "type": "surface"
           }
          ],
          "table": [
           {
            "cells": {
             "fill": {
              "color": "#EBF0F8"
             },
             "line": {
              "color": "white"
             }
            },
            "header": {
             "fill": {
              "color": "#C8D4E3"
             },
             "line": {
              "color": "white"
             }
            },
            "type": "table"
           }
          ]
         },
         "layout": {
          "annotationdefaults": {
           "arrowcolor": "#2a3f5f",
           "arrowhead": 0,
           "arrowwidth": 1
          },
          "coloraxis": {
           "colorbar": {
            "outlinewidth": 0,
            "ticks": ""
           }
          },
          "colorscale": {
           "diverging": [
            [
             0,
             "#8e0152"
            ],
            [
             0.1,
             "#c51b7d"
            ],
            [
             0.2,
             "#de77ae"
            ],
            [
             0.3,
             "#f1b6da"
            ],
            [
             0.4,
             "#fde0ef"
            ],
            [
             0.5,
             "#f7f7f7"
            ],
            [
             0.6,
             "#e6f5d0"
            ],
            [
             0.7,
             "#b8e186"
            ],
            [
             0.8,
             "#7fbc41"
            ],
            [
             0.9,
             "#4d9221"
            ],
            [
             1,
             "#276419"
            ]
           ],
           "sequential": [
            [
             0,
             "#0d0887"
            ],
            [
             0.1111111111111111,
             "#46039f"
            ],
            [
             0.2222222222222222,
             "#7201a8"
            ],
            [
             0.3333333333333333,
             "#9c179e"
            ],
            [
             0.4444444444444444,
             "#bd3786"
            ],
            [
             0.5555555555555556,
             "#d8576b"
            ],
            [
             0.6666666666666666,
             "#ed7953"
            ],
            [
             0.7777777777777778,
             "#fb9f3a"
            ],
            [
             0.8888888888888888,
             "#fdca26"
            ],
            [
             1,
             "#f0f921"
            ]
           ],
           "sequentialminus": [
            [
             0,
             "#0d0887"
            ],
            [
             0.1111111111111111,
             "#46039f"
            ],
            [
             0.2222222222222222,
             "#7201a8"
            ],
            [
             0.3333333333333333,
             "#9c179e"
            ],
            [
             0.4444444444444444,
             "#bd3786"
            ],
            [
             0.5555555555555556,
             "#d8576b"
            ],
            [
             0.6666666666666666,
             "#ed7953"
            ],
            [
             0.7777777777777778,
             "#fb9f3a"
            ],
            [
             0.8888888888888888,
             "#fdca26"
            ],
            [
             1,
             "#f0f921"
            ]
           ]
          },
          "colorway": [
           "#636efa",
           "#EF553B",
           "#00cc96",
           "#ab63fa",
           "#FFA15A",
           "#19d3f3",
           "#FF6692",
           "#B6E880",
           "#FF97FF",
           "#FECB52"
          ],
          "font": {
           "color": "#2a3f5f"
          },
          "geo": {
           "bgcolor": "white",
           "lakecolor": "white",
           "landcolor": "#E5ECF6",
           "showlakes": true,
           "showland": true,
           "subunitcolor": "white"
          },
          "hoverlabel": {
           "align": "left"
          },
          "hovermode": "closest",
          "mapbox": {
           "style": "light"
          },
          "paper_bgcolor": "white",
          "plot_bgcolor": "#E5ECF6",
          "polar": {
           "angularaxis": {
            "gridcolor": "white",
            "linecolor": "white",
            "ticks": ""
           },
           "bgcolor": "#E5ECF6",
           "radialaxis": {
            "gridcolor": "white",
            "linecolor": "white",
            "ticks": ""
           }
          },
          "scene": {
           "xaxis": {
            "backgroundcolor": "#E5ECF6",
            "gridcolor": "white",
            "gridwidth": 2,
            "linecolor": "white",
            "showbackground": true,
            "ticks": "",
            "zerolinecolor": "white"
           },
           "yaxis": {
            "backgroundcolor": "#E5ECF6",
            "gridcolor": "white",
            "gridwidth": 2,
            "linecolor": "white",
            "showbackground": true,
            "ticks": "",
            "zerolinecolor": "white"
           },
           "zaxis": {
            "backgroundcolor": "#E5ECF6",
            "gridcolor": "white",
            "gridwidth": 2,
            "linecolor": "white",
            "showbackground": true,
            "ticks": "",
            "zerolinecolor": "white"
           }
          },
          "shapedefaults": {
           "line": {
            "color": "#2a3f5f"
           }
          },
          "ternary": {
           "aaxis": {
            "gridcolor": "white",
            "linecolor": "white",
            "ticks": ""
           },
           "baxis": {
            "gridcolor": "white",
            "linecolor": "white",
            "ticks": ""
           },
           "bgcolor": "#E5ECF6",
           "caxis": {
            "gridcolor": "white",
            "linecolor": "white",
            "ticks": ""
           }
          },
          "title": {
           "x": 0.05
          },
          "xaxis": {
           "automargin": true,
           "gridcolor": "white",
           "linecolor": "white",
           "ticks": "",
           "title": {
            "standoff": 15
           },
           "zerolinecolor": "white",
           "zerolinewidth": 2
          },
          "yaxis": {
           "automargin": true,
           "gridcolor": "white",
           "linecolor": "white",
           "ticks": "",
           "title": {
            "standoff": 15
           },
           "zerolinecolor": "white",
           "zerolinewidth": 2
          }
         }
        },
        "title": {
         "text": "covid"
        },
        "updatemenus": [
         {
          "active": 1,
          "buttons": [
           {
            "args": [
             null,
             {
              "frame": {
               "duration": 700,
               "redraw": false
              },
              "fromcurrent": true,
              "mode": "immediate",
              "transition": {
               "duration": 500,
               "easing": "linear"
              }
             }
            ],
            "label": "&#9654;",
            "method": "animate"
           },
           {
            "args": [
             [
              null
             ],
             {
              "frame": {
               "duration": 0,
               "redraw": false
              },
              "fromcurrent": true,
              "mode": "immediate",
              "transition": {
               "duration": 0,
               "easing": "linear"
              }
             }
            ],
            "label": "&#9724;",
            "method": "animate"
           }
          ],
          "direction": "left",
          "pad": {
           "r": 10,
           "t": 70
          },
          "showactive": false,
          "type": "buttons",
          "x": 0.1,
          "xanchor": "right",
          "y": 0,
          "yanchor": "top"
         }
        ],
        "xaxis": {
         "anchor": "y",
         "domain": [
          0,
          1
         ],
         "gridcolor": "white",
         "gridwidth": 1,
         "range": [
          -70,
          150
         ],
         "title": {
          "text": "Rychlost Sirenia (% narast pripadov za 7 dni (na 10tis. obyvatelov))"
         },
         "type": "linear"
        },
        "yaxis": {
         "anchor": "x",
         "domain": [
          0,
          1
         ],
         "gridcolor": "white",
         "gridwidth": 1,
         "range": [
          0,
          115
         ],
         "title": {
          "text": "Sila Sirenia (pocet novych pripadov za 7 dni (na 10tis. obyvatelov))"
         },
         "type": "linear"
        }
       }
      },
      "image/png": "[encoded data removed]",
      "text/html": [
       "<div>\n",
       "        \n",
       "        \n",
       "            <div id=\"04d1807b-1a3c-4da3-894b-63854c8101db\" class=\"plotly-graph-div\" style=\"height:600px; width:100%;\"></div>\n",
       "            <script type=\"text/javascript\">\n",
       "                require([\"plotly\"], function(Plotly) {\n",
       "                    window.PLOTLYENV=window.PLOTLYENV || {};\n",
       "                    \n",
       "                if (document.getElementById(\"04d1807b-1a3c-4da3-894b-63854c8101db\")) {\n",
       "                    Plotly.newPlot(\n",
       "                        '04d1807b-1a3c-4da3-894b-63854c8101db',\n",
       "                        [{\"hoverlabel\": {\"namelength\": 0}, \"hovertemplate\": \"<b>%{hovertext}</b><br><br>Region=%{text}<br>Date=2020-09-26<br>Rychlost_sirenia_%=%{x}<br>Sila_sirenia=%{y}<br>Aktivni_celkom=%{marker.size}\", \"hovertext\": [\"Uhersk\\u00e9 Hradi\\u0161te\"], \"ids\": [\"Uhersk\\u00e9 Hradi\\u0161te\"], \"legendgroup\": \"Region=Uhersk\\u00e9 Hradi\\u0161te\", \"marker\": {\"color\": \"#636efa\", \"size\": [15.61], \"sizemode\": \"area\", \"sizeref\": 0.067112, \"symbol\": \"circle\"}, \"mode\": \"markers\", \"name\": \"Region=Uhersk\\u00e9 Hradi\\u0161te\", \"showlegend\": true, \"text\": [\"Uhersk\\u00e9 Hradi\\u0161te\"], \"type\": \"scatter\", \"x\": [5.0], \"xaxis\": \"x\", \"y\": [8.04], \"yaxis\": \"y\"}, {\"hoverlabel\": {\"namelength\": 0}, \"hovertemplate\": \"<b>%{hovertext}</b><br><br>Region=%{text}<br>Date=2020-09-26<br>Rychlost_sirenia_%=%{x}<br>Sila_sirenia=%{y}<br>Aktivni_celkom=%{marker.size}\", \"hovertext\": [\"Tvrdo\\u0161\\u00edn\"], \"ids\": [\"Tvrdo\\u0161\\u00edn\"], \"legendgroup\": \"Region=Tvrdo\\u0161\\u00edn\", \"marker\": {\"color\": \"#EF553B\", \"size\": [16.11], \"sizemode\": \"area\", \"sizeref\": 0.067112, \"symbol\": \"circle\"}, \"mode\": \"markers\", \"name\": \"Region=Tvrdo\\u0161\\u00edn\", \"showlegend\": true, \"text\": [\"Tvrdo\\u0161\\u00edn\"], \"type\": \"scatter\", \"x\": [6.0], \"xaxis\": \"x\", \"y\": [10.08], \"yaxis\": \"y\"}, {\"hoverlabel\": {\"namelength\": 0}, \"hovertemplate\": \"<b>%{hovertext}</b><br><br>Region=%{text}<br>Date=2020-09-26<br>Rychlost_sirenia_%=%{x}<br>Sila_sirenia=%{y}<br>Aktivni_celkom=%{marker.size}\", \"hovertext\": [\"N\\u00e1mestovo\"], \"ids\": [\"N\\u00e1mestovo\"], \"legendgroup\": \"Region=N\\u00e1mestovo\", \"marker\": {\"color\": \"#00cc96\", \"size\": [13.73], \"sizemode\": \"area\", \"sizeref\": 0.067112, \"symbol\": \"circle\"}, \"mode\": \"markers\", \"name\": \"Region=N\\u00e1mestovo\", \"showlegend\": true, \"text\": [\"N\\u00e1mestovo\"], \"type\": \"scatter\", \"x\": [5.0], \"xaxis\": \"x\", \"y\": [8.32], \"yaxis\": \"y\"}, {\"hoverlabel\": {\"namelength\": 0}, \"hovertemplate\": \"<b>%{hovertext}</b><br><br>Region=%{text}<br>Date=2020-09-26<br>Rychlost_sirenia_%=%{x}<br>Sila_sirenia=%{y}<br>Aktivni_celkom=%{marker.size}\", \"hovertext\": [\"Bardejov\"], \"ids\": [\"Bardejov\"], \"legendgroup\": \"Region=Bardejov\", \"marker\": {\"color\": \"#ab63fa\", \"size\": [12.59], \"sizemode\": \"area\", \"sizeref\": 0.067112, \"symbol\": \"circle\"}, \"mode\": \"markers\", \"name\": \"Region=Bardejov\", \"showlegend\": true, \"text\": [\"Bardejov\"], \"type\": \"scatter\", \"x\": [5.0], \"xaxis\": \"x\", \"y\": [7.54], \"yaxis\": \"y\"}, {\"hoverlabel\": {\"namelength\": 0}, \"hovertemplate\": \"<b>%{hovertext}</b><br><br>Region=%{text}<br>Date=2020-09-26<br>Rychlost_sirenia_%=%{x}<br>Sila_sirenia=%{y}<br>Aktivni_celkom=%{marker.size}\", \"hovertext\": [\"Doln\\u00fd Kub\\u00edn\"], \"ids\": [\"Doln\\u00fd Kub\\u00edn\"], \"legendgroup\": \"Region=Doln\\u00fd Kub\\u00edn\", \"marker\": {\"color\": \"#FFA15A\", \"size\": [13.93], \"sizemode\": \"area\", \"sizeref\": 0.067112, \"symbol\": \"circle\"}, \"mode\": \"markers\", \"name\": \"Region=Doln\\u00fd Kub\\u00edn\", \"showlegend\": true, \"text\": [\"Doln\\u00fd Kub\\u00edn\"], \"type\": \"scatter\", \"x\": [11.0], \"xaxis\": \"x\", \"y\": [9.45], \"yaxis\": \"y\"}, {\"hoverlabel\": {\"namelength\": 0}, \"hovertemplate\": \"<b>%{hovertext}</b><br><br>Region=%{text}<br>Date=2020-09-26<br>Rychlost_sirenia_%=%{x}<br>Sila_sirenia=%{y}<br>Aktivni_celkom=%{marker.size}\", \"hovertext\": [\"Liptovsk\\u00fd Mikul\\u00e1\\u0161\"], \"ids\": [\"Liptovsk\\u00fd Mikul\\u00e1\\u0161\"], \"legendgroup\": \"Region=Liptovsk\\u00fd Mikul\\u00e1\\u0161\", \"marker\": {\"color\": \"#19d3f3\", \"size\": [7.08], \"sizemode\": \"area\", \"sizeref\": 0.067112, \"symbol\": \"circle\"}, \"mode\": \"markers\", \"name\": \"Region=Liptovsk\\u00fd Mikul\\u00e1\\u0161\", \"showlegend\": true, \"text\": [\"Liptovsk\\u00fd Mikul\\u00e1\\u0161\"], \"type\": \"scatter\", \"x\": [9.0], \"xaxis\": \"x\", \"y\": [4.65], \"yaxis\": \"y\"}, {\"hoverlabel\": {\"namelength\": 0}, \"hovertemplate\": \"<b>%{hovertext}</b><br><br>Region=%{text}<br>Date=2020-09-26<br>Rychlost_sirenia_%=%{x}<br>Sila_sirenia=%{y}<br>Aktivni_celkom=%{marker.size}\", \"hovertext\": [\"Sabinov\"], \"ids\": [\"Sabinov\"], \"legendgroup\": \"Region=Sabinov\", \"marker\": {\"color\": \"#FF6692\", \"size\": [6.53], \"sizemode\": \"area\", \"sizeref\": 0.067112, \"symbol\": \"circle\"}, \"mode\": \"markers\", \"name\": \"Region=Sabinov\", \"showlegend\": true, \"text\": [\"Sabinov\"], \"type\": \"scatter\", \"x\": [7.000000000000001], \"xaxis\": \"x\", \"y\": [4.17], \"yaxis\": \"y\"}, {\"hoverlabel\": {\"namelength\": 0}, \"hovertemplate\": \"<b>%{hovertext}</b><br><br>Region=%{text}<br>Date=2020-09-26<br>Rychlost_sirenia_%=%{x}<br>Sila_sirenia=%{y}<br>Aktivni_celkom=%{marker.size}\", \"hovertext\": [\"Praha\"], \"ids\": [\"Praha\"], \"legendgroup\": \"Region=Praha\", \"marker\": {\"color\": \"#B6E880\", \"size\": [11.27], \"sizemode\": \"area\", \"sizeref\": 0.067112, \"symbol\": \"circle\"}, \"mode\": \"markers\", \"name\": \"Region=Praha\", \"showlegend\": true, \"text\": [\"Praha\"], \"type\": \"scatter\", \"x\": [12.0], \"xaxis\": \"x\", \"y\": [6.85], \"yaxis\": \"y\"}, {\"hoverlabel\": {\"namelength\": 0}, \"hovertemplate\": \"<b>%{hovertext}</b><br><br>Region=%{text}<br>Date=2020-09-26<br>Rychlost_sirenia_%=%{x}<br>Sila_sirenia=%{y}<br>Aktivni_celkom=%{marker.size}\", \"hovertext\": [\"\\u010cadca\"], \"ids\": [\"\\u010cadca\"], \"legendgroup\": \"Region=\\u010cadca\", \"marker\": {\"color\": \"#FF97FF\", \"size\": [5.12], \"sizemode\": \"area\", \"sizeref\": 0.067112, \"symbol\": \"circle\"}, \"mode\": \"markers\", \"name\": \"Region=\\u010cadca\", \"showlegend\": true, \"text\": [\"\\u010cadca\"], \"type\": \"scatter\", \"x\": [13.0], \"xaxis\": \"x\", \"y\": [3.58], \"yaxis\": \"y\"}, {\"hoverlabel\": {\"namelength\": 0}, \"hovertemplate\": \"<b>%{hovertext}</b><br><br>Region=%{text}<br>Date=2020-09-26<br>Rychlost_sirenia_%=%{x}<br>Sila_sirenia=%{y}<br>Aktivni_celkom=%{marker.size}\", \"hovertext\": [\"Ro\\u017e\\u0148ava a Rev\\u00faca\"], \"ids\": [\"Ro\\u017e\\u0148ava a Rev\\u00faca\"], \"legendgroup\": \"Region=Ro\\u017e\\u0148ava a Rev\\u00faca\", \"marker\": {\"color\": \"#FECB52\", \"size\": [0.53], \"sizemode\": \"area\", \"sizeref\": 0.067112, \"symbol\": \"circle\"}, \"mode\": \"markers\", \"name\": \"Region=Ro\\u017e\\u0148ava a Rev\\u00faca\", \"showlegend\": true, \"text\": [\"Ro\\u017e\\u0148ava a Rev\\u00faca\"], \"type\": \"scatter\", \"x\": [14.000000000000002], \"xaxis\": \"x\", \"y\": [0.38], \"yaxis\": \"y\"}, {\"hoverlabel\": {\"namelength\": 0}, \"hovertemplate\": \"<b>%{hovertext}</b><br><br>Region=%{text}<br>Date=2020-09-26<br>Rychlost_sirenia_%=%{x}<br>Sila_sirenia=%{y}<br>Aktivni_celkom=%{marker.size}\", \"hovertext\": [\"Levice\"], \"ids\": [\"Levice\"], \"legendgroup\": \"Region=Levice\", \"marker\": {\"color\": \"#636efa\", \"size\": [0.58], \"sizemode\": \"area\", \"sizeref\": 0.067112, \"symbol\": \"circle\"}, \"mode\": \"markers\", \"name\": \"Region=Levice\", \"showlegend\": true, \"text\": [\"Levice\"], \"type\": \"scatter\", \"x\": [-1.0], \"xaxis\": \"x\", \"y\": [0.27], \"yaxis\": \"y\"}, {\"hoverlabel\": {\"namelength\": 0}, \"hovertemplate\": \"<b>%{hovertext}</b><br><br>Region=%{text}<br>Date=2020-09-26<br>Rychlost_sirenia_%=%{x}<br>Sila_sirenia=%{y}<br>Aktivni_celkom=%{marker.size}\", \"hovertext\": [\"Rimavsk\\u00e1 Sobota\"], \"ids\": [\"Rimavsk\\u00e1 Sobota\"], \"legendgroup\": \"Region=Rimavsk\\u00e1 Sobota\", \"marker\": {\"color\": \"#EF553B\", \"size\": [0.45], \"sizemode\": \"area\", \"sizeref\": 0.067112, \"symbol\": \"circle\"}, \"mode\": \"markers\", \"name\": \"Region=Rimavsk\\u00e1 Sobota\", \"showlegend\": true, \"text\": [\"Rimavsk\\u00e1 Sobota\"], \"type\": \"scatter\", \"x\": [-6.0], \"xaxis\": \"x\", \"y\": [0.13], \"yaxis\": \"y\"}, {\"hoverlabel\": {\"namelength\": 0}, \"hovertemplate\": \"<b>%{hovertext}</b><br><br>Region=%{text}<br>Date=2020-09-26<br>Rychlost_sirenia_%=%{x}<br>Sila_sirenia=%{y}<br>Aktivni_celkom=%{marker.size}\", \"hovertext\": [\"Bratislava\"], \"ids\": [\"Bratislava\"], \"legendgroup\": \"Region=Bratislava\", \"marker\": {\"color\": \"#00cc96\", \"size\": [2.04], \"sizemode\": \"area\", \"sizeref\": 0.067112, \"symbol\": \"circle\"}, \"mode\": \"markers\", \"name\": \"Region=Bratislava\", \"showlegend\": true, \"text\": [\"Bratislava\"], \"type\": \"scatter\", \"x\": [1.0], \"xaxis\": \"x\", \"y\": [1.09], \"yaxis\": \"y\"}, {\"hoverlabel\": {\"namelength\": 0}, \"hovertemplate\": \"<b>%{hovertext}</b><br><br>Region=%{text}<br>Date=2020-09-26<br>Rychlost_sirenia_%=%{x}<br>Sila_sirenia=%{y}<br>Aktivni_celkom=%{marker.size}\", \"hovertext\": [\"Myjava a Skalica\"], \"ids\": [\"Myjava a Skalica\"], \"legendgroup\": \"Region=Myjava a Skalica\", \"marker\": {\"color\": \"#ab63fa\", \"size\": [5.52], \"sizemode\": \"area\", \"sizeref\": 0.067112, \"symbol\": \"circle\"}, \"mode\": \"markers\", \"name\": \"Region=Myjava a Skalica\", \"showlegend\": true, \"text\": [\"Myjava a Skalica\"], \"type\": \"scatter\", \"x\": [1.0], \"xaxis\": \"x\", \"y\": [2.96], \"yaxis\": \"y\"}],\n",
       "                        {\"height\": 600, \"legend\": {\"itemsizing\": \"constant\", \"tracegroupgap\": 0}, \"margin\": {\"t\": 60}, \"paper_bgcolor\": \"rgb(243, 243, 243)\", \"plot_bgcolor\": \"rgb(243, 243, 243)\", \"sliders\": [{\"active\": 0, \"currentvalue\": {\"prefix\": \"Date=\"}, \"len\": 0.9, \"pad\": {\"b\": 10, \"t\": 60}, \"steps\": [{\"args\": [[\"2020-09-26\"], {\"frame\": {\"duration\": 0, \"redraw\": false}, \"fromcurrent\": true, \"mode\": \"immediate\", \"transition\": {\"duration\": 0, \"easing\": \"linear\"}}], \"label\": \"2020-09-26\", \"method\": \"animate\"}, {\"args\": [[\"2020-10-03\"], {\"frame\": {\"duration\": 0, \"redraw\": false}, \"fromcurrent\": true, \"mode\": \"immediate\", \"transition\": {\"duration\": 0, \"easing\": \"linear\"}}], \"label\": \"2020-10-03\", \"method\": \"animate\"}, {\"args\": [[\"2020-10-10\"], {\"frame\": {\"duration\": 0, \"redraw\": false}, \"fromcurrent\": true, \"mode\": \"immediate\", \"transition\": {\"duration\": 0, \"easing\": \"linear\"}}], \"label\": \"2020-10-10\", \"method\": \"animate\"}, {\"args\": [[\"2020-10-17\"], {\"frame\": {\"duration\": 0, \"redraw\": false}, \"fromcurrent\": true, \"mode\": \"immediate\", \"transition\": {\"duration\": 0, \"easing\": \"linear\"}}], \"label\": \"2020-10-17\", \"method\": \"animate\"}, {\"args\": [[\"2020-10-24\"], {\"frame\": {\"duration\": 0, \"redraw\": false}, \"fromcurrent\": true, \"mode\": \"immediate\", \"transition\": {\"duration\": 0, \"easing\": \"linear\"}}], \"label\": \"2020-10-24\", \"method\": \"animate\"}], \"x\": 0.1, \"xanchor\": \"left\", \"y\": 0, \"yanchor\": \"top\"}], \"template\": {\"data\": {\"bar\": [{\"error_x\": {\"color\": \"#2a3f5f\"}, \"error_y\": {\"color\": \"#2a3f5f\"}, \"marker\": {\"line\": {\"color\": \"#E5ECF6\", \"width\": 0.5}}, \"type\": \"bar\"}], \"barpolar\": [{\"marker\": {\"line\": {\"color\": \"#E5ECF6\", \"width\": 0.5}}, \"type\": \"barpolar\"}], \"carpet\": [{\"aaxis\": {\"endlinecolor\": \"#2a3f5f\", \"gridcolor\": \"white\", \"linecolor\": \"white\", \"minorgridcolor\": \"white\", \"startlinecolor\": \"#2a3f5f\"}, \"baxis\": {\"endlinecolor\": \"#2a3f5f\", \"gridcolor\": \"white\", \"linecolor\": \"white\", \"minorgridcolor\": \"white\", \"startlinecolor\": \"#2a3f5f\"}, \"type\": \"carpet\"}], \"choropleth\": [{\"colorbar\": {\"outlinewidth\": 0, \"ticks\": \"\"}, \"type\": \"choropleth\"}], \"contour\": [{\"colorbar\": {\"outlinewidth\": 0, \"ticks\": \"\"}, \"colorscale\": [[0.0, \"#0d0887\"], [0.1111111111111111, \"#46039f\"], [0.2222222222222222, \"#7201a8\"], [0.3333333333333333, \"#9c179e\"], [0.4444444444444444, \"#bd3786\"], [0.5555555555555556, \"#d8576b\"], [0.6666666666666666, \"#ed7953\"], [0.7777777777777778, \"#fb9f3a\"], [0.8888888888888888, \"#fdca26\"], [1.0, \"#f0f921\"]], \"type\": \"contour\"}], \"contourcarpet\": [{\"colorbar\": {\"outlinewidth\": 0, \"ticks\": \"\"}, \"type\": \"contourcarpet\"}], \"heatmap\": [{\"colorbar\": {\"outlinewidth\": 0, \"ticks\": \"\"}, \"colorscale\": [[0.0, \"#0d0887\"], [0.1111111111111111, \"#46039f\"], [0.2222222222222222, \"#7201a8\"], [0.3333333333333333, \"#9c179e\"], [0.4444444444444444, \"#bd3786\"], [0.5555555555555556, \"#d8576b\"], [0.6666666666666666, \"#ed7953\"], [0.7777777777777778, \"#fb9f3a\"], [0.8888888888888888, \"#fdca26\"], [1.0, \"#f0f921\"]], \"type\": \"heatmap\"}], \"heatmapgl\": [{\"colorbar\": {\"outlinewidth\": 0, \"ticks\": \"\"}, \"colorscale\": [[0.0, \"#0d0887\"], [0.1111111111111111, \"#46039f\"], [0.2222222222222222, \"#7201a8\"], [0.3333333333333333, \"#9c179e\"], [0.4444444444444444, \"#bd3786\"], [0.5555555555555556, \"#d8576b\"], [0.6666666666666666, \"#ed7953\"], [0.7777777777777778, \"#fb9f3a\"], [0.8888888888888888, \"#fdca26\"], [1.0, \"#f0f921\"]], \"type\": \"heatmapgl\"}], \"histogram\": [{\"marker\": {\"colorbar\": {\"outlinewidth\": 0, \"ticks\": \"\"}}, \"type\": \"histogram\"}], \"histogram2d\": [{\"colorbar\": {\"outlinewidth\": 0, \"ticks\": \"\"}, \"colorscale\": [[0.0, \"#0d0887\"], [0.1111111111111111, \"#46039f\"], [0.2222222222222222, \"#7201a8\"], [0.3333333333333333, \"#9c179e\"], [0.4444444444444444, \"#bd3786\"], [0.5555555555555556, \"#d8576b\"], [0.6666666666666666, \"#ed7953\"], [0.7777777777777778, \"#fb9f3a\"], [0.8888888888888888, \"#fdca26\"], [1.0, \"#f0f921\"]], \"type\": \"histogram2d\"}], \"histogram2dcontour\": [{\"colorbar\": {\"outlinewidth\": 0, \"ticks\": \"\"}, \"colorscale\": [[0.0, \"#0d0887\"], [0.1111111111111111, \"#46039f\"], [0.2222222222222222, \"#7201a8\"], [0.3333333333333333, \"#9c179e\"], [0.4444444444444444, \"#bd3786\"], [0.5555555555555556, \"#d8576b\"], [0.6666666666666666, \"#ed7953\"], [0.7777777777777778, \"#fb9f3a\"], [0.8888888888888888, \"#fdca26\"], [1.0, \"#f0f921\"]], \"type\": \"histogram2dcontour\"}], \"mesh3d\": [{\"colorbar\": {\"outlinewidth\": 0, \"ticks\": \"\"}, \"type\": \"mesh3d\"}], \"parcoords\": [{\"line\": {\"colorbar\": {\"outlinewidth\": 0, \"ticks\": \"\"}}, \"type\": \"parcoords\"}], \"pie\": [{\"automargin\": true, \"type\": \"pie\"}], \"scatter\": [{\"marker\": {\"colorbar\": {\"outlinewidth\": 0, \"ticks\": \"\"}}, \"type\": \"scatter\"}], \"scatter3d\": [{\"line\": {\"colorbar\": {\"outlinewidth\": 0, \"ticks\": \"\"}}, \"marker\": {\"colorbar\": {\"outlinewidth\": 0, \"ticks\": \"\"}}, \"type\": \"scatter3d\"}], \"scattercarpet\": [{\"marker\": {\"colorbar\": {\"outlinewidth\": 0, \"ticks\": \"\"}}, \"type\": \"scattercarpet\"}], \"scattergeo\": [{\"marker\": {\"colorbar\": {\"outlinewidth\": 0, \"ticks\": \"\"}}, \"type\": \"scattergeo\"}], \"scattergl\": [{\"marker\": {\"colorbar\": {\"outlinewidth\": 0, \"ticks\": \"\"}}, \"type\": \"scattergl\"}], \"scattermapbox\": [{\"marker\": {\"colorbar\": {\"outlinewidth\": 0, \"ticks\": \"\"}}, \"type\": \"scattermapbox\"}], \"scatterpolar\": [{\"marker\": {\"colorbar\": {\"outlinewidth\": 0, \"ticks\": \"\"}}, \"type\": \"scatterpolar\"}], \"scatterpolargl\": [{\"marker\": {\"colorbar\": {\"outlinewidth\": 0, \"ticks\": \"\"}}, \"type\": \"scatterpolargl\"}], \"scatterternary\": [{\"marker\": {\"colorbar\": {\"outlinewidth\": 0, \"ticks\": \"\"}}, \"type\": \"scatterternary\"}], \"surface\": [{\"colorbar\": {\"outlinewidth\": 0, \"ticks\": \"\"}, \"colorscale\": [[0.0, \"#0d0887\"], [0.1111111111111111, \"#46039f\"], [0.2222222222222222, \"#7201a8\"], [0.3333333333333333, \"#9c179e\"], [0.4444444444444444, \"#bd3786\"], [0.5555555555555556, \"#d8576b\"], [0.6666666666666666, \"#ed7953\"], [0.7777777777777778, \"#fb9f3a\"], [0.8888888888888888, \"#fdca26\"], [1.0, \"#f0f921\"]], \"type\": \"surface\"}], \"table\": [{\"cells\": {\"fill\": {\"color\": \"#EBF0F8\"}, \"line\": {\"color\": \"white\"}}, \"header\": {\"fill\": {\"color\": \"#C8D4E3\"}, \"line\": {\"color\": \"white\"}}, \"type\": \"table\"}]}, \"layout\": {\"annotationdefaults\": {\"arrowcolor\": \"#2a3f5f\", \"arrowhead\": 0, \"arrowwidth\": 1}, \"coloraxis\": {\"colorbar\": {\"outlinewidth\": 0, \"ticks\": \"\"}}, \"colorscale\": {\"diverging\": [[0, \"#8e0152\"], [0.1, \"#c51b7d\"], [0.2, \"#de77ae\"], [0.3, \"#f1b6da\"], [0.4, \"#fde0ef\"], [0.5, \"#f7f7f7\"], [0.6, \"#e6f5d0\"], [0.7, \"#b8e186\"], [0.8, \"#7fbc41\"], [0.9, \"#4d9221\"], [1, \"#276419\"]], \"sequential\": [[0.0, \"#0d0887\"], [0.1111111111111111, \"#46039f\"], [0.2222222222222222, \"#7201a8\"], [0.3333333333333333, \"#9c179e\"], [0.4444444444444444, \"#bd3786\"], [0.5555555555555556, \"#d8576b\"], [0.6666666666666666, \"#ed7953\"], [0.7777777777777778, \"#fb9f3a\"], [0.8888888888888888, \"#fdca26\"], [1.0, \"#f0f921\"]], \"sequentialminus\": [[0.0, \"#0d0887\"], [0.1111111111111111, \"#46039f\"], [0.2222222222222222, \"#7201a8\"], [0.3333333333333333, \"#9c179e\"], [0.4444444444444444, \"#bd3786\"], [0.5555555555555556, \"#d8576b\"], [0.6666666666666666, \"#ed7953\"], [0.7777777777777778, \"#fb9f3a\"], [0.8888888888888888, \"#fdca26\"], [1.0, \"#f0f921\"]]}, \"colorway\": [\"#636efa\", \"#EF553B\", \"#00cc96\", \"#ab63fa\", \"#FFA15A\", \"#19d3f3\", \"#FF6692\", \"#B6E880\", \"#FF97FF\", \"#FECB52\"], \"font\": {\"color\": \"#2a3f5f\"}, \"geo\": {\"bgcolor\": \"white\", \"lakecolor\": \"white\", \"landcolor\": \"#E5ECF6\", \"showlakes\": true, \"showland\": true, \"subunitcolor\": \"white\"}, \"hoverlabel\": {\"align\": \"left\"}, \"hovermode\": \"closest\", \"mapbox\": {\"style\": \"light\"}, \"paper_bgcolor\": \"white\", \"plot_bgcolor\": \"#E5ECF6\", \"polar\": {\"angularaxis\": {\"gridcolor\": \"white\", \"linecolor\": \"white\", \"ticks\": \"\"}, \"bgcolor\": \"#E5ECF6\", \"radialaxis\": {\"gridcolor\": \"white\", \"linecolor\": \"white\", \"ticks\": \"\"}}, \"scene\": {\"xaxis\": {\"backgroundcolor\": \"#E5ECF6\", \"gridcolor\": \"white\", \"gridwidth\": 2, \"linecolor\": \"white\", \"showbackground\": true, \"ticks\": \"\", \"zerolinecolor\": \"white\"}, \"yaxis\": {\"backgroundcolor\": \"#E5ECF6\", \"gridcolor\": \"white\", \"gridwidth\": 2, \"linecolor\": \"white\", \"showbackground\": true, \"ticks\": \"\", \"zerolinecolor\": \"white\"}, \"zaxis\": {\"backgroundcolor\": \"#E5ECF6\", \"gridcolor\": \"white\", \"gridwidth\": 2, \"linecolor\": \"white\", \"showbackground\": true, \"ticks\": \"\", \"zerolinecolor\": \"white\"}}, \"shapedefaults\": {\"line\": {\"color\": \"#2a3f5f\"}}, \"ternary\": {\"aaxis\": {\"gridcolor\": \"white\", \"linecolor\": \"white\", \"ticks\": \"\"}, \"baxis\": {\"gridcolor\": \"white\", \"linecolor\": \"white\", \"ticks\": \"\"}, \"bgcolor\": \"#E5ECF6\", \"caxis\": {\"gridcolor\": \"white\", \"linecolor\": \"white\", \"ticks\": \"\"}}, \"title\": {\"x\": 0.05}, \"xaxis\": {\"automargin\": true, \"gridcolor\": \"white\", \"linecolor\": \"white\", \"ticks\": \"\", \"title\": {\"standoff\": 15}, \"zerolinecolor\": \"white\", \"zerolinewidth\": 2}, \"yaxis\": {\"automargin\": true, \"gridcolor\": \"white\", \"linecolor\": \"white\", \"ticks\": \"\", \"title\": {\"standoff\": 15}, \"zerolinecolor\": \"white\", \"zerolinewidth\": 2}}}, \"title\": {\"text\": \"covid\"}, \"updatemenus\": [{\"buttons\": [{\"args\": [null, {\"frame\": {\"duration\": 700, \"redraw\": false}, \"fromcurrent\": true, \"mode\": \"immediate\", \"transition\": {\"duration\": 500, \"easing\": \"linear\"}}], \"label\": \"&#9654;\", \"method\": \"animate\"}, {\"args\": [[null], {\"frame\": {\"duration\": 0, \"redraw\": false}, \"fromcurrent\": true, \"mode\": \"immediate\", \"transition\": {\"duration\": 0, \"easing\": \"linear\"}}], \"label\": \"&#9724;\", \"method\": \"animate\"}], \"direction\": \"left\", \"pad\": {\"r\": 10, \"t\": 70}, \"showactive\": false, \"type\": \"buttons\", \"x\": 0.1, \"xanchor\": \"right\", \"y\": 0, \"yanchor\": \"top\"}], \"xaxis\": {\"anchor\": \"y\", \"domain\": [0.0, 1.0], \"gridcolor\": \"white\", \"gridwidth\": 1, \"range\": [-70, 150], \"title\": {\"text\": \"Rychlost Sirenia (% narast pripadov za 7 dni (na 10tis. obyvatelov))\"}}, \"yaxis\": {\"anchor\": \"x\", \"domain\": [0.0, 1.0], \"gridcolor\": \"white\", \"gridwidth\": 1, \"range\": [0, 115], \"title\": {\"text\": \"Sila Sirenia (pocet novych pripadov za 7 dni (na 10tis. obyvatelov))\"}}},\n",
       "                        {\"responsive\": true}\n",
       "                    ).then(function(){\n",
       "                            Plotly.addFrames('04d1807b-1a3c-4da3-894b-63854c8101db', [{\"data\": [{\"hoverlabel\": {\"namelength\": 0}, \"hovertemplate\": \"<b>%{hovertext}</b><br><br>Region=%{text}<br>Date=2020-09-26<br>Rychlost_sirenia_%=%{x}<br>Sila_sirenia=%{y}<br>Aktivni_celkom=%{marker.size}\", \"hovertext\": [\"Uhersk\\u00e9 Hradi\\u0161te\"], \"ids\": [\"Uhersk\\u00e9 Hradi\\u0161te\"], \"legendgroup\": \"Region=Uhersk\\u00e9 Hradi\\u0161te\", \"marker\": {\"color\": \"#636efa\", \"size\": [15.61], \"sizemode\": \"area\", \"sizeref\": 0.067112, \"symbol\": \"circle\"}, \"mode\": \"markers+text\", \"name\": \"Region=Uhersk\\u00e9 Hradi\\u0161te\", \"showlegend\": true, \"text\": [\"Uhersk\\u00e9 Hradi\\u0161te\"], \"x\": [5.0], \"xaxis\": \"x\", \"y\": [8.04], \"yaxis\": \"y\", \"type\": \"scatter\"}, {\"hoverlabel\": {\"namelength\": 0}, \"hovertemplate\": \"<b>%{hovertext}</b><br><br>Region=%{text}<br>Date=2020-09-26<br>Rychlost_sirenia_%=%{x}<br>Sila_sirenia=%{y}<br>Aktivni_celkom=%{marker.size}\", \"hovertext\": [\"Tvrdo\\u0161\\u00edn\"], \"ids\": [\"Tvrdo\\u0161\\u00edn\"], \"legendgroup\": \"Region=Tvrdo\\u0161\\u00edn\", \"marker\": {\"color\": \"#EF553B\", \"size\": [16.11], \"sizemode\": \"area\", \"sizeref\": 0.067112, \"symbol\": \"circle\"}, \"mode\": \"markers+text\", \"name\": \"Region=Tvrdo\\u0161\\u00edn\", \"showlegend\": true, \"text\": [\"Tvrdo\\u0161\\u00edn\"], \"x\": [6.0], \"xaxis\": \"x\", \"y\": [10.08], \"yaxis\": \"y\", \"type\": \"scatter\"}, {\"hoverlabel\": {\"namelength\": 0}, \"hovertemplate\": \"<b>%{hovertext}</b><br><br>Region=%{text}<br>Date=2020-09-26<br>Rychlost_sirenia_%=%{x}<br>Sila_sirenia=%{y}<br>Aktivni_celkom=%{marker.size}\", \"hovertext\": [\"N\\u00e1mestovo\"], \"ids\": [\"N\\u00e1mestovo\"], \"legendgroup\": \"Region=N\\u00e1mestovo\", \"marker\": {\"color\": \"#00cc96\", \"size\": [13.73], \"sizemode\": \"area\", \"sizeref\": 0.067112, \"symbol\": \"circle\"}, \"mode\": \"markers+text\", \"name\": \"Region=N\\u00e1mestovo\", \"showlegend\": true, \"text\": [\"N\\u00e1mestovo\"], \"x\": [5.0], \"xaxis\": \"x\", \"y\": [8.32], \"yaxis\": \"y\", \"type\": \"scatter\"}, {\"hoverlabel\": {\"namelength\": 0}, \"hovertemplate\": \"<b>%{hovertext}</b><br><br>Region=%{text}<br>Date=2020-09-26<br>Rychlost_sirenia_%=%{x}<br>Sila_sirenia=%{y}<br>Aktivni_celkom=%{marker.size}\", \"hovertext\": [\"Bardejov\"], \"ids\": [\"Bardejov\"], \"legendgroup\": \"Region=Bardejov\", \"marker\": {\"color\": \"#ab63fa\", \"size\": [12.59], \"sizemode\": \"area\", \"sizeref\": 0.067112, \"symbol\": \"circle\"}, \"mode\": \"markers+text\", \"name\": \"Region=Bardejov\", \"showlegend\": true, \"text\": [\"Bardejov\"], \"x\": [5.0], \"xaxis\": \"x\", \"y\": [7.54], \"yaxis\": \"y\", \"type\": \"scatter\"}, {\"hoverlabel\": {\"namelength\": 0}, \"hovertemplate\": \"<b>%{hovertext}</b><br><br>Region=%{text}<br>Date=2020-09-26<br>Rychlost_sirenia_%=%{x}<br>Sila_sirenia=%{y}<br>Aktivni_celkom=%{marker.size}\", \"hovertext\": [\"Doln\\u00fd Kub\\u00edn\"], \"ids\": [\"Doln\\u00fd Kub\\u00edn\"], \"legendgroup\": \"Region=Doln\\u00fd Kub\\u00edn\", \"marker\": {\"color\": \"#FFA15A\", \"size\": [13.93], \"sizemode\": \"area\", \"sizeref\": 0.067112, \"symbol\": \"circle\"}, \"mode\": \"markers+text\", \"name\": \"Region=Doln\\u00fd Kub\\u00edn\", \"showlegend\": true, \"text\": [\"Doln\\u00fd Kub\\u00edn\"], \"x\": [11.0], \"xaxis\": \"x\", \"y\": [9.45], \"yaxis\": \"y\", \"type\": \"scatter\"}, {\"hoverlabel\": {\"namelength\": 0}, \"hovertemplate\": \"<b>%{hovertext}</b><br><br>Region=%{text}<br>Date=2020-09-26<br>Rychlost_sirenia_%=%{x}<br>Sila_sirenia=%{y}<br>Aktivni_celkom=%{marker.size}\", \"hovertext\": [\"Liptovsk\\u00fd Mikul\\u00e1\\u0161\"], \"ids\": [\"Liptovsk\\u00fd Mikul\\u00e1\\u0161\"], \"legendgroup\": \"Region=Liptovsk\\u00fd Mikul\\u00e1\\u0161\", \"marker\": {\"color\": \"#19d3f3\", \"size\": [7.08], \"sizemode\": \"area\", \"sizeref\": 0.067112, \"symbol\": \"circle\"}, \"mode\": \"markers+text\", \"name\": \"Region=Liptovsk\\u00fd Mikul\\u00e1\\u0161\", \"showlegend\": true, \"text\": [\"Liptovsk\\u00fd Mikul\\u00e1\\u0161\"], \"x\": [9.0], \"xaxis\": \"x\", \"y\": [4.65], \"yaxis\": \"y\", \"type\": \"scatter\"}, {\"hoverlabel\": {\"namelength\": 0}, \"hovertemplate\": \"<b>%{hovertext}</b><br><br>Region=%{text}<br>Date=2020-09-26<br>Rychlost_sirenia_%=%{x}<br>Sila_sirenia=%{y}<br>Aktivni_celkom=%{marker.size}\", \"hovertext\": [\"Sabinov\"], \"ids\": [\"Sabinov\"], \"legendgroup\": \"Region=Sabinov\", \"marker\": {\"color\": \"#FF6692\", \"size\": [6.53], \"sizemode\": \"area\", \"sizeref\": 0.067112, \"symbol\": \"circle\"}, \"mode\": \"markers+text\", \"name\": \"Region=Sabinov\", \"showlegend\": true, \"text\": [\"Sabinov\"], \"x\": [7.000000000000001], \"xaxis\": \"x\", \"y\": [4.17], \"yaxis\": \"y\", \"type\": \"scatter\"}, {\"hoverlabel\": {\"namelength\": 0}, \"hovertemplate\": \"<b>%{hovertext}</b><br><br>Region=%{text}<br>Date=2020-09-26<br>Rychlost_sirenia_%=%{x}<br>Sila_sirenia=%{y}<br>Aktivni_celkom=%{marker.size}\", \"hovertext\": [\"Praha\"], \"ids\": [\"Praha\"], \"legendgroup\": \"Region=Praha\", \"marker\": {\"color\": \"#B6E880\", \"size\": [11.27], \"sizemode\": \"area\", \"sizeref\": 0.067112, \"symbol\": \"circle\"}, \"mode\": \"markers+text\", \"name\": \"Region=Praha\", \"showlegend\": true, \"text\": [\"Praha\"], \"x\": [12.0], \"xaxis\": \"x\", \"y\": [6.85], \"yaxis\": \"y\", \"type\": \"scatter\"}, {\"hoverlabel\": {\"namelength\": 0}, \"hovertemplate\": \"<b>%{hovertext}</b><br><br>Region=%{text}<br>Date=2020-09-26<br>Rychlost_sirenia_%=%{x}<br>Sila_sirenia=%{y}<br>Aktivni_celkom=%{marker.size}\", \"hovertext\": [\"\\u010cadca\"], \"ids\": [\"\\u010cadca\"], \"legendgroup\": \"Region=\\u010cadca\", \"marker\": {\"color\": \"#FF97FF\", \"size\": [5.12], \"sizemode\": \"area\", \"sizeref\": 0.067112, \"symbol\": \"circle\"}, \"mode\": \"markers+text\", \"name\": \"Region=\\u010cadca\", \"showlegend\": true, \"text\": [\"\\u010cadca\"], \"x\": [13.0], \"xaxis\": \"x\", \"y\": [3.58], \"yaxis\": \"y\", \"type\": \"scatter\"}, {\"hoverlabel\": {\"namelength\": 0}, \"hovertemplate\": \"<b>%{hovertext}</b><br><br>Region=%{text}<br>Date=2020-09-26<br>Rychlost_sirenia_%=%{x}<br>Sila_sirenia=%{y}<br>Aktivni_celkom=%{marker.size}\", \"hovertext\": [\"Ro\\u017e\\u0148ava a Rev\\u00faca\"], \"ids\": [\"Ro\\u017e\\u0148ava a Rev\\u00faca\"], \"legendgroup\": \"Region=Ro\\u017e\\u0148ava a Rev\\u00faca\", \"marker\": {\"color\": \"#FECB52\", \"size\": [0.53], \"sizemode\": \"area\", \"sizeref\": 0.067112, \"symbol\": \"circle\"}, \"mode\": \"markers+text\", \"name\": \"Region=Ro\\u017e\\u0148ava a Rev\\u00faca\", \"showlegend\": true, \"text\": [\"Ro\\u017e\\u0148ava a Rev\\u00faca\"], \"x\": [14.000000000000002], \"xaxis\": \"x\", \"y\": [0.38], \"yaxis\": \"y\", \"type\": \"scatter\"}, {\"hoverlabel\": {\"namelength\": 0}, \"hovertemplate\": \"<b>%{hovertext}</b><br><br>Region=%{text}<br>Date=2020-09-26<br>Rychlost_sirenia_%=%{x}<br>Sila_sirenia=%{y}<br>Aktivni_celkom=%{marker.size}\", \"hovertext\": [\"Levice\"], \"ids\": [\"Levice\"], \"legendgroup\": \"Region=Levice\", \"marker\": {\"color\": \"#636efa\", \"size\": [0.58], \"sizemode\": \"area\", \"sizeref\": 0.067112, \"symbol\": \"circle\"}, \"mode\": \"markers+text\", \"name\": \"Region=Levice\", \"showlegend\": true, \"text\": [\"Levice\"], \"x\": [-1.0], \"xaxis\": \"x\", \"y\": [0.27], \"yaxis\": \"y\", \"type\": \"scatter\"}, {\"hoverlabel\": {\"namelength\": 0}, \"hovertemplate\": \"<b>%{hovertext}</b><br><br>Region=%{text}<br>Date=2020-09-26<br>Rychlost_sirenia_%=%{x}<br>Sila_sirenia=%{y}<br>Aktivni_celkom=%{marker.size}\", \"hovertext\": [\"Rimavsk\\u00e1 Sobota\"], \"ids\": [\"Rimavsk\\u00e1 Sobota\"], \"legendgroup\": \"Region=Rimavsk\\u00e1 Sobota\", \"marker\": {\"color\": \"#EF553B\", \"size\": [0.45], \"sizemode\": \"area\", \"sizeref\": 0.067112, \"symbol\": \"circle\"}, \"mode\": \"markers+text\", \"name\": \"Region=Rimavsk\\u00e1 Sobota\", \"showlegend\": true, \"text\": [\"Rimavsk\\u00e1 Sobota\"], \"x\": [-6.0], \"xaxis\": \"x\", \"y\": [0.13], \"yaxis\": \"y\", \"type\": \"scatter\"}, {\"hoverlabel\": {\"namelength\": 0}, \"hovertemplate\": \"<b>%{hovertext}</b><br><br>Region=%{text}<br>Date=2020-09-26<br>Rychlost_sirenia_%=%{x}<br>Sila_sirenia=%{y}<br>Aktivni_celkom=%{marker.size}\", \"hovertext\": [\"Bratislava\"], \"ids\": [\"Bratislava\"], \"legendgroup\": \"Region=Bratislava\", \"marker\": {\"color\": \"#00cc96\", \"size\": [2.04], \"sizemode\": \"area\", \"sizeref\": 0.067112, \"symbol\": \"circle\"}, \"mode\": \"markers+text\", \"name\": \"Region=Bratislava\", \"showlegend\": true, \"text\": [\"Bratislava\"], \"x\": [1.0], \"xaxis\": \"x\", \"y\": [1.09], \"yaxis\": \"y\", \"type\": \"scatter\"}, {\"hoverlabel\": {\"namelength\": 0}, \"hovertemplate\": \"<b>%{hovertext}</b><br><br>Region=%{text}<br>Date=2020-09-26<br>Rychlost_sirenia_%=%{x}<br>Sila_sirenia=%{y}<br>Aktivni_celkom=%{marker.size}\", \"hovertext\": [\"Myjava a Skalica\"], \"ids\": [\"Myjava a Skalica\"], \"legendgroup\": \"Region=Myjava a Skalica\", \"marker\": {\"color\": \"#ab63fa\", \"size\": [5.52], \"sizemode\": \"area\", \"sizeref\": 0.067112, \"symbol\": \"circle\"}, \"mode\": \"markers+text\", \"name\": \"Region=Myjava a Skalica\", \"showlegend\": true, \"text\": [\"Myjava a Skalica\"], \"x\": [1.0], \"xaxis\": \"x\", \"y\": [2.96], \"yaxis\": \"y\", \"type\": \"scatter\"}], \"name\": \"2020-09-26\"}, {\"data\": [{\"hoverlabel\": {\"namelength\": 0}, \"hovertemplate\": \"<b>%{hovertext}</b><br><br>Region=%{text}<br>Date=2020-10-03<br>Rychlost_sirenia_%=%{x}<br>Sila_sirenia=%{y}<br>Aktivni_celkom=%{marker.size}\", \"hovertext\": [\"Uhersk\\u00e9 Hradi\\u0161te\"], \"ids\": [\"Uhersk\\u00e9 Hradi\\u0161te\"], \"legendgroup\": \"Region=Uhersk\\u00e9 Hradi\\u0161te\", \"marker\": {\"color\": \"#636efa\", \"size\": [52.03], \"sizemode\": \"area\", \"sizeref\": 0.067112, \"symbol\": \"circle\"}, \"mode\": \"markers+text\", \"name\": \"Region=Uhersk\\u00e9 Hradi\\u0161te\", \"showlegend\": true, \"text\": [\"Uhersk\\u00e9 Hradi\\u0161te\"], \"x\": [16.0], \"xaxis\": \"x\", \"y\": [26.81], \"yaxis\": \"y\", \"type\": \"scatter\"}, {\"hoverlabel\": {\"namelength\": 0}, \"hovertemplate\": \"<b>%{hovertext}</b><br><br>Region=%{text}<br>Date=2020-10-03<br>Rychlost_sirenia_%=%{x}<br>Sila_sirenia=%{y}<br>Aktivni_celkom=%{marker.size}\", \"hovertext\": [\"Tvrdo\\u0161\\u00edn\"], \"ids\": [\"Tvrdo\\u0161\\u00edn\"], \"legendgroup\": \"Region=Tvrdo\\u0161\\u00edn\", \"marker\": {\"color\": \"#EF553B\", \"size\": [53.69], \"sizemode\": \"area\", \"sizeref\": 0.067112, \"symbol\": \"circle\"}, \"mode\": \"markers+text\", \"name\": \"Region=Tvrdo\\u0161\\u00edn\", \"showlegend\": true, \"text\": [\"Tvrdo\\u0161\\u00edn\"], \"x\": [22.0], \"xaxis\": \"x\", \"y\": [33.6], \"yaxis\": \"y\", \"type\": \"scatter\"}, {\"hoverlabel\": {\"namelength\": 0}, \"hovertemplate\": \"<b>%{hovertext}</b><br><br>Region=%{text}<br>Date=2020-10-03<br>Rychlost_sirenia_%=%{x}<br>Sila_sirenia=%{y}<br>Aktivni_celkom=%{marker.size}\", \"hovertext\": [\"N\\u00e1mestovo\"], \"ids\": [\"N\\u00e1mestovo\"], \"legendgroup\": \"Region=N\\u00e1mestovo\", \"marker\": {\"color\": \"#00cc96\", \"size\": [45.77], \"sizemode\": \"area\", \"sizeref\": 0.067112, \"symbol\": \"circle\"}, \"mode\": \"markers+text\", \"name\": \"Region=N\\u00e1mestovo\", \"showlegend\": true, \"text\": [\"N\\u00e1mestovo\"], \"x\": [17.0], \"xaxis\": \"x\", \"y\": [27.73], \"yaxis\": \"y\", \"type\": \"scatter\"}, {\"hoverlabel\": {\"namelength\": 0}, \"hovertemplate\": \"<b>%{hovertext}</b><br><br>Region=%{text}<br>Date=2020-10-03<br>Rychlost_sirenia_%=%{x}<br>Sila_sirenia=%{y}<br>Aktivni_celkom=%{marker.size}\", \"hovertext\": [\"Bardejov\"], \"ids\": [\"Bardejov\"], \"legendgroup\": \"Region=Bardejov\", \"marker\": {\"color\": \"#ab63fa\", \"size\": [41.97], \"sizemode\": \"area\", \"sizeref\": 0.067112, \"symbol\": \"circle\"}, \"mode\": \"markers+text\", \"name\": \"Region=Bardejov\", \"showlegend\": true, \"text\": [\"Bardejov\"], \"x\": [16.0], \"xaxis\": \"x\", \"y\": [25.15], \"yaxis\": \"y\", \"type\": \"scatter\"}, {\"hoverlabel\": {\"namelength\": 0}, \"hovertemplate\": \"<b>%{hovertext}</b><br><br>Region=%{text}<br>Date=2020-10-03<br>Rychlost_sirenia_%=%{x}<br>Sila_sirenia=%{y}<br>Aktivni_celkom=%{marker.size}\", \"hovertext\": [\"Doln\\u00fd Kub\\u00edn\"], \"ids\": [\"Doln\\u00fd Kub\\u00edn\"], \"legendgroup\": \"Region=Doln\\u00fd Kub\\u00edn\", \"marker\": {\"color\": \"#FFA15A\", \"size\": [46.42], \"sizemode\": \"area\", \"sizeref\": 0.067112, \"symbol\": \"circle\"}, \"mode\": \"markers+text\", \"name\": \"Region=Doln\\u00fd Kub\\u00edn\", \"showlegend\": true, \"text\": [\"Doln\\u00fd Kub\\u00edn\"], \"x\": [36.0], \"xaxis\": \"x\", \"y\": [31.51], \"yaxis\": \"y\", \"type\": \"scatter\"}, {\"hoverlabel\": {\"namelength\": 0}, \"hovertemplate\": \"<b>%{hovertext}</b><br><br>Region=%{text}<br>Date=2020-10-03<br>Rychlost_sirenia_%=%{x}<br>Sila_sirenia=%{y}<br>Aktivni_celkom=%{marker.size}\", \"hovertext\": [\"Liptovsk\\u00fd Mikul\\u00e1\\u0161\"], \"ids\": [\"Liptovsk\\u00fd Mikul\\u00e1\\u0161\"], \"legendgroup\": \"Region=Liptovsk\\u00fd Mikul\\u00e1\\u0161\", \"marker\": {\"color\": \"#19d3f3\", \"size\": [23.6], \"sizemode\": \"area\", \"sizeref\": 0.067112, \"symbol\": \"circle\"}, \"mode\": \"markers+text\", \"name\": \"Region=Liptovsk\\u00fd Mikul\\u00e1\\u0161\", \"showlegend\": true, \"text\": [\"Liptovsk\\u00fd Mikul\\u00e1\\u0161\"], \"x\": [28.999999999999996], \"xaxis\": \"x\", \"y\": [15.51], \"yaxis\": \"y\", \"type\": \"scatter\"}, {\"hoverlabel\": {\"namelength\": 0}, \"hovertemplate\": \"<b>%{hovertext}</b><br><br>Region=%{text}<br>Date=2020-10-03<br>Rychlost_sirenia_%=%{x}<br>Sila_sirenia=%{y}<br>Aktivni_celkom=%{marker.size}\", \"hovertext\": [\"Sabinov\"], \"ids\": [\"Sabinov\"], \"legendgroup\": \"Region=Sabinov\", \"marker\": {\"color\": \"#FF6692\", \"size\": [21.77], \"sizemode\": \"area\", \"sizeref\": 0.067112, \"symbol\": \"circle\"}, \"mode\": \"markers+text\", \"name\": \"Region=Sabinov\", \"showlegend\": true, \"text\": [\"Sabinov\"], \"x\": [25.0], \"xaxis\": \"x\", \"y\": [13.9], \"yaxis\": \"y\", \"type\": \"scatter\"}, {\"hoverlabel\": {\"namelength\": 0}, \"hovertemplate\": \"<b>%{hovertext}</b><br><br>Region=%{text}<br>Date=2020-10-03<br>Rychlost_sirenia_%=%{x}<br>Sila_sirenia=%{y}<br>Aktivni_celkom=%{marker.size}\", \"hovertext\": [\"Praha\"], \"ids\": [\"Praha\"], \"legendgroup\": \"Region=Praha\", \"marker\": {\"color\": \"#B6E880\", \"size\": [37.57], \"sizemode\": \"area\", \"sizeref\": 0.067112, \"symbol\": \"circle\"}, \"mode\": \"markers+text\", \"name\": \"Region=Praha\", \"showlegend\": true, \"text\": [\"Praha\"], \"x\": [40.0], \"xaxis\": \"x\", \"y\": [22.83], \"yaxis\": \"y\", \"type\": \"scatter\"}, {\"hoverlabel\": {\"namelength\": 0}, \"hovertemplate\": \"<b>%{hovertext}</b><br><br>Region=%{text}<br>Date=2020-10-03<br>Rychlost_sirenia_%=%{x}<br>Sila_sirenia=%{y}<br>Aktivni_celkom=%{marker.size}\", \"hovertext\": [\"\\u010cadca\"], \"ids\": [\"\\u010cadca\"], \"legendgroup\": \"Region=\\u010cadca\", \"marker\": {\"color\": \"#FF97FF\", \"size\": [17.07], \"sizemode\": \"area\", \"sizeref\": 0.067112, \"symbol\": \"circle\"}, \"mode\": \"markers+text\", \"name\": \"Region=\\u010cadca\", \"showlegend\": true, \"text\": [\"\\u010cadca\"], \"x\": [43.0], \"xaxis\": \"x\", \"y\": [11.95], \"yaxis\": \"y\", \"type\": \"scatter\"}, {\"hoverlabel\": {\"namelength\": 0}, \"hovertemplate\": \"<b>%{hovertext}</b><br><br>Region=%{text}<br>Date=2020-10-03<br>Rychlost_sirenia_%=%{x}<br>Sila_sirenia=%{y}<br>Aktivni_celkom=%{marker.size}\", \"hovertext\": [\"Ro\\u017e\\u0148ava a Rev\\u00faca\"], \"ids\": [\"Ro\\u017e\\u0148ava a Rev\\u00faca\"], \"legendgroup\": \"Region=Ro\\u017e\\u0148ava a Rev\\u00faca\", \"marker\": {\"color\": \"#FECB52\", \"size\": [1.76], \"sizemode\": \"area\", \"sizeref\": 0.067112, \"symbol\": \"circle\"}, \"mode\": \"markers+text\", \"name\": \"Region=Ro\\u017e\\u0148ava a Rev\\u00faca\", \"showlegend\": true, \"text\": [\"Ro\\u017e\\u0148ava a Rev\\u00faca\"], \"x\": [48.0], \"xaxis\": \"x\", \"y\": [1.25], \"yaxis\": \"y\", \"type\": \"scatter\"}, {\"hoverlabel\": {\"namelength\": 0}, \"hovertemplate\": \"<b>%{hovertext}</b><br><br>Region=%{text}<br>Date=2020-10-03<br>Rychlost_sirenia_%=%{x}<br>Sila_sirenia=%{y}<br>Aktivni_celkom=%{marker.size}\", \"hovertext\": [\"Levice\"], \"ids\": [\"Levice\"], \"legendgroup\": \"Region=Levice\", \"marker\": {\"color\": \"#636efa\", \"size\": [1.94], \"sizemode\": \"area\", \"sizeref\": 0.067112, \"symbol\": \"circle\"}, \"mode\": \"markers+text\", \"name\": \"Region=Levice\", \"showlegend\": true, \"text\": [\"Levice\"], \"x\": [-4.0], \"xaxis\": \"x\", \"y\": [0.9], \"yaxis\": \"y\", \"type\": \"scatter\"}, {\"hoverlabel\": {\"namelength\": 0}, \"hovertemplate\": \"<b>%{hovertext}</b><br><br>Region=%{text}<br>Date=2020-10-03<br>Rychlost_sirenia_%=%{x}<br>Sila_sirenia=%{y}<br>Aktivni_celkom=%{marker.size}\", \"hovertext\": [\"Rimavsk\\u00e1 Sobota\"], \"ids\": [\"Rimavsk\\u00e1 Sobota\"], \"legendgroup\": \"Region=Rimavsk\\u00e1 Sobota\", \"marker\": {\"color\": \"#EF553B\", \"size\": [1.49], \"sizemode\": \"area\", \"sizeref\": 0.067112, \"symbol\": \"circle\"}, \"mode\": \"markers+text\", \"name\": \"Region=Rimavsk\\u00e1 Sobota\", \"showlegend\": true, \"text\": [\"Rimavsk\\u00e1 Sobota\"], \"x\": [-19.0], \"xaxis\": \"x\", \"y\": [0.42], \"yaxis\": \"y\", \"type\": \"scatter\"}, {\"hoverlabel\": {\"namelength\": 0}, \"hovertemplate\": \"<b>%{hovertext}</b><br><br>Region=%{text}<br>Date=2020-10-03<br>Rychlost_sirenia_%=%{x}<br>Sila_sirenia=%{y}<br>Aktivni_celkom=%{marker.size}\", \"hovertext\": [\"Bratislava\"], \"ids\": [\"Bratislava\"], \"legendgroup\": \"Region=Bratislava\", \"marker\": {\"color\": \"#00cc96\", \"size\": [6.79], \"sizemode\": \"area\", \"sizeref\": 0.067112, \"symbol\": \"circle\"}, \"mode\": \"markers+text\", \"name\": \"Region=Bratislava\", \"showlegend\": true, \"text\": [\"Bratislava\"], \"x\": [5.0], \"xaxis\": \"x\", \"y\": [3.64], \"yaxis\": \"y\", \"type\": \"scatter\"}, {\"hoverlabel\": {\"namelength\": 0}, \"hovertemplate\": \"<b>%{hovertext}</b><br><br>Region=%{text}<br>Date=2020-10-03<br>Rychlost_sirenia_%=%{x}<br>Sila_sirenia=%{y}<br>Aktivni_celkom=%{marker.size}\", \"hovertext\": [\"Myjava a Skalica\"], \"ids\": [\"Myjava a Skalica\"], \"legendgroup\": \"Region=Myjava a Skalica\", \"marker\": {\"color\": \"#ab63fa\", \"size\": [18.41], \"sizemode\": \"area\", \"sizeref\": 0.067112, \"symbol\": \"circle\"}, \"mode\": \"markers+text\", \"name\": \"Region=Myjava a Skalica\", \"showlegend\": true, \"text\": [\"Myjava a Skalica\"], \"x\": [5.0], \"xaxis\": \"x\", \"y\": [9.86], \"yaxis\": \"y\", \"type\": \"scatter\"}], \"name\": \"2020-10-03\"}, {\"data\": [{\"hoverlabel\": {\"namelength\": 0}, \"hovertemplate\": \"<b>%{hovertext}</b><br><br>Region=%{text}<br>Date=2020-10-10<br>Rychlost_sirenia_%=%{x}<br>Sila_sirenia=%{y}<br>Aktivni_celkom=%{marker.size}\", \"hovertext\": [\"Uhersk\\u00e9 Hradi\\u0161te\"], \"ids\": [\"Uhersk\\u00e9 Hradi\\u0161te\"], \"legendgroup\": \"Region=Uhersk\\u00e9 Hradi\\u0161te\", \"marker\": {\"color\": \"#636efa\", \"size\": [104.06], \"sizemode\": \"area\", \"sizeref\": 0.067112, \"symbol\": \"circle\"}, \"mode\": \"markers+text\", \"name\": \"Region=Uhersk\\u00e9 Hradi\\u0161te\", \"showlegend\": true, \"text\": [\"Uhersk\\u00e9 Hradi\\u0161te\"], \"x\": [31.0], \"xaxis\": \"x\", \"y\": [53.63], \"yaxis\": \"y\", \"type\": \"scatter\"}, {\"hoverlabel\": {\"namelength\": 0}, \"hovertemplate\": \"<b>%{hovertext}</b><br><br>Region=%{text}<br>Date=2020-10-10<br>Rychlost_sirenia_%=%{x}<br>Sila_sirenia=%{y}<br>Aktivni_celkom=%{marker.size}\", \"hovertext\": [\"Tvrdo\\u0161\\u00edn\"], \"ids\": [\"Tvrdo\\u0161\\u00edn\"], \"legendgroup\": \"Region=Tvrdo\\u0161\\u00edn\", \"marker\": {\"color\": \"#EF553B\", \"size\": [107.38], \"sizemode\": \"area\", \"sizeref\": 0.067112, \"symbol\": \"circle\"}, \"mode\": \"markers+text\", \"name\": \"Region=Tvrdo\\u0161\\u00edn\", \"showlegend\": true, \"text\": [\"Tvrdo\\u0161\\u00edn\"], \"x\": [43.0], \"xaxis\": \"x\", \"y\": [67.2], \"yaxis\": \"y\", \"type\": \"scatter\"}, {\"hoverlabel\": {\"namelength\": 0}, \"hovertemplate\": \"<b>%{hovertext}</b><br><br>Region=%{text}<br>Date=2020-10-10<br>Rychlost_sirenia_%=%{x}<br>Sila_sirenia=%{y}<br>Aktivni_celkom=%{marker.size}\", \"hovertext\": [\"N\\u00e1mestovo\"], \"ids\": [\"N\\u00e1mestovo\"], \"legendgroup\": \"Region=N\\u00e1mestovo\", \"marker\": {\"color\": \"#00cc96\", \"size\": [91.53], \"sizemode\": \"area\", \"sizeref\": 0.067112, \"symbol\": \"circle\"}, \"mode\": \"markers+text\", \"name\": \"Region=N\\u00e1mestovo\", \"showlegend\": true, \"text\": [\"N\\u00e1mestovo\"], \"x\": [34.0], \"xaxis\": \"x\", \"y\": [55.47], \"yaxis\": \"y\", \"type\": \"scatter\"}, {\"hoverlabel\": {\"namelength\": 0}, \"hovertemplate\": \"<b>%{hovertext}</b><br><br>Region=%{text}<br>Date=2020-10-10<br>Rychlost_sirenia_%=%{x}<br>Sila_sirenia=%{y}<br>Aktivni_celkom=%{marker.size}\", \"hovertext\": [\"Bardejov\"], \"ids\": [\"Bardejov\"], \"legendgroup\": \"Region=Bardejov\", \"marker\": {\"color\": \"#ab63fa\", \"size\": [83.94], \"sizemode\": \"area\", \"sizeref\": 0.067112, \"symbol\": \"circle\"}, \"mode\": \"markers+text\", \"name\": \"Region=Bardejov\", \"showlegend\": true, \"text\": [\"Bardejov\"], \"x\": [32.0], \"xaxis\": \"x\", \"y\": [50.3], \"yaxis\": \"y\", \"type\": \"scatter\"}, {\"hoverlabel\": {\"namelength\": 0}, \"hovertemplate\": \"<b>%{hovertext}</b><br><br>Region=%{text}<br>Date=2020-10-10<br>Rychlost_sirenia_%=%{x}<br>Sila_sirenia=%{y}<br>Aktivni_celkom=%{marker.size}\", \"hovertext\": [\"Doln\\u00fd Kub\\u00edn\"], \"ids\": [\"Doln\\u00fd Kub\\u00edn\"], \"legendgroup\": \"Region=Doln\\u00fd Kub\\u00edn\", \"marker\": {\"color\": \"#FFA15A\", \"size\": [92.84], \"sizemode\": \"area\", \"sizeref\": 0.067112, \"symbol\": \"circle\"}, \"mode\": \"markers+text\", \"name\": \"Region=Doln\\u00fd Kub\\u00edn\", \"showlegend\": true, \"text\": [\"Doln\\u00fd Kub\\u00edn\"], \"x\": [71.0], \"xaxis\": \"x\", \"y\": [63.03], \"yaxis\": \"y\", \"type\": \"scatter\"}, {\"hoverlabel\": {\"namelength\": 0}, \"hovertemplate\": \"<b>%{hovertext}</b><br><br>Region=%{text}<br>Date=2020-10-10<br>Rychlost_sirenia_%=%{x}<br>Sila_sirenia=%{y}<br>Aktivni_celkom=%{marker.size}\", \"hovertext\": [\"Liptovsk\\u00fd Mikul\\u00e1\\u0161\"], \"ids\": [\"Liptovsk\\u00fd Mikul\\u00e1\\u0161\"], \"legendgroup\": \"Region=Liptovsk\\u00fd Mikul\\u00e1\\u0161\", \"marker\": {\"color\": \"#19d3f3\", \"size\": [47.2], \"sizemode\": \"area\", \"sizeref\": 0.067112, \"symbol\": \"circle\"}, \"mode\": \"markers+text\", \"name\": \"Region=Liptovsk\\u00fd Mikul\\u00e1\\u0161\", \"showlegend\": true, \"text\": [\"Liptovsk\\u00fd Mikul\\u00e1\\u0161\"], \"x\": [59.0], \"xaxis\": \"x\", \"y\": [31.02], \"yaxis\": \"y\", \"type\": \"scatter\"}, {\"hoverlabel\": {\"namelength\": 0}, \"hovertemplate\": \"<b>%{hovertext}</b><br><br>Region=%{text}<br>Date=2020-10-10<br>Rychlost_sirenia_%=%{x}<br>Sila_sirenia=%{y}<br>Aktivni_celkom=%{marker.size}\", \"hovertext\": [\"Sabinov\"], \"ids\": [\"Sabinov\"], \"legendgroup\": \"Region=Sabinov\", \"marker\": {\"color\": \"#FF6692\", \"size\": [43.54], \"sizemode\": \"area\", \"sizeref\": 0.067112, \"symbol\": \"circle\"}, \"mode\": \"markers+text\", \"name\": \"Region=Sabinov\", \"showlegend\": true, \"text\": [\"Sabinov\"], \"x\": [49.0], \"xaxis\": \"x\", \"y\": [27.8], \"yaxis\": \"y\", \"type\": \"scatter\"}, {\"hoverlabel\": {\"namelength\": 0}, \"hovertemplate\": \"<b>%{hovertext}</b><br><br>Region=%{text}<br>Date=2020-10-10<br>Rychlost_sirenia_%=%{x}<br>Sila_sirenia=%{y}<br>Aktivni_celkom=%{marker.size}\", \"hovertext\": [\"Praha\"], \"ids\": [\"Praha\"], \"legendgroup\": \"Region=Praha\", \"marker\": {\"color\": \"#B6E880\", \"size\": [75.15], \"sizemode\": \"area\", \"sizeref\": 0.067112, \"symbol\": \"circle\"}, \"mode\": \"markers+text\", \"name\": \"Region=Praha\", \"showlegend\": true, \"text\": [\"Praha\"], \"x\": [79.0], \"xaxis\": \"x\", \"y\": [45.66], \"yaxis\": \"y\", \"type\": \"scatter\"}, {\"hoverlabel\": {\"namelength\": 0}, \"hovertemplate\": \"<b>%{hovertext}</b><br><br>Region=%{text}<br>Date=2020-10-10<br>Rychlost_sirenia_%=%{x}<br>Sila_sirenia=%{y}<br>Aktivni_celkom=%{marker.size}\", \"hovertext\": [\"\\u010cadca\"], \"ids\": [\"\\u010cadca\"], \"legendgroup\": \"Region=\\u010cadca\", \"marker\": {\"color\": \"#FF97FF\", \"size\": [34.13], \"sizemode\": \"area\", \"sizeref\": 0.067112, \"symbol\": \"circle\"}, \"mode\": \"markers+text\", \"name\": \"Region=\\u010cadca\", \"showlegend\": true, \"text\": [\"\\u010cadca\"], \"x\": [85.0], \"xaxis\": \"x\", \"y\": [23.89], \"yaxis\": \"y\", \"type\": \"scatter\"}, {\"hoverlabel\": {\"namelength\": 0}, \"hovertemplate\": \"<b>%{hovertext}</b><br><br>Region=%{text}<br>Date=2020-10-10<br>Rychlost_sirenia_%=%{x}<br>Sila_sirenia=%{y}<br>Aktivni_celkom=%{marker.size}\", \"hovertext\": [\"Ro\\u017e\\u0148ava a Rev\\u00faca\"], \"ids\": [\"Ro\\u017e\\u0148ava a Rev\\u00faca\"], \"legendgroup\": \"Region=Ro\\u017e\\u0148ava a Rev\\u00faca\", \"marker\": {\"color\": \"#FECB52\", \"size\": [3.51], \"sizemode\": \"area\", \"sizeref\": 0.067112, \"symbol\": \"circle\"}, \"mode\": \"markers+text\", \"name\": \"Region=Ro\\u017e\\u0148ava a Rev\\u00faca\", \"showlegend\": true, \"text\": [\"Ro\\u017e\\u0148ava a Rev\\u00faca\"], \"x\": [96.0], \"xaxis\": \"x\", \"y\": [2.51], \"yaxis\": \"y\", \"type\": \"scatter\"}, {\"hoverlabel\": {\"namelength\": 0}, \"hovertemplate\": \"<b>%{hovertext}</b><br><br>Region=%{text}<br>Date=2020-10-10<br>Rychlost_sirenia_%=%{x}<br>Sila_sirenia=%{y}<br>Aktivni_celkom=%{marker.size}\", \"hovertext\": [\"Levice\"], \"ids\": [\"Levice\"], \"legendgroup\": \"Region=Levice\", \"marker\": {\"color\": \"#636efa\", \"size\": [3.88], \"sizemode\": \"area\", \"sizeref\": 0.067112, \"symbol\": \"circle\"}, \"mode\": \"markers+text\", \"name\": \"Region=Levice\", \"showlegend\": true, \"text\": [\"Levice\"], \"x\": [-9.0], \"xaxis\": \"x\", \"y\": [1.8], \"yaxis\": \"y\", \"type\": \"scatter\"}, {\"hoverlabel\": {\"namelength\": 0}, \"hovertemplate\": \"<b>%{hovertext}</b><br><br>Region=%{text}<br>Date=2020-10-10<br>Rychlost_sirenia_%=%{x}<br>Sila_sirenia=%{y}<br>Aktivni_celkom=%{marker.size}\", \"hovertext\": [\"Rimavsk\\u00e1 Sobota\"], \"ids\": [\"Rimavsk\\u00e1 Sobota\"], \"legendgroup\": \"Region=Rimavsk\\u00e1 Sobota\", \"marker\": {\"color\": \"#EF553B\", \"size\": [2.97], \"sizemode\": \"area\", \"sizeref\": 0.067112, \"symbol\": \"circle\"}, \"mode\": \"markers+text\", \"name\": \"Region=Rimavsk\\u00e1 Sobota\", \"showlegend\": true, \"text\": [\"Rimavsk\\u00e1 Sobota\"], \"x\": [-39.0], \"xaxis\": \"x\", \"y\": [0.84], \"yaxis\": \"y\", \"type\": \"scatter\"}, {\"hoverlabel\": {\"namelength\": 0}, \"hovertemplate\": \"<b>%{hovertext}</b><br><br>Region=%{text}<br>Date=2020-10-10<br>Rychlost_sirenia_%=%{x}<br>Sila_sirenia=%{y}<br>Aktivni_celkom=%{marker.size}\", \"hovertext\": [\"Bratislava\"], \"ids\": [\"Bratislava\"], \"legendgroup\": \"Region=Bratislava\", \"marker\": {\"color\": \"#00cc96\", \"size\": [13.59], \"sizemode\": \"area\", \"sizeref\": 0.067112, \"symbol\": \"circle\"}, \"mode\": \"markers+text\", \"name\": \"Region=Bratislava\", \"showlegend\": true, \"text\": [\"Bratislava\"], \"x\": [10.0], \"xaxis\": \"x\", \"y\": [7.27], \"yaxis\": \"y\", \"type\": \"scatter\"}, {\"hoverlabel\": {\"namelength\": 0}, \"hovertemplate\": \"<b>%{hovertext}</b><br><br>Region=%{text}<br>Date=2020-10-10<br>Rychlost_sirenia_%=%{x}<br>Sila_sirenia=%{y}<br>Aktivni_celkom=%{marker.size}\", \"hovertext\": [\"Myjava a Skalica\"], \"ids\": [\"Myjava a Skalica\"], \"legendgroup\": \"Region=Myjava a Skalica\", \"marker\": {\"color\": \"#ab63fa\", \"size\": [36.82], \"sizemode\": \"area\", \"sizeref\": 0.067112, \"symbol\": \"circle\"}, \"mode\": \"markers+text\", \"name\": \"Region=Myjava a Skalica\", \"showlegend\": true, \"text\": [\"Myjava a Skalica\"], \"x\": [10.0], \"xaxis\": \"x\", \"y\": [19.73], \"yaxis\": \"y\", \"type\": \"scatter\"}], \"name\": \"2020-10-10\"}, {\"data\": [{\"hoverlabel\": {\"namelength\": 0}, \"hovertemplate\": \"<b>%{hovertext}</b><br><br>Region=%{text}<br>Date=2020-10-17<br>Rychlost_sirenia_%=%{x}<br>Sila_sirenia=%{y}<br>Aktivni_celkom=%{marker.size}\", \"hovertext\": [\"Uhersk\\u00e9 Hradi\\u0161te\"], \"ids\": [\"Uhersk\\u00e9 Hradi\\u0161te\"], \"legendgroup\": \"Region=Uhersk\\u00e9 Hradi\\u0161te\", \"marker\": {\"color\": \"#636efa\", \"size\": [130.08], \"sizemode\": \"area\", \"sizeref\": 0.067112, \"symbol\": \"circle\"}, \"mode\": \"markers+text\", \"name\": \"Region=Uhersk\\u00e9 Hradi\\u0161te\", \"showlegend\": true, \"text\": [\"Uhersk\\u00e9 Hradi\\u0161te\"], \"x\": [39.0], \"xaxis\": \"x\", \"y\": [67.03], \"yaxis\": \"y\", \"type\": \"scatter\"}, {\"hoverlabel\": {\"namelength\": 0}, \"hovertemplate\": \"<b>%{hovertext}</b><br><br>Region=%{text}<br>Date=2020-10-17<br>Rychlost_sirenia_%=%{x}<br>Sila_sirenia=%{y}<br>Aktivni_celkom=%{marker.size}\", \"hovertext\": [\"Tvrdo\\u0161\\u00edn\"], \"ids\": [\"Tvrdo\\u0161\\u00edn\"], \"legendgroup\": \"Region=Tvrdo\\u0161\\u00edn\", \"marker\": {\"color\": \"#EF553B\", \"size\": [134.22], \"sizemode\": \"area\", \"sizeref\": 0.067112, \"symbol\": \"circle\"}, \"mode\": \"markers+text\", \"name\": \"Region=Tvrdo\\u0161\\u00edn\", \"showlegend\": true, \"text\": [\"Tvrdo\\u0161\\u00edn\"], \"x\": [54.0], \"xaxis\": \"x\", \"y\": [84.0], \"yaxis\": \"y\", \"type\": \"scatter\"}, {\"hoverlabel\": {\"namelength\": 0}, \"hovertemplate\": \"<b>%{hovertext}</b><br><br>Region=%{text}<br>Date=2020-10-17<br>Rychlost_sirenia_%=%{x}<br>Sila_sirenia=%{y}<br>Aktivni_celkom=%{marker.size}\", \"hovertext\": [\"N\\u00e1mestovo\"], \"ids\": [\"N\\u00e1mestovo\"], \"legendgroup\": \"Region=N\\u00e1mestovo\", \"marker\": {\"color\": \"#00cc96\", \"size\": [114.41], \"sizemode\": \"area\", \"sizeref\": 0.067112, \"symbol\": \"circle\"}, \"mode\": \"markers+text\", \"name\": \"Region=N\\u00e1mestovo\", \"showlegend\": true, \"text\": [\"N\\u00e1mestovo\"], \"x\": [43.0], \"xaxis\": \"x\", \"y\": [69.33], \"yaxis\": \"y\", \"type\": \"scatter\"}, {\"hoverlabel\": {\"namelength\": 0}, \"hovertemplate\": \"<b>%{hovertext}</b><br><br>Region=%{text}<br>Date=2020-10-17<br>Rychlost_sirenia_%=%{x}<br>Sila_sirenia=%{y}<br>Aktivni_celkom=%{marker.size}\", \"hovertext\": [\"Bardejov\"], \"ids\": [\"Bardejov\"], \"legendgroup\": \"Region=Bardejov\", \"marker\": {\"color\": \"#ab63fa\", \"size\": [104.92], \"sizemode\": \"area\", \"sizeref\": 0.067112, \"symbol\": \"circle\"}, \"mode\": \"markers+text\", \"name\": \"Region=Bardejov\", \"showlegend\": true, \"text\": [\"Bardejov\"], \"x\": [40.0], \"xaxis\": \"x\", \"y\": [62.87], \"yaxis\": \"y\", \"type\": \"scatter\"}, {\"hoverlabel\": {\"namelength\": 0}, \"hovertemplate\": \"<b>%{hovertext}</b><br><br>Region=%{text}<br>Date=2020-10-17<br>Rychlost_sirenia_%=%{x}<br>Sila_sirenia=%{y}<br>Aktivni_celkom=%{marker.size}\", \"hovertext\": [\"Doln\\u00fd Kub\\u00edn\"], \"ids\": [\"Doln\\u00fd Kub\\u00edn\"], \"legendgroup\": \"Region=Doln\\u00fd Kub\\u00edn\", \"marker\": {\"color\": \"#FFA15A\", \"size\": [116.05], \"sizemode\": \"area\", \"sizeref\": 0.067112, \"symbol\": \"circle\"}, \"mode\": \"markers+text\", \"name\": \"Region=Doln\\u00fd Kub\\u00edn\", \"showlegend\": true, \"text\": [\"Doln\\u00fd Kub\\u00edn\"], \"x\": [89.0], \"xaxis\": \"x\", \"y\": [78.78], \"yaxis\": \"y\", \"type\": \"scatter\"}, {\"hoverlabel\": {\"namelength\": 0}, \"hovertemplate\": \"<b>%{hovertext}</b><br><br>Region=%{text}<br>Date=2020-10-17<br>Rychlost_sirenia_%=%{x}<br>Sila_sirenia=%{y}<br>Aktivni_celkom=%{marker.size}\", \"hovertext\": [\"Liptovsk\\u00fd Mikul\\u00e1\\u0161\"], \"ids\": [\"Liptovsk\\u00fd Mikul\\u00e1\\u0161\"], \"legendgroup\": \"Region=Liptovsk\\u00fd Mikul\\u00e1\\u0161\", \"marker\": {\"color\": \"#19d3f3\", \"size\": [59.0], \"sizemode\": \"area\", \"sizeref\": 0.067112, \"symbol\": \"circle\"}, \"mode\": \"markers+text\", \"name\": \"Region=Liptovsk\\u00fd Mikul\\u00e1\\u0161\", \"showlegend\": true, \"text\": [\"Liptovsk\\u00fd Mikul\\u00e1\\u0161\"], \"x\": [73.0], \"xaxis\": \"x\", \"y\": [38.78], \"yaxis\": \"y\", \"type\": \"scatter\"}, {\"hoverlabel\": {\"namelength\": 0}, \"hovertemplate\": \"<b>%{hovertext}</b><br><br>Region=%{text}<br>Date=2020-10-17<br>Rychlost_sirenia_%=%{x}<br>Sila_sirenia=%{y}<br>Aktivni_celkom=%{marker.size}\", \"hovertext\": [\"Sabinov\"], \"ids\": [\"Sabinov\"], \"legendgroup\": \"Region=Sabinov\", \"marker\": {\"color\": \"#FF6692\", \"size\": [54.43], \"sizemode\": \"area\", \"sizeref\": 0.067112, \"symbol\": \"circle\"}, \"mode\": \"markers+text\", \"name\": \"Region=Sabinov\", \"showlegend\": true, \"text\": [\"Sabinov\"], \"x\": [61.0], \"xaxis\": \"x\", \"y\": [34.75], \"yaxis\": \"y\", \"type\": \"scatter\"}, {\"hoverlabel\": {\"namelength\": 0}, \"hovertemplate\": \"<b>%{hovertext}</b><br><br>Region=%{text}<br>Date=2020-10-17<br>Rychlost_sirenia_%=%{x}<br>Sila_sirenia=%{y}<br>Aktivni_celkom=%{marker.size}\", \"hovertext\": [\"Praha\"], \"ids\": [\"Praha\"], \"legendgroup\": \"Region=Praha\", \"marker\": {\"color\": \"#B6E880\", \"size\": [93.94], \"sizemode\": \"area\", \"sizeref\": 0.067112, \"symbol\": \"circle\"}, \"mode\": \"markers+text\", \"name\": \"Region=Praha\", \"showlegend\": true, \"text\": [\"Praha\"], \"x\": [99.0], \"xaxis\": \"x\", \"y\": [57.08], \"yaxis\": \"y\", \"type\": \"scatter\"}, {\"hoverlabel\": {\"namelength\": 0}, \"hovertemplate\": \"<b>%{hovertext}</b><br><br>Region=%{text}<br>Date=2020-10-17<br>Rychlost_sirenia_%=%{x}<br>Sila_sirenia=%{y}<br>Aktivni_celkom=%{marker.size}\", \"hovertext\": [\"\\u010cadca\"], \"ids\": [\"\\u010cadca\"], \"legendgroup\": \"Region=\\u010cadca\", \"marker\": {\"color\": \"#FF97FF\", \"size\": [42.67], \"sizemode\": \"area\", \"sizeref\": 0.067112, \"symbol\": \"circle\"}, \"mode\": \"markers+text\", \"name\": \"Region=\\u010cadca\", \"showlegend\": true, \"text\": [\"\\u010cadca\"], \"x\": [107.0], \"xaxis\": \"x\", \"y\": [29.87], \"yaxis\": \"y\", \"type\": \"scatter\"}, {\"hoverlabel\": {\"namelength\": 0}, \"hovertemplate\": \"<b>%{hovertext}</b><br><br>Region=%{text}<br>Date=2020-10-17<br>Rychlost_sirenia_%=%{x}<br>Sila_sirenia=%{y}<br>Aktivni_celkom=%{marker.size}\", \"hovertext\": [\"Ro\\u017e\\u0148ava a Rev\\u00faca\"], \"ids\": [\"Ro\\u017e\\u0148ava a Rev\\u00faca\"], \"legendgroup\": \"Region=Ro\\u017e\\u0148ava a Rev\\u00faca\", \"marker\": {\"color\": \"#FECB52\", \"size\": [4.39], \"sizemode\": \"area\", \"sizeref\": 0.067112, \"symbol\": \"circle\"}, \"mode\": \"markers+text\", \"name\": \"Region=Ro\\u017e\\u0148ava a Rev\\u00faca\", \"showlegend\": true, \"text\": [\"Ro\\u017e\\u0148ava a Rev\\u00faca\"], \"x\": [120.0], \"xaxis\": \"x\", \"y\": [3.14], \"yaxis\": \"y\", \"type\": \"scatter\"}, {\"hoverlabel\": {\"namelength\": 0}, \"hovertemplate\": \"<b>%{hovertext}</b><br><br>Region=%{text}<br>Date=2020-10-17<br>Rychlost_sirenia_%=%{x}<br>Sila_sirenia=%{y}<br>Aktivni_celkom=%{marker.size}\", \"hovertext\": [\"Levice\"], \"ids\": [\"Levice\"], \"legendgroup\": \"Region=Levice\", \"marker\": {\"color\": \"#636efa\", \"size\": [4.85], \"sizemode\": \"area\", \"sizeref\": 0.067112, \"symbol\": \"circle\"}, \"mode\": \"markers+text\", \"name\": \"Region=Levice\", \"showlegend\": true, \"text\": [\"Levice\"], \"x\": [-11.0], \"xaxis\": \"x\", \"y\": [2.24], \"yaxis\": \"y\", \"type\": \"scatter\"}, {\"hoverlabel\": {\"namelength\": 0}, \"hovertemplate\": \"<b>%{hovertext}</b><br><br>Region=%{text}<br>Date=2020-10-17<br>Rychlost_sirenia_%=%{x}<br>Sila_sirenia=%{y}<br>Aktivni_celkom=%{marker.size}\", \"hovertext\": [\"Rimavsk\\u00e1 Sobota\"], \"ids\": [\"Rimavsk\\u00e1 Sobota\"], \"legendgroup\": \"Region=Rimavsk\\u00e1 Sobota\", \"marker\": {\"color\": \"#EF553B\", \"size\": [3.71], \"sizemode\": \"area\", \"sizeref\": 0.067112, \"symbol\": \"circle\"}, \"mode\": \"markers+text\", \"name\": \"Region=Rimavsk\\u00e1 Sobota\", \"showlegend\": true, \"text\": [\"Rimavsk\\u00e1 Sobota\"], \"x\": [-49.0], \"xaxis\": \"x\", \"y\": [1.05], \"yaxis\": \"y\", \"type\": \"scatter\"}, {\"hoverlabel\": {\"namelength\": 0}, \"hovertemplate\": \"<b>%{hovertext}</b><br><br>Region=%{text}<br>Date=2020-10-17<br>Rychlost_sirenia_%=%{x}<br>Sila_sirenia=%{y}<br>Aktivni_celkom=%{marker.size}\", \"hovertext\": [\"Bratislava\"], \"ids\": [\"Bratislava\"], \"legendgroup\": \"Region=Bratislava\", \"marker\": {\"color\": \"#00cc96\", \"size\": [16.98], \"sizemode\": \"area\", \"sizeref\": 0.067112, \"symbol\": \"circle\"}, \"mode\": \"markers+text\", \"name\": \"Region=Bratislava\", \"showlegend\": true, \"text\": [\"Bratislava\"], \"x\": [12.0], \"xaxis\": \"x\", \"y\": [9.09], \"yaxis\": \"y\", \"type\": \"scatter\"}, {\"hoverlabel\": {\"namelength\": 0}, \"hovertemplate\": \"<b>%{hovertext}</b><br><br>Region=%{text}<br>Date=2020-10-17<br>Rychlost_sirenia_%=%{x}<br>Sila_sirenia=%{y}<br>Aktivni_celkom=%{marker.size}\", \"hovertext\": [\"Myjava a Skalica\"], \"ids\": [\"Myjava a Skalica\"], \"legendgroup\": \"Region=Myjava a Skalica\", \"marker\": {\"color\": \"#ab63fa\", \"size\": [46.03], \"sizemode\": \"area\", \"sizeref\": 0.067112, \"symbol\": \"circle\"}, \"mode\": \"markers+text\", \"name\": \"Region=Myjava a Skalica\", \"showlegend\": true, \"text\": [\"Myjava a Skalica\"], \"x\": [12.0], \"xaxis\": \"x\", \"y\": [24.66], \"yaxis\": \"y\", \"type\": \"scatter\"}], \"name\": \"2020-10-17\"}, {\"data\": [{\"hoverlabel\": {\"namelength\": 0}, \"hovertemplate\": \"<b>%{hovertext}</b><br><br>Region=%{text}<br>Date=2020-10-24<br>Rychlost_sirenia_%=%{x}<br>Sila_sirenia=%{y}<br>Aktivni_celkom=%{marker.size}\", \"hovertext\": [\"Uhersk\\u00e9 Hradi\\u0161te\"], \"ids\": [\"Uhersk\\u00e9 Hradi\\u0161te\"], \"legendgroup\": \"Region=Uhersk\\u00e9 Hradi\\u0161te\", \"marker\": {\"color\": \"#636efa\", \"size\": [162.6], \"sizemode\": \"area\", \"sizeref\": 0.067112, \"symbol\": \"circle\"}, \"mode\": \"markers+text\", \"name\": \"Region=Uhersk\\u00e9 Hradi\\u0161te\", \"showlegend\": true, \"text\": [\"Uhersk\\u00e9 Hradi\\u0161te\"], \"x\": [49.0], \"xaxis\": \"x\", \"y\": [83.79], \"yaxis\": \"y\", \"type\": \"scatter\"}, {\"hoverlabel\": {\"namelength\": 0}, \"hovertemplate\": \"<b>%{hovertext}</b><br><br>Region=%{text}<br>Date=2020-10-24<br>Rychlost_sirenia_%=%{x}<br>Sila_sirenia=%{y}<br>Aktivni_celkom=%{marker.size}\", \"hovertext\": [\"Tvrdo\\u0161\\u00edn\"], \"ids\": [\"Tvrdo\\u0161\\u00edn\"], \"legendgroup\": \"Region=Tvrdo\\u0161\\u00edn\", \"marker\": {\"color\": \"#EF553B\", \"size\": [167.78], \"sizemode\": \"area\", \"sizeref\": 0.067112, \"symbol\": \"circle\"}, \"mode\": \"markers+text\", \"name\": \"Region=Tvrdo\\u0161\\u00edn\", \"showlegend\": true, \"text\": [\"Tvrdo\\u0161\\u00edn\"], \"x\": [67.0], \"xaxis\": \"x\", \"y\": [105.0], \"yaxis\": \"y\", \"type\": \"scatter\"}, {\"hoverlabel\": {\"namelength\": 0}, \"hovertemplate\": \"<b>%{hovertext}</b><br><br>Region=%{text}<br>Date=2020-10-24<br>Rychlost_sirenia_%=%{x}<br>Sila_sirenia=%{y}<br>Aktivni_celkom=%{marker.size}\", \"hovertext\": [\"N\\u00e1mestovo\"], \"ids\": [\"N\\u00e1mestovo\"], \"legendgroup\": \"Region=N\\u00e1mestovo\", \"marker\": {\"color\": \"#00cc96\", \"size\": [143.02], \"sizemode\": \"area\", \"sizeref\": 0.067112, \"symbol\": \"circle\"}, \"mode\": \"markers+text\", \"name\": \"Region=N\\u00e1mestovo\", \"showlegend\": true, \"text\": [\"N\\u00e1mestovo\"], \"x\": [54.0], \"xaxis\": \"x\", \"y\": [86.67], \"yaxis\": \"y\", \"type\": \"scatter\"}, {\"hoverlabel\": {\"namelength\": 0}, \"hovertemplate\": \"<b>%{hovertext}</b><br><br>Region=%{text}<br>Date=2020-10-24<br>Rychlost_sirenia_%=%{x}<br>Sila_sirenia=%{y}<br>Aktivni_celkom=%{marker.size}\", \"hovertext\": [\"Bardejov\"], \"ids\": [\"Bardejov\"], \"legendgroup\": \"Region=Bardejov\", \"marker\": {\"color\": \"#ab63fa\", \"size\": [131.15], \"sizemode\": \"area\", \"sizeref\": 0.067112, \"symbol\": \"circle\"}, \"mode\": \"markers+text\", \"name\": \"Region=Bardejov\", \"showlegend\": true, \"text\": [\"Bardejov\"], \"x\": [50.0], \"xaxis\": \"x\", \"y\": [78.59], \"yaxis\": \"y\", \"type\": \"scatter\"}, {\"hoverlabel\": {\"namelength\": 0}, \"hovertemplate\": \"<b>%{hovertext}</b><br><br>Region=%{text}<br>Date=2020-10-24<br>Rychlost_sirenia_%=%{x}<br>Sila_sirenia=%{y}<br>Aktivni_celkom=%{marker.size}\", \"hovertext\": [\"Doln\\u00fd Kub\\u00edn\"], \"ids\": [\"Doln\\u00fd Kub\\u00edn\"], \"legendgroup\": \"Region=Doln\\u00fd Kub\\u00edn\", \"marker\": {\"color\": \"#FFA15A\", \"size\": [145.06], \"sizemode\": \"area\", \"sizeref\": 0.067112, \"symbol\": \"circle\"}, \"mode\": \"markers+text\", \"name\": \"Region=Doln\\u00fd Kub\\u00edn\", \"showlegend\": true, \"text\": [\"Doln\\u00fd Kub\\u00edn\"], \"x\": [111.00000000000001], \"xaxis\": \"x\", \"y\": [98.48], \"yaxis\": \"y\", \"type\": \"scatter\"}, {\"hoverlabel\": {\"namelength\": 0}, \"hovertemplate\": \"<b>%{hovertext}</b><br><br>Region=%{text}<br>Date=2020-10-24<br>Rychlost_sirenia_%=%{x}<br>Sila_sirenia=%{y}<br>Aktivni_celkom=%{marker.size}\", \"hovertext\": [\"Liptovsk\\u00fd Mikul\\u00e1\\u0161\"], \"ids\": [\"Liptovsk\\u00fd Mikul\\u00e1\\u0161\"], \"legendgroup\": \"Region=Liptovsk\\u00fd Mikul\\u00e1\\u0161\", \"marker\": {\"color\": \"#19d3f3\", \"size\": [73.75], \"sizemode\": \"area\", \"sizeref\": 0.067112, \"symbol\": \"circle\"}, \"mode\": \"markers+text\", \"name\": \"Region=Liptovsk\\u00fd Mikul\\u00e1\\u0161\", \"showlegend\": true, \"text\": [\"Liptovsk\\u00fd Mikul\\u00e1\\u0161\"], \"x\": [92.0], \"xaxis\": \"x\", \"y\": [48.47], \"yaxis\": \"y\", \"type\": \"scatter\"}, {\"hoverlabel\": {\"namelength\": 0}, \"hovertemplate\": \"<b>%{hovertext}</b><br><br>Region=%{text}<br>Date=2020-10-24<br>Rychlost_sirenia_%=%{x}<br>Sila_sirenia=%{y}<br>Aktivni_celkom=%{marker.size}\", \"hovertext\": [\"Sabinov\"], \"ids\": [\"Sabinov\"], \"legendgroup\": \"Region=Sabinov\", \"marker\": {\"color\": \"#FF6692\", \"size\": [68.03], \"sizemode\": \"area\", \"sizeref\": 0.067112, \"symbol\": \"circle\"}, \"mode\": \"markers+text\", \"name\": \"Region=Sabinov\", \"showlegend\": true, \"text\": [\"Sabinov\"], \"x\": [77.0], \"xaxis\": \"x\", \"y\": [43.44], \"yaxis\": \"y\", \"type\": \"scatter\"}, {\"hoverlabel\": {\"namelength\": 0}, \"hovertemplate\": \"<b>%{hovertext}</b><br><br>Region=%{text}<br>Date=2020-10-24<br>Rychlost_sirenia_%=%{x}<br>Sila_sirenia=%{y}<br>Aktivni_celkom=%{marker.size}\", \"hovertext\": [\"Praha\"], \"ids\": [\"Praha\"], \"legendgroup\": \"Region=Praha\", \"marker\": {\"color\": \"#B6E880\", \"size\": [117.42], \"sizemode\": \"area\", \"sizeref\": 0.067112, \"symbol\": \"circle\"}, \"mode\": \"markers+text\", \"name\": \"Region=Praha\", \"showlegend\": true, \"text\": [\"Praha\"], \"x\": [124.0], \"xaxis\": \"x\", \"y\": [71.35], \"yaxis\": \"y\", \"type\": \"scatter\"}, {\"hoverlabel\": {\"namelength\": 0}, \"hovertemplate\": \"<b>%{hovertext}</b><br><br>Region=%{text}<br>Date=2020-10-24<br>Rychlost_sirenia_%=%{x}<br>Sila_sirenia=%{y}<br>Aktivni_celkom=%{marker.size}\", \"hovertext\": [\"\\u010cadca\"], \"ids\": [\"\\u010cadca\"], \"legendgroup\": \"Region=\\u010cadca\", \"marker\": {\"color\": \"#FF97FF\", \"size\": [53.33], \"sizemode\": \"area\", \"sizeref\": 0.067112, \"symbol\": \"circle\"}, \"mode\": \"markers+text\", \"name\": \"Region=\\u010cadca\", \"showlegend\": true, \"text\": [\"\\u010cadca\"], \"x\": [133.0], \"xaxis\": \"x\", \"y\": [37.33], \"yaxis\": \"y\", \"type\": \"scatter\"}, {\"hoverlabel\": {\"namelength\": 0}, \"hovertemplate\": \"<b>%{hovertext}</b><br><br>Region=%{text}<br>Date=2020-10-24<br>Rychlost_sirenia_%=%{x}<br>Sila_sirenia=%{y}<br>Aktivni_celkom=%{marker.size}\", \"hovertext\": [\"Ro\\u017e\\u0148ava a Rev\\u00faca\"], \"ids\": [\"Ro\\u017e\\u0148ava a Rev\\u00faca\"], \"legendgroup\": \"Region=Ro\\u017e\\u0148ava a Rev\\u00faca\", \"marker\": {\"color\": \"#FECB52\", \"size\": [5.49], \"sizemode\": \"area\", \"sizeref\": 0.067112, \"symbol\": \"circle\"}, \"mode\": \"markers+text\", \"name\": \"Region=Ro\\u017e\\u0148ava a Rev\\u00faca\", \"showlegend\": true, \"text\": [\"Ro\\u017e\\u0148ava a Rev\\u00faca\"], \"x\": [150.0], \"xaxis\": \"x\", \"y\": [3.92], \"yaxis\": \"y\", \"type\": \"scatter\"}, {\"hoverlabel\": {\"namelength\": 0}, \"hovertemplate\": \"<b>%{hovertext}</b><br><br>Region=%{text}<br>Date=2020-10-24<br>Rychlost_sirenia_%=%{x}<br>Sila_sirenia=%{y}<br>Aktivni_celkom=%{marker.size}\", \"hovertext\": [\"Levice\"], \"ids\": [\"Levice\"], \"legendgroup\": \"Region=Levice\", \"marker\": {\"color\": \"#636efa\", \"size\": [6.06], \"sizemode\": \"area\", \"sizeref\": 0.067112, \"symbol\": \"circle\"}, \"mode\": \"markers+text\", \"name\": \"Region=Levice\", \"showlegend\": true, \"text\": [\"Levice\"], \"x\": [-14.000000000000002], \"xaxis\": \"x\", \"y\": [2.81], \"yaxis\": \"y\", \"type\": \"scatter\"}, {\"hoverlabel\": {\"namelength\": 0}, \"hovertemplate\": \"<b>%{hovertext}</b><br><br>Region=%{text}<br>Date=2020-10-24<br>Rychlost_sirenia_%=%{x}<br>Sila_sirenia=%{y}<br>Aktivni_celkom=%{marker.size}\", \"hovertext\": [\"Rimavsk\\u00e1 Sobota\"], \"ids\": [\"Rimavsk\\u00e1 Sobota\"], \"legendgroup\": \"Region=Rimavsk\\u00e1 Sobota\", \"marker\": {\"color\": \"#EF553B\", \"size\": [4.64], \"sizemode\": \"area\", \"sizeref\": 0.067112, \"symbol\": \"circle\"}, \"mode\": \"markers+text\", \"name\": \"Region=Rimavsk\\u00e1 Sobota\", \"showlegend\": true, \"text\": [\"Rimavsk\\u00e1 Sobota\"], \"x\": [-61.0], \"xaxis\": \"x\", \"y\": [1.31], \"yaxis\": \"y\", \"type\": \"scatter\"}, {\"hoverlabel\": {\"namelength\": 0}, \"hovertemplate\": \"<b>%{hovertext}</b><br><br>Region=%{text}<br>Date=2020-10-24<br>Rychlost_sirenia_%=%{x}<br>Sila_sirenia=%{y}<br>Aktivni_celkom=%{marker.size}\", \"hovertext\": [\"Bratislava\"], \"ids\": [\"Bratislava\"], \"legendgroup\": \"Region=Bratislava\", \"marker\": {\"color\": \"#00cc96\", \"size\": [21.23], \"sizemode\": \"area\", \"sizeref\": 0.067112, \"symbol\": \"circle\"}, \"mode\": \"markers+text\", \"name\": \"Region=Bratislava\", \"showlegend\": true, \"text\": [\"Bratislava\"], \"x\": [15.0], \"xaxis\": \"x\", \"y\": [11.36], \"yaxis\": \"y\", \"type\": \"scatter\"}, {\"hoverlabel\": {\"namelength\": 0}, \"hovertemplate\": \"<b>%{hovertext}</b><br><br>Region=%{text}<br>Date=2020-10-24<br>Rychlost_sirenia_%=%{x}<br>Sila_sirenia=%{y}<br>Aktivni_celkom=%{marker.size}\", \"hovertext\": [\"Myjava a Skalica\"], \"ids\": [\"Myjava a Skalica\"], \"legendgroup\": \"Region=Myjava a Skalica\", \"marker\": {\"color\": \"#ab63fa\", \"size\": [57.53], \"sizemode\": \"area\", \"sizeref\": 0.067112, \"symbol\": \"circle\"}, \"mode\": \"markers+text\", \"name\": \"Region=Myjava a Skalica\", \"showlegend\": true, \"text\": [\"Myjava a Skalica\"], \"x\": [15.0], \"xaxis\": \"x\", \"y\": [30.82], \"yaxis\": \"y\", \"type\": \"scatter\"}], \"name\": \"2020-10-24\"}]);\n",
       "                        }).then(function(){\n",
       "                            \n",
       "var gd = document.getElementById('04d1807b-1a3c-4da3-894b-63854c8101db');\n",
       "var x = new MutationObserver(function (mutations, observer) {{\n",
       "        var display = window.getComputedStyle(gd).display;\n",
       "        if (!display || display === 'none') {{\n",
       "            console.log([gd, 'removed!']);\n",
       "            Plotly.purge(gd);\n",
       "            observer.disconnect();\n",
       "        }}\n",
       "}});\n",
       "\n",
       "// Listen for the removal of the full notebook cells\n",
       "var notebookContainer = gd.closest('#notebook-container');\n",
       "if (notebookContainer) {{\n",
       "    x.observe(notebookContainer, {childList: true});\n",
       "}}\n",
       "\n",
       "// Listen for the clearing of the current output cell\n",
       "var outputEl = gd.closest('.output');\n",
       "if (outputEl) {{\n",
       "    x.observe(outputEl, {childList: true});\n",
       "}}\n",
       "\n",
       "                        })\n",
       "                };\n",
       "                });\n",
       "            </script>\n",
       "        </div>"
      ]
     },
     "metadata": {},
     "output_type": "display_data"
    }
   ],
   "source": [
    "fig = px.scatter(data,x='Rychlost_sirenia_%', y='Sila_sirenia',text='Region', animation_frame='Date',\n",
    "                 animation_group='Region',size='Aktivni_celkom', \n",
    "                 color='Region',\n",
    "                 hover_name='Region', log_x=False, \n",
    "                 size_max=50, range_x=[-70,150], range_y=[0,115]\n",
    "                )\n",
    "\n",
    "fig.update_traces(mode='markers', marker=dict(sizemode='area',))\n",
    "fig.update_layout(\n",
    "    title='covid',\n",
    "    xaxis=dict(\n",
    "        title='Rychlost Sirenia (% narast pripadov za 7 dni (na 10tis. obyvatelov))',\n",
    "        gridcolor='white',\n",
    "#         type='log',\n",
    "        gridwidth=1,\n",
    "    ),\n",
    "    yaxis=dict(\n",
    "        title='Sila Sirenia (pocet novych pripadov za 7 dni (na 10tis. obyvatelov))',\n",
    "        gridcolor='white',\n",
    "        gridwidth=1,\n",
    "    ),\n",
    "    paper_bgcolor='rgb(243, 243, 243)',\n",
    "    plot_bgcolor='rgb(243, 243, 243)',\n",
    ")\n",
    "fig.layout.updatemenus[0].buttons[0].args[1]['frame']['duration'] = 700\n",
    "fig.show()"
   ]
  },
  {
   "cell_type": "code",
   "execution_count": null,
   "metadata": {},
   "outputs": [],
   "source": [
    "#https://plotly.com/python/animations/"
   ]
  }
 ],
 "metadata": {
  "kernelspec": {
   "display_name": "Python 3",
   "language": "python",
   "name": "python3"
  },
  "language_info": {
   "codemirror_mode": {
    "name": "ipython",
    "version": 3
   },
   "file_extension": ".py",
   "mimetype": "text/x-python",
   "name": "python",
   "nbconvert_exporter": "python",
   "pygments_lexer": "ipython3",
   "version": "3.7.4"
  }
 },
 "nbformat": 4,
 "nbformat_minor": 4
}
